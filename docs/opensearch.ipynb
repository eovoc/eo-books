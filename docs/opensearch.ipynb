{
 "cells": [
  {
   "cell_type": "markdown",
   "id": "e7eafdc9",
   "metadata": {},
   "source": [
    "# OpenSearch with Atom\n",
    "\n",
    "This notebook explains the use of the OpenSearch interface with Atom response format to access collection and granule metadata according to the two-step mechanism recommended by CEOS Best Practices [[RD1]](#RD1)."
   ]
  },
  {
   "cell_type": "markdown",
   "id": "b443ed73",
   "metadata": {},
   "source": [
    "## Overview  \n",
    " The subjects covered in this notebook are:    \n",
    " * [Colllection Search](#collection-search) \n",
    "   * [Access API Description](#access-api-description)\n",
    "   * [Search by free text](#search-by-free-text)\n",
    "   * [Search by title](#search-by-title)\n",
    "   * [Search by free text](#search-by-platform)\n",
    "   * [Search by instrument](#search-by-instrument)\n",
    "   * [Search by organisation](#search-by-organisation)\n",
    "   * [Search by identifier](#search-by-identifier)\n",
    "   * [Search by concept](#search-by-concept)\n",
    " * [Colllection Properties](#collection-properties) \n",
    "   * [Collection geometry](#collection-geometry) \n",
    "   * [Collection temporal extent](#collection-temporal-extent) \n",
    "   * [Collection identifier](#collection-identifier) \n",
    "   * [Collection keywords](#collection-keywords) \n",
    "   * [Collection other representations](#collection-other-representations) \n",
    "   * [Collection embedding other formats](#collection-embedding-other-formats) \n",
    "   * [Collection related documentation](#collection-related-documentation) \n",
    " * [Granule Search](#granule-search) \n",
    "   * [Access API Description](#granule-access-api-description)\n",
    "   * [Search by bounding box](#granule-search-by-bounding-box)\n",
    "   * [Search by geometry](#granule-search-by-geometry)\n",
    "   * [Search by temporal extent](#granule-search-by-temporal-extent)\n",
    "   * [Search by identifier](#granule-search-by-identifier)\n",
    " * [Granule Properties](#granule-properties) \n",
    "   * [Geometry](#geometry) \n",
    "   * [Temporal extent](#temporal-extent) \n",
    "   * [Granule identifier](#granule-identifier) \n",
    "   * [Quicklook](#quicklook)\n",
    "   * [Granule download](#granule-download)\n",
    "   * [Other representations](#other-representations) \n",
    "   * [Embedding other formats](#embedding-other-formats) \n",
    " * [Advanced Topics](#advanced-topics)\n",
    "   * [Result paging](#result-paging)\n",
    "   * [Sorting results](#sorting-results)\n",
    "   * [Faceted search](#faceted-search)\n",
    "   * [Content negotiation](#content-negotiation)\n",
    " * [Further Reading](#further-reading)"
   ]
  },
  {
   "cell_type": "code",
   "execution_count": null,
   "id": "807d959a",
   "metadata": {
    "tags": [
     "remove-cell"
    ]
   },
   "outputs": [],
   "source": [
    "#:tags: [remove-cell]\n",
    "import json, requests, xml\n",
    "import pandas as pd\n",
    "from xml.dom import minidom\n",
    "from IPython.display import Image\n",
    "\n",
    "from xml.etree import ElementTree\n",
    "import ipywidgets as widgets\n",
    "\n",
    "from IPython.display import HTML\n",
    "from IPython.display import Markdown as md\n",
    "\n",
    "import re\n",
    "\n",
    "# %pip install ipyleaflet\n",
    "from ipyleaflet import (Map, GeoData, basemaps, WidgetControl, GeoJSON, Polygon,\n",
    "   LayersControl, Icon, Marker, basemap_to_tiles, Choropleth,\n",
    "   MarkerCluster, Heatmap, SearchControl, \n",
    "   FullScreenControl)\n",
    "\n",
    "# from lxml import etree\n",
    "\n",
    "# Select the top-level OSDD from which the user will be able to choose.\n",
    "url_osdd_choices = [ \n",
    "    'https://eocat.esa.int' + '/opensearch/description.xml' ,\n",
    "    'https://fedeo.ceos.org' + '/opensearch/description.xml' ,\n",
    "    'https://eovoc.spacebel.be' + '/api?httpAccept=application%2Fopensearchdescription%2Bxml' ,  # original\n",
    "   # 'https://eovoc.spacebel.be' + '/api?httpAccept=application/opensearchdescription+xml' ,\n",
    "   # 'https://eovoc.spacebel.be' + '/api' ,\n",
    "    \n",
    "    'https://geo.spacebel.be' + '/opensearch/description.xml' ]\n",
    "\n",
    "url_explain_choices = [ \n",
    "    'https://eocat.esa.int' + '/opensearch/request' ,\n",
    "    'https://fedeo.ceos.org' + '/opensearch/request' ,\n",
    "    'https://eovoc.spacebel.be' + '/api?httpAccept=application/sru%2Bxml' ,\n",
    "    'https://geo.spacebel.be' + '/opensearch/request' ]\n",
    "\n",
    "\n",
    "# url_explain = 'https://fedeo.ceos.org' + '/opensearch/request'\n",
    "# url_explain = 'https://eovoc.spacebel.be' + '/api?httpAccept=application/sru%2Bxml'\n",
    "\n",
    "# Verification of SSL certificate is to be set to False for the eocat endpoint to work.\n",
    "# verify_ssl = False\n",
    "verify_ssl = False"
   ]
  },
  {
   "cell_type": "code",
   "execution_count": null,
   "id": "d834a11a",
   "metadata": {
    "tags": [
     "remove-cell"
    ]
   },
   "outputs": [],
   "source": [
    "#:tags: [remove-cell]\n",
    "def load_dataframe( resp ):\n",
    "  \n",
    "  df = pd.DataFrame(columns=['dc:identifier', 'atom:title', 'atom:updated', 'atom:link[rel=\"search\"]', 'atom:link[rel=\"enclosure\"]', 'atom:link[rel=\"icon\"]'])\n",
    "\n",
    "  rt = ElementTree.fromstring(response.text)\n",
    "  for r in rt.findall('{http://www.w3.org/2005/Atom}entry'):\n",
    "     name = r.find('{http://purl.org/dc/elements/1.1/}identifier').text\n",
    "     title = r.find('{http://www.w3.org/2005/Atom}title').text\n",
    "     updated = r.find('{http://www.w3.org/2005/Atom}updated').text\n",
    "     dcdate = r.find('{http://purl.org/dc/elements/1.1/}date').text\n",
    "     # print('collection',count,'-', name, ':')\n",
    "     # print('\\tidentifier: ',name)\n",
    "     \n",
    "     try:\n",
    "         href = r.find('{http://www.w3.org/2005/Atom}link[@rel=\"search\"][@type=\"application/opensearchdescription+xml\"]').attrib['href']\n",
    "     except AttributeError:\n",
    "         href= ''\n",
    "\n",
    "     try:\n",
    "         rel_enclosure = r.find('{http://www.w3.org/2005/Atom}link[@rel=\"enclosure\"]').attrib['href']\n",
    "     except AttributeError:\n",
    "         rel_enclosure= ''\n",
    "\n",
    "     try:\n",
    "         rel_icon = r.find('{http://www.w3.org/2005/Atom}link[@rel=\"icon\"]').attrib['href']\n",
    "     except AttributeError:\n",
    "         rel_icon= ''\n",
    "\n",
    "     # append a row to the df \n",
    "     new_row = { 'dc:identifier': name, 'atom:title': title, 'dc:date': dcdate, 'atom:updated': updated, 'atom:link[rel=\"search\"]': href, \n",
    "        'atom:link[rel=\"enclosure\"]': rel_enclosure , 'atom:link[rel=\"icon\"]': rel_icon}\n",
    "     df = df.append(new_row, ignore_index=True)\n",
    "\n",
    "  return df\n",
    "\n",
    "def load_facet( root, facet ):\n",
    "  # create dataframe with information about 'facet' found in XML tree with 'root\".\n",
    "  ns = {'sru': 'http://a9.com/-/opensearch/extensions/sru/2.0/'}\n",
    "  el = root.find('.//sru:facet[sru:index=\"' + facet + '\"]', ns)\n",
    "  \n",
    "  df = pd.DataFrame(columns=['name', 'count'])\n",
    "\n",
    "  for r in el.findall('.//sru:term', ns):\n",
    "     name = r.find('sru:actualTerm', ns).text\n",
    "     count = r.find('sru:count', ns).text\n",
    "    \n",
    "     # append a row to the df \n",
    "     new_row = { 'name': name, 'count': int(count) }\n",
    "     df = df.append(new_row, ignore_index=True)\n",
    "\n",
    "  df.set_index('name', inplace=True)\n",
    "  return df\n",
    "\n",
    "\n",
    "def show_features_on_map( georss_box, georss_polygon ):\n",
    "  # display map showing the 'polygon' and use center of 'box' to center the map.\n",
    "  list1 = georss_polygon.split()\n",
    "  list2 = georss_box.split()\n",
    "      \n",
    "  points = []    \n",
    "  for i in range(0,len(list1),2):\n",
    "      # print (list2[i], list2[i+1])\n",
    "      points = points + [ (float(list1[i]), float(list1[i+1])) ]\n",
    "      \n",
    "  # use center of the bounding box.\n",
    "  try:\n",
    "         center = [ (float(list2[0])+float(list2[2]))/2.0 , (float(list2[1])+float(list2[3]))/2.0 ]  \n",
    "  except:\n",
    "         # default center and zoom factor for an empty map\n",
    "         center = [50.85, 4.3488]\n",
    "         zoom = 3\n",
    "         \n",
    "  m = Map(basemap=basemaps.OpenStreetMap.Mapnik, center=center)\n",
    "  polygon = Polygon(locations=points, color=\"green\", fill_color=\"green\")\n",
    "  m.add_layer(polygon)\n",
    "  m.add_control(FullScreenControl())\n",
    "  m.add_control(LayersControl(position='topright'))\n",
    "  \n",
    "  return m"
   ]
  },
  {
   "cell_type": "code",
   "execution_count": null,
   "id": "91bb474b",
   "metadata": {
    "tags": [
     "remove-cell"
    ]
   },
   "outputs": [],
   "source": [
    "#:tags: [remove-cell]\n",
    "\n",
    "import re;\n",
    "\n",
    "def get_api_request(template, os_querystring):\n",
    "  # Fill (URL) template with OpenSearch parameter values provided in os_querystring and return as short HTTP URL without empty parameters.\n",
    "  \n",
    "  print(\"URL template: \" + template)\n",
    "      \n",
    "  # perform substitutions in template\n",
    "  for p in os_querystring:\n",
    "      print(\"  .. replacing:\", p, \"by\", os_querystring[p])\n",
    "      template = re.sub('\\{'+p+'.*?\\}', os_querystring[p] , template)\n",
    "      # print(\"- intermediate new template:\" + template)\n",
    "      \n",
    "  # remove empty search parameters\n",
    "  template=re.sub('&?[a-zA-Z]*=\\{.*?\\}', '' , template)\n",
    "  # print(\"- Shorter template step 1: \" + template)\n",
    "  \n",
    "  # remove remaining empty search parameters which did not have an HTTP query parameter attached (e.g. time:end).\n",
    "  template=re.sub('\\{.*?\\}', '' , template)\n",
    "  \n",
    "  print(\"API request: \" + template)\n",
    "            \n",
    "  return (template)"
   ]
  },
  {
   "cell_type": "markdown",
   "id": "39127621",
   "metadata": {},
   "source": [
    "The Notebook can be used with a number of different endpoints.  Change the OSDD to be used for collection search by executing the notebook."
   ]
  },
  {
   "cell_type": "code",
   "execution_count": null,
   "id": "eda4cb72",
   "metadata": {
    "tags": [
     "remove-cell"
    ]
   },
   "outputs": [],
   "source": [
    "#:tags: [remove-cell]\n",
    "list = widgets.Dropdown(options=url_osdd_choices, description=\"Select OSDD\", index=0)\n",
    "list"
   ]
  },
  {
   "cell_type": "code",
   "execution_count": null,
   "id": "38debed1",
   "metadata": {
    "tags": [
     "remove-input"
    ]
   },
   "outputs": [],
   "source": [
    "#:tags: [remove-input]\n",
    "# Get the selected OSDD endpoint from the list.\n",
    "url_osdd = list.value\n",
    "# select the corresponding url_explain accoridng to the list selection\n",
    "url_explain = url_explain_choices[list.index]\n",
    "\n",
    "# remove next line\n",
    "# url_osdd = url_osdd_choices[1]\n",
    "\n",
    "url_osdd"
   ]
  },
  {
   "cell_type": "markdown",
   "id": "eff3e712",
   "metadata": {},
   "source": [
    "##  Collection Search"
   ]
  },
  {
   "cell_type": "markdown",
   "id": "3a159925",
   "metadata": {},
   "source": [
    "### Access API Description"
   ]
  },
  {
   "cell_type": "code",
   "execution_count": null,
   "id": "b951e0c6",
   "metadata": {
    "tags": [
     "remove-input"
    ]
   },
   "outputs": [],
   "source": [
    "#:tags: [remove-input]\n",
    "md(\"The OpenSearch Description Document is accessible at the fixed location [{url}]({url}) and contains the URL template to be used for collection search.\".format(url=url_osdd))"
   ]
  },
  {
   "cell_type": "markdown",
   "id": "4623d246",
   "metadata": {},
   "source": [
    "**Example: 2.1**  \n",
    ">  Access the API Description in OpenSearch Description Document (OSDD) format."
   ]
  },
  {
   "cell_type": "code",
   "execution_count": null,
   "id": "c65d49bd",
   "metadata": {
    "tags": [
     "output_scroll"
    ]
   },
   "outputs": [],
   "source": [
    "# response = requests.get(url_osdd, verify=bool(verify_ssl), headers={'Accept': 'application/opensearchdescription+xml'})\n",
    "# above does not work for eovoc (from inside Spacebel)\n",
    "response = requests.get(url_osdd, verify=bool(verify_ssl) )\n",
    "\n",
    "xmlstr = minidom.parseString(response.text).toprettyxml(indent='  ',newl='')\n",
    "md(\"```xml\\n\" + xmlstr + \"\\n```\\n\")"
   ]
  },
  {
   "cell_type": "code",
   "execution_count": null,
   "id": "17f172a3",
   "metadata": {
    "tags": [
     "remove-input"
    ]
   },
   "outputs": [],
   "source": [
    "#:tags: [remove-input]\n",
    "md(\"The Explain Document is accessible at the location [{url}]({url}) and contains additional information about the API such as default values, definitions of available record schemas at `/explain/responseFormats` etc.\".format(url=url_explain))"
   ]
  },
  {
   "cell_type": "markdown",
   "id": "7eabe8c7",
   "metadata": {},
   "source": [
    "**Example: 2.2**  \n",
    ">  Extract all URL templates from the OSDD. \n",
    "\n",
    "The OSDD may contain URL templates for multiple values for `type` (media types) and multiple values for `rel` (relations).  The `rel` values have the following meaning (if present) as defined in [[RD1]](#RD1). :\n",
    "\n",
    "| **rel** |  **description**  | \n",
    "| ----- | ----- |\n",
    "| collection |  URL template to be used for collection search.  |\n",
    "| results |  URL template to be used for granule search (default).  |\n",
    "| service |  URL template to be used for service or application search.  |"
   ]
  },
  {
   "cell_type": "code",
   "execution_count": null,
   "id": "d8554c29",
   "metadata": {
    "tags": [
     "output_scroll"
    ]
   },
   "outputs": [],
   "source": [
    "from xml.etree import ElementTree\n",
    "root = ElementTree.fromstring(response.text)\n",
    "\n",
    "list = pd.DataFrame(columns=['rel', 'type'])\n",
    "ns = {'os': 'http://a9.com/-/spec/opensearch/1.1/'}\n",
    "for r in root.findall('os:Url', ns):  \n",
    "    rel = ''\n",
    "    mtype = ''\n",
    "    try:\n",
    "        rel   = r.attrib['rel']\n",
    "        mtype = r.attrib['type']\n",
    "    except:\n",
    "        pass\n",
    "    list = list.append( { 'rel': rel, 'type': mtype }, ignore_index=True )\n",
    "    \n",
    "list\n",
    "     "
   ]
  },
  {
   "cell_type": "markdown",
   "id": "b0cb0cf6",
   "metadata": {},
   "source": [
    "<a name='selecting-mediatype-in-osdd'></a>   \n",
    "**Example: 2.3**  \n",
    ">  Extract collection search URL template for Atom  \n",
    "\n",
    "Extract the URL template for collection search `rel=\"collection\"` corresponding to the media type `type=\"application/atom+xml\"` of the search result."
   ]
  },
  {
   "cell_type": "code",
   "execution_count": null,
   "id": "227870f7",
   "metadata": {
    "tags": [
     "output_scroll"
    ]
   },
   "outputs": [],
   "source": [
    "from xml.etree import ElementTree\n",
    "root = ElementTree.fromstring(response.text)\n",
    "\n",
    "ns = {'os': 'http://a9.com/-/spec/opensearch/1.1/'}\n",
    "collection_url_atom = root.find('os:Url[@rel=\"collection\"][@type=\"application/atom+xml\"]', ns)\n",
    "\n",
    "template = collection_url_atom.attrib['template']\n",
    "collection_template = template\n",
    "print('Collection search template: ', template)"
   ]
  },
  {
   "cell_type": "markdown",
   "id": "586b5015",
   "metadata": {},
   "source": [
    "### Search by free text"
   ]
  },
  {
   "cell_type": "markdown",
   "id": "e1d194bf",
   "metadata": {},
   "source": [
    "**Example: 2.4**  \n",
    ">  Search collections by free text {searchTerms}"
   ]
  },
  {
   "cell_type": "code",
   "execution_count": null,
   "id": "55031bde",
   "metadata": {
    "tags": [
     "output_scroll"
    ]
   },
   "outputs": [],
   "source": [
    "osquerystring = {}\n",
    "osquerystring['count'] = '1'\n",
    "osquerystring['searchTerms'] = 'forestry'\n",
    "\n",
    "request_url = get_api_request(template, osquerystring)\n",
    "\n",
    "response = requests.get(request_url, verify=bool(verify_ssl))\n",
    "xmlstr = minidom.parseString(response.text).toprettyxml(indent='   ', newl='')\n",
    "md(\"```xml\\n\" + xmlstr + \"\\n```\\n\")"
   ]
  },
  {
   "cell_type": "markdown",
   "id": "5173bb46",
   "metadata": {},
   "source": [
    "<a name='Collection-Search-by-Title'></a>     \n",
    "### Search by title"
   ]
  },
  {
   "cell_type": "markdown",
   "id": "73243697",
   "metadata": {},
   "source": [
    "**Example: 2.5**  \n",
    ">  Search collections by title {dc:title}"
   ]
  },
  {
   "cell_type": "code",
   "execution_count": null,
   "id": "9c4eb643",
   "metadata": {
    "tags": [
     "output_scroll"
    ]
   },
   "outputs": [],
   "source": [
    "osquerystring = {}\n",
    "osquerystring['dc:title'] = 'Column'\n",
    "\n",
    "request_url = get_api_request(template, osquerystring)\n",
    "response = requests.get(request_url, verify=bool(verify_ssl))\n",
    "\n",
    "rt = ElementTree.fromstring(response.text)\n",
    "# Get title of all entries in result page\n",
    "for r in rt.findall('{http://www.w3.org/2005/Atom}entry'):\n",
    "     title = r.find('{http://www.w3.org/2005/Atom}title').text\n",
    "     print(\"title: \", title)"
   ]
  },
  {
   "cell_type": "markdown",
   "id": "86eaf2e6",
   "metadata": {},
   "source": [
    "<a name='Collection-Search-by-Platform'></a>     \n",
    "### Search by platform"
   ]
  },
  {
   "cell_type": "markdown",
   "id": "2019d103",
   "metadata": {},
   "source": [
    "The `<url>` element contains additional information about the parameters available in the template using the OpenSearch Parameter extension syntax.  For example, the `eo:platform` parameter provides the following additional information, including the list of possible values for which the server can provide results."
   ]
  },
  {
   "cell_type": "markdown",
   "id": "0bdc5550",
   "metadata": {},
   "source": [
    "**Example: 2.6**  \n",
    ">  Extract available values for the `eo:platform` parameter from the OSDD."
   ]
  },
  {
   "cell_type": "code",
   "execution_count": null,
   "id": "88c79244",
   "metadata": {
    "tags": [
     "output_scroll"
    ]
   },
   "outputs": [],
   "source": [
    "# Extract <Parameter> element for eo:platform\n",
    "el = collection_url_atom.find('{http://a9.com/-/spec/opensearch/extensions/parameters/1.0/}Parameter[@value=\"{eo:platform}\"]')\n",
    "\n",
    "# el2 = ElementTree.indent(el)\n",
    "# https://docs.python.org/3/library/xml.etree.elementtree.html\n",
    "xmltxt = ElementTree.tostring(el, encoding='unicode', method='xml')\n",
    "md(\"```xml\\n\" + xmltxt + \"\\n```\\n\")\n",
    "\n",
    "# todo: add output scrolling tag to the cell output tag: \"output_scroll\"\n",
    "# insert Markdown string in an HTML frame with scrollbar ?"
   ]
  },
  {
   "cell_type": "markdown",
   "id": "71178eee",
   "metadata": {},
   "source": [
    "**Example: 2.7**  \n",
    ">  Search collections by platform {eo:platform} [[RD3]](#RD3). \n",
    "\n",
    "Search parameters which are optional can be skipped in the search template or their value can be left empty.\n",
    "Prepare a search request by replacing all mandatory search parameters with a value.  \n",
    "\n",
    "By default, each `<atom:entry>` represents one search result (an EO collection) and the search response contains faceted search results under the element `<sru:facetedResults>`.  The faceted search information groups the results by `platform`, by `instrument`, by `organisation` etc.  The original metadata for the collection is not embedded in the response but available as an `atom:link`."
   ]
  },
  {
   "cell_type": "code",
   "execution_count": null,
   "id": "a39b2a71",
   "metadata": {
    "tags": [
     "output_scroll"
    ]
   },
   "outputs": [],
   "source": [
    "osquerystring = {}\n",
    "osquerystring['eo:platform'] = 'proba-1'\n",
    "osquerystring['count'] = '2'\n",
    "\n",
    "request_url = get_api_request(template, osquerystring)\n",
    "response = requests.get(request_url, verify=bool(verify_ssl))\n",
    "\n",
    "xmlstr = minidom.parseString(response.text).toprettyxml(indent='   ', newl='')\n",
    "md(\"```xml\\n\" + xmlstr + \"\\n```\\n\")"
   ]
  },
  {
   "cell_type": "markdown",
   "id": "bcb36cd6",
   "metadata": {},
   "source": [
    "The above response indicates the number of results (`totalResults`) and contains information about a number of collections including a link to the OSDD document to use for granule search.  If more than TBD records are found, then the results are returned in pages and paging links are included to navigate to the next results (`rel=next`)."
   ]
  },
  {
   "cell_type": "code",
   "execution_count": null,
   "id": "df4d49a6",
   "metadata": {
    "tags": [
     "output_scroll"
    ]
   },
   "outputs": [],
   "source": [
    "root = ElementTree.fromstring(response.text)\n",
    "\n",
    "# extract total results\n",
    "el = root.find('{http://a9.com/-/spec/opensearch/1.1/}totalResults')\n",
    "print('totalResults: ', el.text)\n",
    "\n",
    "dataframe = load_dataframe(response)\n",
    "dataframe.head(20)\n",
    "\n",
    "url_osdd_granules = dataframe.iat[0,3]\n",
    "print(url_osdd_granules)"
   ]
  },
  {
   "cell_type": "markdown",
   "id": "906deab7",
   "metadata": {},
   "source": [
    "**Example: 2.8**  \n",
    ">  Obtain allowed values for {sru:recordSchema} from the OSDD.   \n",
    "\n",
    " \n",
    "The OSDD template lists the `sur:recordSchema` values that can be used in a collection search request.  They correspond to metadata formats that can be directly embedded in the Search response.  The value `server-choice` can be used to allow the server to propose an appropriate metadata encoding.\n",
    "\n",
    "The shortnames used for some of the recordSchemas are for backward compatibility and they are explained in the Explain document."
   ]
  },
  {
   "cell_type": "code",
   "execution_count": null,
   "id": "6cc9fc34",
   "metadata": {
    "tags": [
     "output_scroll"
    ]
   },
   "outputs": [],
   "source": [
    "# Extract <Parameter> element for sru:recordSchema\n",
    "el = collection_url_atom.find('{http://a9.com/-/spec/opensearch/extensions/parameters/1.0/}Parameter[@value=\"{sru:recordSchema}\"]')\n",
    "xmltxt = ElementTree.tostring(el, encoding='unicode', method='xml')\n",
    "md(\"```xml\\n\" + xmltxt + \"\\n```\\n\")"
   ]
  },
  {
   "cell_type": "markdown",
   "id": "d022f4bd",
   "metadata": {},
   "source": [
    "**Example: 2.9**  \n",
    ">  Use of parameters {sru:recordSchema} and facetLimit.   \n",
    "\n",
    "\n",
    "The following request is similar to the one above, but requests to embed the complete collection metadata inside the search response (`recordSchema=server-choice`) and disables the faceted search information (`facetLimit=0`)."
   ]
  },
  {
   "cell_type": "code",
   "execution_count": null,
   "id": "af65d67a",
   "metadata": {
    "tags": [
     "output_scroll"
    ]
   },
   "outputs": [],
   "source": [
    "osquerystring = {}\n",
    "osquerystring['eo:platform'] = 'proba-1'\n",
    "osquerystring['sru:recordSchema'] = 'server-choice'\n",
    "# issue: sru:facetLimit is not advertised in OSDD.\n",
    "osquerystring['sru:facetLimit'] = '0'\n",
    "\n",
    "request_url = get_api_request(template, osquerystring)\n",
    "response = requests.get(request_url, verify=bool(verify_ssl))\n",
    "\n",
    "xmlstr = minidom.parseString(response.text).toprettyxml(indent='   ',newl='')\n",
    "md(\"```xml\\n\" + xmlstr + \"\\n```\\n\")"
   ]
  },
  {
   "cell_type": "markdown",
   "id": "e06894d6",
   "metadata": {},
   "source": [
    "<a name='Collection-Search-by-Instrument'></a>     \n",
    "### Search by instrument"
   ]
  },
  {
   "cell_type": "markdown",
   "id": "a22ff72c",
   "metadata": {},
   "source": [
    "**Example: 2.10**  \n",
    ">  Search collections by instrument {eo:instrument} [[RD3]](#RD3)."
   ]
  },
  {
   "cell_type": "code",
   "execution_count": null,
   "id": "9a1afd03",
   "metadata": {
    "tags": [
     "output_scroll"
    ]
   },
   "outputs": [],
   "source": [
    "osquerystring = {}\n",
    "osquerystring['eo:instrument'] = 'SAR'\n",
    "\n",
    "request_url = get_api_request(template, osquerystring)\n",
    "response = requests.get(request_url, verify=bool(verify_ssl))\n",
    "\n",
    "rt = ElementTree.fromstring(response.text)\n",
    "# Get title of all entries in result page\n",
    "for r in rt.findall('{http://www.w3.org/2005/Atom}entry'):\n",
    "     title = r.find('{http://www.w3.org/2005/Atom}title').text\n",
    "     print(\"title: \", title)"
   ]
  },
  {
   "cell_type": "markdown",
   "id": "58068ce3",
   "metadata": {},
   "source": [
    "<a name='Collection-Search-by-Organisation'></a>     \n",
    "### Search by organisation"
   ]
  },
  {
   "cell_type": "markdown",
   "id": "aef7e3a7",
   "metadata": {},
   "source": [
    "**Example: 2.11**  \n",
    ">  Search collections by organisation {eo:organisationName} [[RD3]](#RD3)."
   ]
  },
  {
   "cell_type": "code",
   "execution_count": null,
   "id": "243e4922",
   "metadata": {
    "tags": [
     "output_scroll"
    ]
   },
   "outputs": [],
   "source": [
    "osquerystring = {}\n",
    "osquerystring['eo:organisationName'] = 'ESA/ESRIN'\n",
    "\n",
    "request_url = get_api_request(template, osquerystring)\n",
    "response = requests.get(request_url, verify=bool(verify_ssl))\n",
    "\n",
    "rt = ElementTree.fromstring(response.text)\n",
    "# Get title of all entries in result page\n",
    "for r in rt.findall('{http://www.w3.org/2005/Atom}entry'):\n",
    "     title = r.find('{http://www.w3.org/2005/Atom}title').text\n",
    "     print(\"title: \", title)"
   ]
  },
  {
   "cell_type": "markdown",
   "id": "c9e3a1fb",
   "metadata": {},
   "source": [
    "<a name='Collection-Search-by-Identifier'></a>     \n",
    "### Search by identifier"
   ]
  },
  {
   "cell_type": "markdown",
   "id": "ec19fdba",
   "metadata": {},
   "source": [
    "**Example: 2.12**  \n",
    ">  Search collections by identifier {geo:uid} [[RD2]](#RD2). \n",
    "\n",
    "The `geo:uid` optionally combined with a subcatalogue identifier `eo:parentIdentifier` allows retrieving collection metadata for a specific collection."
   ]
  },
  {
   "cell_type": "code",
   "execution_count": null,
   "id": "76c78d40",
   "metadata": {
    "tags": [
     "output_scroll"
    ]
   },
   "outputs": [],
   "source": [
    "osquerystring = {}\n",
    "osquerystring['geo:uid'] = 'PROBA.HRC.1A' \n",
    "\n",
    "request_url = get_api_request(template, osquerystring)\n",
    "response = requests.get(request_url, verify=bool(verify_ssl))\n",
    "\n",
    "xmlstr = minidom.parseString(response.text).toprettyxml(indent='   ', newl='')\n",
    "md(\"```xml\\n\" + xmlstr + \"\\n```\\n\")"
   ]
  },
  {
   "cell_type": "markdown",
   "id": "9b3311fb",
   "metadata": {},
   "source": [
    "### Search by concept"
   ]
  },
  {
   "cell_type": "markdown",
   "id": "629f91e5",
   "metadata": {},
   "source": [
    "**Example: 2.13**  \n",
    ">  Search collections by concept URI {semantic:classifiedAs}  - TBD: not working on OVH ?\n",
    "\n",
    "Collection metadata includes platform, instrument and science keywords, including the URI of these concepts expressed in the ESA Thesauri (https://thesauri.spacebel.be/) and NASA GCMD thesauri.  The URI of these concepts can be used as search parameter.  \n",
    "\n",
    "In the current version of the software, the following concept URI are supported:\n",
    "\n",
    "* GCMD thesaurus science keyword URI\n",
    "* ESA thesaurus platform URI\n",
    "* ESA thesaurus instrument URI\n",
    "\n",
    "Future versions of the software derived from the EOVOC developments may support both GCMD and ESA URI for all three categories in addition to GEMET, INSPIRE Themes, Dbpedia, Wikidata and other URI."
   ]
  },
  {
   "cell_type": "code",
   "execution_count": null,
   "id": "9e5b6453",
   "metadata": {
    "tags": [
     "output_scroll"
    ]
   },
   "outputs": [],
   "source": [
    "osquerystring = {}\n",
    "# Proba-1 concept in ESA thesaurus\n",
    "osquerystring['semantic:classifiedAs'] = 'https://earth.esa.int/concept/b3979ff2-d27d-5f22-9e06-a18c5759d9a5'\n",
    "\n",
    "request_url = get_api_request(template, osquerystring)\n",
    "response = requests.get(request_url, verify=bool(verify_ssl))\n",
    "\n",
    "dataframe = load_dataframe(response)\n",
    "dataframe.head(20)"
   ]
  },
  {
   "cell_type": "markdown",
   "id": "bfaa21a6",
   "metadata": {},
   "source": [
    "## Collection properties"
   ]
  },
  {
   "cell_type": "code",
   "execution_count": null,
   "id": "c5faefc5",
   "metadata": {
    "tags": [
     "output_scroll"
    ]
   },
   "outputs": [],
   "source": [
    "rt = ElementTree.fromstring(response.text)\n",
    "r = rt.find('{http://www.w3.org/2005/Atom}entry')  # return first entry"
   ]
  },
  {
   "cell_type": "markdown",
   "id": "999a5316",
   "metadata": {},
   "source": [
    "### Collection geometry\n",
    "\n",
    "Geometry information for each collection is included in the Atom entry using GeoRSS response elements."
   ]
  },
  {
   "cell_type": "code",
   "execution_count": null,
   "id": "8220d389",
   "metadata": {
    "tags": [
     "output_scroll"
    ]
   },
   "outputs": [],
   "source": [
    "try:\n",
    "    box = r.find('{http://www.georss.org/georss}box').text\n",
    "except AttributeError:\n",
    "    box= ''\n",
    "\n",
    "try:\n",
    "    polygon = r.find('{http://www.georss.org/georss}polygon').text\n",
    "except AttributeError:\n",
    "    polygon= ''\n",
    "\n",
    "print(\"georss:box:\", box )\n",
    "print(\"georss:polygon:\", polygon )"
   ]
  },
  {
   "cell_type": "code",
   "execution_count": null,
   "id": "b15a21d5",
   "metadata": {
    "tags": [
     "remove-input"
    ]
   },
   "outputs": [],
   "source": [
    "#:tags: [remove-input]\n",
    "show_features_on_map(box, polygon)"
   ]
  },
  {
   "cell_type": "markdown",
   "id": "f195fea9",
   "metadata": {},
   "source": [
    "### Collection temporal extent\n",
    "\n",
    "The `<dc:date>` response element provides temporal information for a collection, i.e. the start time and end time separated by a `/`, encoded as per [RFC-3339](https://www.rfc-editor.org/rfc/rfc3339.txt).  The end time may be absent indicating that the collection is not completed."
   ]
  },
  {
   "cell_type": "code",
   "execution_count": null,
   "id": "e7d183f7",
   "metadata": {
    "tags": [
     "output_scroll"
    ]
   },
   "outputs": [],
   "source": [
    "try:\n",
    "    date = r.find('{http://purl.org/dc/elements/1.1/}date').text\n",
    "except AttributeError:\n",
    "    date= ''\n",
    "\n",
    "date"
   ]
  },
  {
   "cell_type": "markdown",
   "id": "30e9fec7",
   "metadata": {},
   "source": [
    "### Collection identifier\n",
    "\n",
    "The `<dc:identifier>` response element includes the idenfifier of the collection that can be used as value for the `geo:uid` search parameter."
   ]
  },
  {
   "cell_type": "code",
   "execution_count": null,
   "id": "9f7049fe",
   "metadata": {
    "tags": [
     "output_scroll"
    ]
   },
   "outputs": [],
   "source": [
    "try:\n",
    "    id = r.find('{http://purl.org/dc/elements/1.1/}identifier').text\n",
    "except AttributeError:\n",
    "    id= ''\n",
    "\n",
    "id"
   ]
  },
  {
   "cell_type": "markdown",
   "id": "f2414b18",
   "metadata": {},
   "source": [
    "### Collection keywords\n",
    "\n",
    "The optional `<atom:category>` response elements provide keywords related to the collection.  Keywords can be free text keywords or originate from a controlled thesaurus.  The `term` attribute is used to hold the full concept URI (if available) as per [[RD10]](#RD10).  \n",
    "When keywords provide a concept URI, then this URI can be used to search for collections by concept with the `semantic:classifiedAs` search parameter."
   ]
  },
  {
   "cell_type": "code",
   "execution_count": null,
   "id": "755a28cb",
   "metadata": {
    "tags": [
     "output_scroll"
    ]
   },
   "outputs": [],
   "source": [
    "# build table with extracted keywords\n",
    "list = pd.DataFrame(columns=['label', 'term'])\n",
    "for lnk in r.findall('{http://www.w3.org/2005/Atom}category'):\n",
    "    label = ''\n",
    "    term = ''\n",
    "    try:\n",
    "        label = lnk.attrib['label']\n",
    "        term = lnk.attrib['term']\n",
    "    except:\n",
    "        pass\n",
    "    list = list.append( { 'label': label, 'term': term }, ignore_index=True )\n",
    "\n",
    "#HTML(altList.to_html(render_links=True, escape=False))\n",
    "list"
   ]
  },
  {
   "cell_type": "markdown",
   "id": "c8b6fdcf",
   "metadata": {},
   "source": [
    "### Collection other representations\n",
    "\n",
    "Alternative metadata formats for the collection represented by the Atom entry are available as `<atom:link>` with `rel=\"alternate\"`.  Different servers may advertize different metadata formats."
   ]
  },
  {
   "cell_type": "code",
   "execution_count": null,
   "id": "f36f2c96",
   "metadata": {
    "tags": [
     "output_scroll"
    ]
   },
   "outputs": [],
   "source": [
    "# build table with rel=alternate links\n",
    "altList = pd.DataFrame(columns=['title', 'type', 'href'])\n",
    "for lnk in r.findall('{http://www.w3.org/2005/Atom}link[@rel=\"alternate\"]'):\n",
    "    altList = altList.append( { 'type': lnk.attrib['type'], 'title': lnk.attrib['title'], 'href': lnk.attrib['href'] }, ignore_index=True )\n",
    "\n",
    "#HTML(altList.to_html(render_links=True, escape=False))\n",
    "altList"
   ]
  },
  {
   "cell_type": "markdown",
   "id": "4644287c",
   "metadata": {},
   "source": [
    "### Collection embedding other formats\n",
    "\n",
    "Alternative metadata formats for the colection provide additional metadata properties and can be directly embedded in the Atom entry using the `sru:recordSchema` parameter.  The ISO19139 and ISO19139-2 formats provide the most detailed representations."
   ]
  },
  {
   "cell_type": "markdown",
   "id": "4a5876ea",
   "metadata": {},
   "source": [
    "**Example: 3.1**  \n",
    ">  Get list of supported record schemas {sru:recordSchema} for collections from the OSDD.   \n",
    "\n",
    " \n",
    "The OSDD template lists the `sur:recordSchema` values that can be used in a collection search request.  They correspond to metadata formats that can be directly embedded in the Search response.  The value `server-choice` can be used to allow the server to propose an appropriate metadata encoding.  typically, a short name and a URI can be used for each of the formats."
   ]
  },
  {
   "cell_type": "code",
   "execution_count": null,
   "id": "c97ef9b2",
   "metadata": {
    "tags": [
     "output_scroll"
    ]
   },
   "outputs": [],
   "source": [
    "# Extract corresponding <Parameter> element\n",
    "el = collection_url_atom.find('{http://a9.com/-/spec/opensearch/extensions/parameters/1.0/}Parameter[@value=\"{sru:recordSchema}\"]')\n",
    "xmltxt = ElementTree.tostring(el, encoding='unicode', method='xml')\n",
    "md(\"```xml\\n\" + xmltxt + \"\\n```\\n\")"
   ]
  },
  {
   "cell_type": "markdown",
   "id": "240faa2a",
   "metadata": {},
   "source": [
    "**Example: 3.2**  \n",
    ">  Embed ISO19139-2 metadata `iso19139-2` in collection search response {sru:recordSchema} [[RD8]](#RD8).   \n",
    "\n",
    "The additional properties are included in an `<gmi:MI_Metadata>` element inside the `<atom:entry>`."
   ]
  },
  {
   "cell_type": "code",
   "execution_count": null,
   "id": "353d98c5",
   "metadata": {
    "tags": [
     "output_scroll"
    ]
   },
   "outputs": [],
   "source": [
    "osquerystring = {}\n",
    "osquerystring['geo:uid'] = 'PROBA.HRC.1A' \n",
    "osquerystring['sru:recordSchema'] = 'iso19139-2'\n",
    "\n",
    "request_url = get_api_request(template, osquerystring)\n",
    "response = requests.get(request_url, verify=bool(verify_ssl))\n",
    "\n",
    "rt = ElementTree.fromstring(response.text)\n",
    "r = rt.find('{http://www.w3.org/2005/Atom}entry')  # return first entry\n",
    "\n",
    "try:\n",
    "    el = r.find('{*}MI_Metadata')\n",
    "    xmltxt = ElementTree.tostring(el, encoding='unicode', method='xml')\n",
    "except AttributeError:\n",
    "    xmltxt= 'Not found.'\n",
    "\n",
    "md(\"```xml\\n\" + xmltxt + \"\\n```\\n\")"
   ]
  },
  {
   "cell_type": "markdown",
   "id": "1f132568",
   "metadata": {},
   "source": [
    "**Example: 3.3**  \n",
    ">  Embed DIF10 metadata `dif10` in collection search response {sru:recordSchema} [[RD8]](#RD8).   \n",
    "\n",
    "The additional properties are included in an `<DIF>` element inside the `<atom:entry>`."
   ]
  },
  {
   "cell_type": "code",
   "execution_count": null,
   "id": "d0aad241",
   "metadata": {
    "tags": [
     "output_scroll"
    ]
   },
   "outputs": [],
   "source": [
    "osquerystring = {}\n",
    "osquerystring['geo:uid'] = 'PROBA.HRC.1A' \n",
    "osquerystring['sru:recordSchema'] = 'dif10'\n",
    "\n",
    "request_url = get_api_request(template, osquerystring)\n",
    "response = requests.get(request_url, verify=bool(verify_ssl))\n",
    "\n",
    "rt = ElementTree.fromstring(response.text)\n",
    "r = rt.find('{http://www.w3.org/2005/Atom}entry')  # return first entry\n",
    "\n",
    "try:\n",
    "    el = r.find('{*}DIF')\n",
    "    xmltxt = ElementTree.tostring(el, encoding='unicode', method='xml')\n",
    "except AttributeError:\n",
    "    xmltxt= 'Not found.'\n",
    "\n",
    "md(\"```xml\\n\" + xmltxt + \"\\n```\\n\")"
   ]
  },
  {
   "cell_type": "markdown",
   "id": "2197555f",
   "metadata": {},
   "source": [
    "**Example: 3.4**  \n",
    ">  Embed Dublin core metadata `dc` in collection search response {sru:recordSchema} [[RD8]](#RD8).   \n",
    "\n",
    "The additional properties are included in an `<srw_dc:dc>` element inside the `<atom:entry>`."
   ]
  },
  {
   "cell_type": "code",
   "execution_count": null,
   "id": "6273529a",
   "metadata": {
    "tags": [
     "output_scroll"
    ]
   },
   "outputs": [],
   "source": [
    "osquerystring = {}\n",
    "osquerystring['geo:uid'] = 'PROBA.HRC.1A' \n",
    "osquerystring['sru:recordSchema'] = 'dc'\n",
    "\n",
    "request_url = get_api_request(template, osquerystring)\n",
    "response = requests.get(request_url, verify=bool(verify_ssl))\n",
    "\n",
    "rt = ElementTree.fromstring(response.text)\n",
    "r = rt.find('{http://www.w3.org/2005/Atom}entry')  # return first entry\n",
    "\n",
    "try:\n",
    "    el = r.find('{*}dc')\n",
    "    xmltxt = ElementTree.tostring(el, encoding='unicode', method='xml')\n",
    "except AttributeError:\n",
    "    xmltxt= 'Not found.'\n",
    "\n",
    "md(\"```xml\\n\" + xmltxt + \"\\n```\\n\")"
   ]
  },
  {
   "cell_type": "markdown",
   "id": "c62e72bb",
   "metadata": {},
   "source": [
    "### Collection related documentation\n",
    "\n",
    "Collections can optionaly provide access to related documentation via an `<atom:link>` with `rel=\"desribedby\"`."
   ]
  },
  {
   "cell_type": "code",
   "execution_count": null,
   "id": "8b31576b",
   "metadata": {
    "tags": [
     "output_scroll"
    ]
   },
   "outputs": [],
   "source": [
    "# build table with rel=describedby links\n",
    "relList = pd.DataFrame(columns=['title', 'type', 'href'])\n",
    "for lnk in r.findall('{http://www.w3.org/2005/Atom}link[@rel=\"describedby\"]'):\n",
    "    relList = relList.append( { 'type': lnk.attrib['type'], 'title': lnk.attrib['title'], 'href': lnk.attrib['href'] }, ignore_index=True )\n",
    "\n",
    "# HTML(relList.to_html(render_links=True, escape=False))\n",
    "relList"
   ]
  },
  {
   "cell_type": "markdown",
   "id": "79e7982d",
   "metadata": {},
   "source": [
    "## Granule Search"
   ]
  },
  {
   "cell_type": "markdown",
   "id": "236f0974",
   "metadata": {},
   "source": [
    "<a name='granule-access-api-description'></a>    \n",
    "### Access API Description"
   ]
  },
  {
   "cell_type": "code",
   "execution_count": null,
   "id": "baa3dacb",
   "metadata": {
    "tags": [
     "remove-input"
    ]
   },
   "outputs": [],
   "source": [
    "#:tags: [remove-input]\n",
    "md(\"The OpenSearch Description Document is accessible at the location {} which is extracted from the collection search response and contains the URL template to be used for granule search.\".format(url_osdd_granules))"
   ]
  },
  {
   "cell_type": "markdown",
   "id": "2424f3c7",
   "metadata": {},
   "source": [
    "**Example: 4.1**  \n",
    ">  Obtain API Description (OSDD) for the collection via the URL found in collection search response."
   ]
  },
  {
   "cell_type": "code",
   "execution_count": null,
   "id": "1a496fff",
   "metadata": {
    "tags": [
     "output_scroll"
    ]
   },
   "outputs": [],
   "source": [
    "response = requests.get(url_osdd_granules, verify=bool(verify_ssl), headers={'Accept': 'application/opensearchdescription+xml'})\n",
    "\n",
    "xmlstr = minidom.parseString(response.text).toprettyxml(indent='  ', newl='')\n",
    "md(\"```xml\\n\" + xmlstr + \"\\n```\\n\")"
   ]
  },
  {
   "cell_type": "markdown",
   "id": "74816ba8",
   "metadata": {},
   "source": [
    "Extract the URL template for collection search `rel=\"results\"` corresponding to the media type `type=\"application/atom+xml\"` of the search result."
   ]
  },
  {
   "cell_type": "code",
   "execution_count": null,
   "id": "3dcf67e7",
   "metadata": {
    "tags": [
     "output_scroll"
    ]
   },
   "outputs": [],
   "source": [
    "root = ElementTree.fromstring(response.text)\n",
    "\n",
    "granules_url_atom = root.find('{http://a9.com/-/spec/opensearch/1.1/}Url[@rel=\"results\"][@type=\"application/atom+xml\"]')\n",
    "\n",
    "print('Granule search template: ', granules_url_atom.attrib['template'])\n",
    "\n",
    "# create the url without any parameters, preserving fix parts.\n",
    "template = granules_url_atom.attrib['template']\n",
    "print('Granule search template: ', template)"
   ]
  },
  {
   "cell_type": "markdown",
   "id": "cbfd0ed4",
   "metadata": {},
   "source": [
    "<a name='granule-find-available-record-schemas'></a>    \n",
    "### Find available record schemas"
   ]
  },
  {
   "cell_type": "markdown",
   "id": "04f95e1c",
   "metadata": {},
   "source": [
    "**Example: 4.2**  \n",
    ">  Obtain allowed values for {sru:recordSchema} from the OSDD.   \n",
    "\n",
    " \n",
    "The OSDD template lists the `sru:recordSchema` values that can be used in a granule search request.  They correspond to metadata formats that can be directly embedded in the Search response.  The value `server-choice` can be used to allow the server to propose an appropriate metadata encoding."
   ]
  },
  {
   "cell_type": "code",
   "execution_count": null,
   "id": "ac4940f1",
   "metadata": {
    "tags": [
     "output_scroll"
    ]
   },
   "outputs": [],
   "source": [
    "# Extract <Parameter> element for sru:recordSchema\n",
    "el = granules_url_atom.find('{http://a9.com/-/spec/opensearch/extensions/parameters/1.0/}Parameter[@value=\"{sru:recordSchema}\"]')\n",
    "xmltxt = ElementTree.tostring(el, encoding='unicode', method='xml')\n",
    "md(\"```xml\\n\" + xmltxt + \"\\n```\\n\")"
   ]
  },
  {
   "cell_type": "markdown",
   "id": "07cda266",
   "metadata": {},
   "source": [
    "<a name='granule-search-by-bounding-box'></a>    \n",
    "### Search by bounding box"
   ]
  },
  {
   "cell_type": "markdown",
   "id": "36770e52",
   "metadata": {},
   "source": [
    "**Example: 4.3**  \n",
    ">  Search granules by bounding box {geo:box} [[RD2]](#RD2).\n",
    "\n",
    "Search parameters which are optional in the search template (end with a \"?\") can be omitted or their value can be left empty.\n",
    "Prepare a search request by replacing all mandatory search parameters with a value.  \n",
    "\n",
    "By default, each `<atom:entry>` represents one search result (an EO granule).  The original metadata for the collection is not embedded in the response but available as an `atom:link`."
   ]
  },
  {
   "cell_type": "code",
   "execution_count": null,
   "id": "028bb802",
   "metadata": {
    "tags": [
     "output_scroll"
    ]
   },
   "outputs": [],
   "source": [
    "osquerystring = {}\n",
    "osquerystring['count'] = '3'\n",
    "osquerystring['geo:box'] = '14.90,37.700,14.99,37.780' \n",
    "\n",
    "request_url = get_api_request(template, osquerystring)\n",
    "response = requests.get(request_url, verify=bool(verify_ssl))\n",
    "\n",
    "root = ElementTree.fromstring(response.text)\n",
    "\n",
    "# extract total results\n",
    "el = root.find('{http://a9.com/-/spec/opensearch/1.1/}totalResults')\n",
    "print('totalResults: ', el.text)\n",
    "\n",
    "dataframe = load_dataframe(response)\n",
    "dataframe.head(20)"
   ]
  },
  {
   "cell_type": "code",
   "execution_count": null,
   "id": "9ebafdbc",
   "metadata": {
    "tags": [
     "output_scroll"
    ]
   },
   "outputs": [],
   "source": [
    "# Table with clickable download and quicklook hyperlinks.\n",
    "HTML(dataframe.transpose(copy=True).to_html(render_links=True, escape=False))"
   ]
  },
  {
   "cell_type": "markdown",
   "id": "75bc0ae9",
   "metadata": {},
   "source": [
    "<a name='granule-search-by-geometry'></a>    \n",
    "### Search by geometry\n",
    "\n",
    "Collections may advertise the availability of the optional `geo:geometry` [[RD2]](#RD2) search parameter in the collection OSDD."
   ]
  },
  {
   "cell_type": "markdown",
   "id": "6a1b399a",
   "metadata": {},
   "source": [
    "**Example: 4.4**  \n",
    ">  Obtain profiles for {geo:geometry} from the OSDD.   \n",
    "\n",
    " \n",
    "If the parameter is supported for the collection, then the OSDD template identifies one or more profiles of the `geo:geometry` values that can be used in a granule search request.  Possible profiles include searches by `point`, `linestring`, `multipoint`, `multilinestring` or `polygon`.  In all cases, the geometry value is to be provided in Well-Known Text [(WKT)](https://en.wikipedia.org/wiki/Well-known_text_representation_of_geometry) format."
   ]
  },
  {
   "cell_type": "code",
   "execution_count": null,
   "id": "9ab1e16f",
   "metadata": {
    "tags": [
     "output_scroll"
    ]
   },
   "outputs": [],
   "source": [
    "# Extract <Parameter> element for geo:geometry\n",
    "el = granules_url_atom.find('{http://a9.com/-/spec/opensearch/extensions/parameters/1.0/}Parameter[@value=\"{geo:geometry}\"]')\n",
    "xmltxt = ElementTree.tostring(el, encoding='unicode', method='xml')\n",
    "md(\"```xml\\n\" + xmltxt + \"\\n```\\n\")"
   ]
  },
  {
   "cell_type": "markdown",
   "id": "3d32a6d4",
   "metadata": {},
   "source": [
    "**Example: 4.5**  \n",
    ">  Search granules by polygon geometry {geo:geometry} [[RD2]](#RD2)."
   ]
  },
  {
   "cell_type": "code",
   "execution_count": null,
   "id": "84276342",
   "metadata": {
    "tags": [
     "output_scroll"
    ]
   },
   "outputs": [],
   "source": [
    "osquerystring = {}\n",
    "osquerystring['count'] = '3'\n",
    "osquerystring['geo:geometry'] = 'POLYGON((14.90 37.700, 14.90 37.780, 14.99 37.780, 14.99 37.700, 14.90 37.700))' \n",
    "\n",
    "request_url = get_api_request(template, osquerystring)\n",
    "response = requests.get(request_url, verify=bool(verify_ssl))\n",
    "\n",
    "root = ElementTree.fromstring(response.text)\n",
    "\n",
    "# extract total results\n",
    "el = root.find('{http://a9.com/-/spec/opensearch/1.1/}totalResults')\n",
    "print('totalResults: ', el.text)\n",
    "\n",
    "dataframe = load_dataframe(response)\n",
    "dataframe.head(20)\n",
    "# HTML(dataframe.transpose(copy=True).to_html(render_links=True, escape=False))"
   ]
  },
  {
   "cell_type": "markdown",
   "id": "c6efab05",
   "metadata": {},
   "source": [
    "<a name='granule-search-by-temporal-extent'></a>    \n",
    "### Search by temporal extent"
   ]
  },
  {
   "cell_type": "markdown",
   "id": "98322385",
   "metadata": {},
   "source": [
    "**Example: 4.6**  \n",
    ">  Search granules by temporal extent {time:start} and {time:end} [[RD2]](#RD2).  Each granule has an acquisition start time and end time.  A granule is returned if the intersection of the temporal search interval with the acquisition start/end interval is not empty."
   ]
  },
  {
   "cell_type": "code",
   "execution_count": null,
   "id": "f73bb569",
   "metadata": {
    "tags": [
     "output_scroll"
    ]
   },
   "outputs": [],
   "source": [
    "osquerystring = {}\n",
    "osquerystring['count'] = '3'\n",
    "osquerystring['geo:box'] = '14.90,37.700,14.99,37.780' \n",
    "osquerystring['time:start'] = '2018-01-01T00:00:00Z'\n",
    "osquerystring['time:end'] = '2021-03-31T23:59:59Z'\n",
    "\n",
    "request_url = get_api_request(template, osquerystring)\n",
    "response = requests.get(request_url, verify=bool(verify_ssl))\n",
    "\n",
    "# xmlstr = minidom.parseString(response.text).toprettyxml(indent='   ')\n",
    "# print(xmlstr)\n",
    "\n",
    "root = ElementTree.fromstring(response.text)\n",
    "# extract total results\n",
    "el = root.find('{http://a9.com/-/spec/opensearch/1.1/}totalResults')\n",
    "print('totalResults: ', el.text)\n",
    "\n",
    "dataframe = load_dataframe(response)\n",
    "# dataframe.head(20)\n",
    "HTML(dataframe.transpose(copy=True).to_html(render_links=True, escape=False))"
   ]
  },
  {
   "cell_type": "markdown",
   "id": "af3fa10c",
   "metadata": {},
   "source": [
    "<a name='granule-search-by-identifier'></a>     \n",
    "### Search by identifier"
   ]
  },
  {
   "cell_type": "markdown",
   "id": "a93f1546",
   "metadata": {},
   "source": [
    "**Example: 4.7**  \n",
    ">  Search granules by identifier {geo:uid} [[RD2]](#RD2). \n",
    "\n",
    "The `geo:uid` combined with the collection identifier `eo:parentIdentifier` which is already prefilled in the OSDD template extracted from the collection search response allows retrieving granule metadata for a specific granule."
   ]
  },
  {
   "cell_type": "code",
   "execution_count": null,
   "id": "3dde2221",
   "metadata": {
    "tags": [
     "output_scroll"
    ]
   },
   "outputs": [],
   "source": [
    "osquerystring = {}\n",
    "osquerystring['geo:uid'] = 'PR1_OPER_HRC_HRC_1P_20210401T131711_N37-069_E014-099_0001' \n",
    "\n",
    "request_url = get_api_request(template, osquerystring)\n",
    "response = requests.get(request_url, verify=bool(verify_ssl))\n",
    "\n",
    "xmlstr = minidom.parseString(response.text).toprettyxml(indent='   ', newl='')\n",
    "md(\"```xml\\n\" + xmlstr + \"\\n```\\n\")"
   ]
  },
  {
   "cell_type": "markdown",
   "id": "7521c874",
   "metadata": {},
   "source": [
    "## Granule properties"
   ]
  },
  {
   "cell_type": "code",
   "execution_count": null,
   "id": "32c2e61d",
   "metadata": {
    "tags": [
     "output_scroll"
    ]
   },
   "outputs": [],
   "source": [
    "# get the first entry (granule) from the previous search results;\n",
    "rt = ElementTree.fromstring(response.text)\n",
    "r = rt.find('{http://www.w3.org/2005/Atom}entry')  "
   ]
  },
  {
   "cell_type": "markdown",
   "id": "6015297c",
   "metadata": {},
   "source": [
    "### Geometry\n",
    "\n",
    "Geometry information for each granule is included in the Atom entry using GeoRSS encoding."
   ]
  },
  {
   "cell_type": "code",
   "execution_count": null,
   "id": "a71ef4b0",
   "metadata": {
    "tags": [
     "output_scroll"
    ]
   },
   "outputs": [],
   "source": [
    "try:\n",
    "    box = r.find('{http://www.georss.org/georss}box').text\n",
    "except AttributeError:\n",
    "    box= ''\n",
    "\n",
    "try:\n",
    "    polygon = r.find('{http://www.georss.org/georss}polygon').text\n",
    "except AttributeError:\n",
    "    polygon= ''\n",
    "\n",
    "print(\"georss:box:\", box )\n",
    "print(\"georss:polygon:\", polygon )"
   ]
  },
  {
   "cell_type": "code",
   "execution_count": null,
   "id": "aa476463",
   "metadata": {
    "tags": [
     "remove-input"
    ]
   },
   "outputs": [],
   "source": [
    "#:tags: [remove-input]\n",
    "show_features_on_map(box, polygon)"
   ]
  },
  {
   "cell_type": "markdown",
   "id": "979d94c1",
   "metadata": {},
   "source": [
    "### Temporal extent\n",
    "\n",
    "The `<dc:date>` response element provides temporal information for each granule, i.e. the acquisition start time and end time, encoded as per [RFC-3339](https://www.rfc-editor.org/rfc/rfc3339.txt)."
   ]
  },
  {
   "cell_type": "code",
   "execution_count": null,
   "id": "3793746e",
   "metadata": {
    "tags": [
     "output_scroll"
    ]
   },
   "outputs": [],
   "source": [
    "try:\n",
    "    date = r.find('{http://purl.org/dc/elements/1.1/}date').text\n",
    "except AttributeError:\n",
    "    date= ''\n",
    "\n",
    "date"
   ]
  },
  {
   "cell_type": "markdown",
   "id": "8b84de95",
   "metadata": {},
   "source": [
    "### Granule identifier\n",
    "\n",
    "The `<dc:identifier>` response element includes the idenfifier of the granule that can be used as value for the `geo:uid` search parameter."
   ]
  },
  {
   "cell_type": "code",
   "execution_count": null,
   "id": "1594a9ef",
   "metadata": {
    "tags": [
     "output_scroll"
    ]
   },
   "outputs": [],
   "source": [
    "try:\n",
    "    id = r.find('{http://purl.org/dc/elements/1.1/}identifier').text\n",
    "except AttributeError:\n",
    "    id= ''\n",
    "\n",
    "id"
   ]
  },
  {
   "cell_type": "markdown",
   "id": "716696c3",
   "metadata": {},
   "source": [
    "### Quicklook\n",
    "\n",
    "The `atom:link` with rel=\"icon\" can optionally provide access to a quicklook or browse image."
   ]
  },
  {
   "cell_type": "code",
   "execution_count": null,
   "id": "8ab25435",
   "metadata": {
    "tags": [
     "output_scroll"
    ]
   },
   "outputs": [],
   "source": [
    "try:\n",
    "    href = r.find('{http://www.w3.org/2005/Atom}link[@rel=\"icon\"]').attrib['href']\n",
    "except AttributeError:\n",
    "    href= ''\n",
    "\n",
    "print(\"Quicklook URL:\", href )\n",
    "Image(url=href, width=200, height=200)"
   ]
  },
  {
   "cell_type": "markdown",
   "id": "8cfa9682",
   "metadata": {},
   "source": [
    "### Granule download\n",
    "\n",
    "The `atom:link` with rel=\"enclosure\" provides access to the granule as a file download URL (if available)."
   ]
  },
  {
   "cell_type": "code",
   "execution_count": null,
   "id": "133ae4a9",
   "metadata": {
    "tags": [
     "output_scroll"
    ]
   },
   "outputs": [],
   "source": [
    "try:\n",
    "    href = r.find('{http://www.w3.org/2005/Atom}link[@rel=\"enclosure\"]').attrib['href']\n",
    "except AttributeError:\n",
    "    href= ''\n",
    "    \n",
    "print(\"Granule download URL:\", href )"
   ]
  },
  {
   "cell_type": "markdown",
   "id": "c89e1a3b",
   "metadata": {},
   "source": [
    "### Other representations\n",
    "\n",
    "Alternative metadata formats for the granule represented by the Atom entry are available as Atom links with rel=\"alternate\".  Different servers may advertize different metadata formats."
   ]
  },
  {
   "cell_type": "code",
   "execution_count": null,
   "id": "b89aec55",
   "metadata": {
    "tags": [
     "output_scroll"
    ]
   },
   "outputs": [],
   "source": [
    "# Present list of alternate links in table\n",
    "\n",
    "altList = pd.DataFrame(columns=['title', 'type', 'href'])\n",
    "for lnk in r.findall('{http://www.w3.org/2005/Atom}link[@rel=\"alternate\"]'):\n",
    "    altList = altList.append( { 'type': lnk.attrib['type'], 'title': lnk.attrib['title'], 'href': lnk.attrib['href'] }, ignore_index=True )\n",
    "\n",
    "HTML(altList.to_html(render_links=True, escape=False))"
   ]
  },
  {
   "cell_type": "markdown",
   "id": "eab81035",
   "metadata": {},
   "source": [
    "### Embedding other formats\n",
    "\n",
    "Alternative metadata formats for the granule provide additional metadata properties and can be directly embedded in the Atom entry using the `sru:recordSchema` parameter.  The O&M format (OGC 10-157r4) provides the most detailed representation."
   ]
  },
  {
   "cell_type": "markdown",
   "id": "3055e308",
   "metadata": {},
   "source": [
    "**Example: 5.1**  \n",
    ">  Get list of supported record schemas {sru:recordSchema} from the OSDD.   \n",
    "\n",
    " \n",
    "The OSDD template for the collection lists the `sur:recordSchema` values that can be used in a granule search request.  They correspond to metadata formats that can be directly embedded in the Search response.  The value `server-choice` can be used to allow the server to propose an appropriate metadata encoding."
   ]
  },
  {
   "cell_type": "code",
   "execution_count": null,
   "id": "60844a2a",
   "metadata": {
    "tags": [
     "output_scroll"
    ]
   },
   "outputs": [],
   "source": [
    "# Extract corresponding <Parameter> element\n",
    "el = granules_url_atom.find('{http://a9.com/-/spec/opensearch/extensions/parameters/1.0/}Parameter[@value=\"{sru:recordSchema}\"]')\n",
    "xmltxt = ElementTree.tostring(el, encoding='unicode', method='xml')\n",
    "md(\"```xml\\n\" + xmltxt + \"\\n```\\n\")"
   ]
  },
  {
   "cell_type": "markdown",
   "id": "f285d095",
   "metadata": {},
   "source": [
    "**Example: 5.2**  \n",
    ">  Embed O&M metadata in search response {sru:recordSchema} [[RD8]](#RD8).   \n",
    "\n",
    "The additional properties are included in an `<eop:EarthObservation>` element inside the `<atom:entry>`.  Depending on the type of observation, the `EarthObservation` element may be in the `eop` (General), `opt` (Optical), `sar` (Radar), `atm` (Atmospheric) or other namespace defined by OGC 10-157r4."
   ]
  },
  {
   "cell_type": "code",
   "execution_count": null,
   "id": "745fbc1a",
   "metadata": {
    "tags": [
     "output_scroll"
    ]
   },
   "outputs": [],
   "source": [
    "osquerystring = {}\n",
    "osquerystring['count'] = '1'\n",
    "osquerystring['geo:box'] = '14.90,37.700,14.99,37.780' \n",
    "# osquerystring['sru:sortKeys'] = 'start,time,1'\n",
    "osquerystring['sru:recordSchema'] = 'om'\n",
    "\n",
    "request_url = get_api_request(template, osquerystring)\n",
    "response = requests.get(request_url, verify=bool(verify_ssl))\n",
    "\n",
    "rt = ElementTree.fromstring(response.text)\n",
    "r = rt.find('{http://www.w3.org/2005/Atom}entry')  # return first entry\n",
    "\n",
    "try:\n",
    "    el = r.find('{*}EarthObservation')\n",
    "    xmltxt = ElementTree.tostring(el, encoding='unicode', method='xml')\n",
    "except AttributeError:\n",
    "    xmltxt= 'Not found.'\n",
    "\n",
    "md(\"```xml\\n\" + xmltxt + \"\\n```\\n\")"
   ]
  },
  {
   "cell_type": "markdown",
   "id": "5c8b7fa5",
   "metadata": {},
   "source": [
    "<a name='Advanced-Topics'></a>  \n",
    "## Advanced topics"
   ]
  },
  {
   "cell_type": "markdown",
   "id": "246705af",
   "metadata": {},
   "source": [
    "### Result paging\n",
    "\n",
    "Collection and granule search results are provided in pages.  Search responses contain `atom:link` navigation links providing access to the `first`, `last`, `previous` or `next` result pages."
   ]
  },
  {
   "cell_type": "markdown",
   "id": "4105092c",
   "metadata": {},
   "source": [
    "**Example: 6.1**  \n",
    ">  Obtain navigation links from search response."
   ]
  },
  {
   "cell_type": "code",
   "execution_count": null,
   "id": "f593b0a1",
   "metadata": {
    "tags": [
     "output_scroll"
    ]
   },
   "outputs": [],
   "source": [
    "osquerystring = {}\n",
    "osquerystring['count'] = '10'\n",
    "\n",
    "request_url = get_api_request(template, osquerystring)\n",
    "response = requests.get(request_url, verify=bool(verify_ssl))\n",
    "\n",
    "root = ElementTree.fromstring(response.text)\n",
    "# extract total results\n",
    "el = root.find('{http://a9.com/-/spec/opensearch/1.1/}totalResults')\n",
    "print('totalResults: ', el.text)\n",
    "\n",
    "# Present list of navigation links in table\n",
    "relList = pd.DataFrame(columns=['rel', 'href'])\n",
    "for lnk in root.findall('{http://www.w3.org/2005/Atom}link[@type=\"application/atom+xml\"]'):\n",
    "    if lnk.attrib['rel'] in  ['first', 'last', 'prev', 'next']:\n",
    "      relList = relList.append( { 'rel': lnk.attrib['rel'], 'href': lnk.attrib['href'] }, ignore_index=True )\n",
    "\n",
    "HTML(relList.to_html(render_links=True, escape=False))"
   ]
  },
  {
   "cell_type": "markdown",
   "id": "62bec194",
   "metadata": {},
   "source": [
    "**Example: 6.2**  \n",
    ">  Traverse search results using `{startIndex}`.\n",
    "\n",
    "The search response includes information about the `totalResults`, `itemsPerPage` and `startIndex`.\n",
    "\n",
    "```{warning}\n",
    "The use of large startIndex values is discouraged as the backend implementation is not optimized for larger values.  The implementation may return an HTTP error code when the value exceeds the maximum value allowed.  As a work around, you can narrow down your search by applying (additional) temporal or geographical search parameters thereby avoiding having to navigate very large result sets.\n",
    "```"
   ]
  },
  {
   "cell_type": "code",
   "execution_count": null,
   "id": "fd33a4f9",
   "metadata": {
    "tags": [
     "output_scroll"
    ]
   },
   "outputs": [],
   "source": [
    "osquerystring = {}\n",
    "osquerystring['count'] = '10'\n",
    "osquerystring['startIndex'] = '11'\n",
    "\n",
    "request_url = get_api_request(template, osquerystring)\n",
    "response = requests.get(request_url, verify=bool(verify_ssl))\n",
    "\n",
    "root = ElementTree.fromstring(response.text)\n",
    "\n",
    "el = root.find('{http://a9.com/-/spec/opensearch/1.1/}totalResults')\n",
    "print('totalResults: ', el.text)\n",
    "el = root.find('{http://a9.com/-/spec/opensearch/1.1/}itemsPerPage')\n",
    "print('itemsPerPage: ', el.text)\n",
    "el = root.find('{http://a9.com/-/spec/opensearch/1.1/}startIndex')\n",
    "print('startIndex: ', el.text)\n",
    "\n",
    "# Present list of navigation links in table\n",
    "relList = pd.DataFrame(columns=['rel', 'href'])\n",
    "for lnk in root.findall('{http://www.w3.org/2005/Atom}link[@type=\"application/atom+xml\"]'):\n",
    "    if lnk.attrib['rel'] in  ['first', 'last', 'previous', 'next', 'prev']:\n",
    "      relList = relList.append( {  'rel': lnk.attrib['rel'], 'href': lnk.attrib['href'] }, ignore_index=True )\n",
    "\n",
    "HTML(relList.to_html(render_links=True, escape=False))"
   ]
  },
  {
   "cell_type": "markdown",
   "id": "a1ad5136",
   "metadata": {},
   "source": [
    "**Example: 6.3**  \n",
    ">  Traverse collection search results using `{startPage}`.\n",
    "\n",
    "`{startPage}` can be used as an alternative for `{startIndex}`."
   ]
  },
  {
   "cell_type": "code",
   "execution_count": null,
   "id": "45e8971e",
   "metadata": {
    "tags": [
     "output_scroll"
    ]
   },
   "outputs": [],
   "source": [
    "osquerystring = {}\n",
    "osquerystring['count'] = '10'\n",
    "osquerystring['startPage'] = '2'\n",
    "\n",
    "request_url = get_api_request(collection_template, osquerystring)\n",
    "response = requests.get(request_url, verify=bool(verify_ssl))\n",
    "\n",
    "root = ElementTree.fromstring(response.text)\n",
    "\n",
    "# xmltxt = ElementTree.tostring(root, encoding='unicode', method='xml')\n",
    "# md(\"```xml\\n\" + xmltxt + \"\\n```\\n\")\n",
    "\n",
    "el = root.find('{http://a9.com/-/spec/opensearch/1.1/}totalResults')\n",
    "print('totalResults: ', el.text)\n",
    "el = root.find('{http://a9.com/-/spec/opensearch/1.1/}itemsPerPage')\n",
    "print('itemsPerPage: ', el.text)\n",
    "el = root.find('{http://a9.com/-/spec/opensearch/1.1/}startIndex')\n",
    "print('startIndex: ', el.text)\n",
    "\n",
    "# Present list of navigation links in table\n",
    "relList = pd.DataFrame(columns=['rel', 'type', 'href'])\n",
    "for lnk in root.findall('{http://www.w3.org/2005/Atom}link[@type=\"application/atom+xml\"]'):\n",
    "    if lnk.attrib['rel'] in  ['first', 'last', 'previous', 'next', 'prev']:\n",
    "      relList = relList.append( { 'type': lnk.attrib['type'], 'rel': lnk.attrib['rel'], 'href': lnk.attrib['href'] }, ignore_index=True )\n",
    "\n",
    "HTML(relList.to_html(render_links=True, escape=False))"
   ]
  },
  {
   "cell_type": "markdown",
   "id": "1c3a8fbb",
   "metadata": {},
   "source": [
    "**Example: 6.4**  \n",
    ">  Traverse granule search results using `{startPage}`.\n",
    "\n",
    "`{startPage}` can be used as an alternative for `{startIndex}`.\n",
    "\n",
    "```{note}\n",
    "As for all search parameters, `{startPage}` is only available when it is advertised in the corresponding OSDD document for the collection.\n",
    "```"
   ]
  },
  {
   "cell_type": "code",
   "execution_count": null,
   "id": "e0047b20",
   "metadata": {
    "tags": [
     "output_scroll"
    ]
   },
   "outputs": [],
   "source": [
    "osquerystring = {}\n",
    "osquerystring['count'] = '10'\n",
    "osquerystring['startPage'] = '2'\n",
    "\n",
    "request_url = get_api_request(template, osquerystring)\n",
    "response = requests.get(request_url, verify=bool(verify_ssl))\n",
    "\n",
    "root = ElementTree.fromstring(response.text)\n",
    "\n",
    "xmltxt = ElementTree.tostring(root, encoding='unicode', method='xml')\n",
    "md(\"```xml\\n\" + xmltxt + \"\\n```\\n\")"
   ]
  },
  {
   "cell_type": "code",
   "execution_count": null,
   "id": "3e153220",
   "metadata": {
    "tags": [
     "output_scroll"
    ]
   },
   "outputs": [],
   "source": [
    "try: \n",
    "  el = root.find('{http://a9.com/-/spec/opensearch/1.1/}totalResults')\n",
    "  print('totalResults: ', el.text)\n",
    "  el = root.find('{http://a9.com/-/spec/opensearch/1.1/}itemsPerPage')\n",
    "  print('itemsPerPage: ', el.text)\n",
    "  el = root.find('{http://a9.com/-/spec/opensearch/1.1/}startIndex')\n",
    "  print('startIndex: ', el.text)\n",
    "except:\n",
    "  print('invalid response')\n",
    "  \n",
    "# Present list of navigation links in table\n",
    "relList = pd.DataFrame(columns=['rel', 'type', 'href'])\n",
    "for lnk in root.findall('{http://www.w3.org/2005/Atom}link[@type=\"application/atom+xml\"]'):\n",
    "    if lnk.attrib['rel'] in  ['first', 'last', 'previous', 'next', 'prev']:\n",
    "      relList = relList.append( { 'type': lnk.attrib['type'], 'rel': lnk.attrib['rel'], 'href': lnk.attrib['href'] }, ignore_index=True )\n",
    "\n",
    "HTML(relList.to_html(render_links=True, escape=False))"
   ]
  },
  {
   "cell_type": "markdown",
   "id": "052e9fb0",
   "metadata": {},
   "source": [
    "### Sorting results\n",
    "\n",
    "Sorting of search results is currently only available for granule searches.  Future versions of the software may support sorting for collection searches as well."
   ]
  },
  {
   "cell_type": "markdown",
   "id": "c6a683ab",
   "metadata": {},
   "source": [
    "**Example: 6.5**  \n",
    ">  Obtain supported (granule) sorting criteria {sru:sortKeys} [RD8](#RD8) from the OSDD.   \n",
    "\n",
    "The OSDD template lists the `sur:sortkeys` values that can be used in a granule search request."
   ]
  },
  {
   "cell_type": "code",
   "execution_count": null,
   "id": "c5744a4b",
   "metadata": {
    "tags": [
     "output_scroll"
    ]
   },
   "outputs": [],
   "source": [
    "# Extract corresponding <Parameter> element\n",
    "el = granules_url_atom.find('{http://a9.com/-/spec/opensearch/extensions/parameters/1.0/}Parameter[@value=\"{sru:sortKeys}\"]')\n",
    "xmltxt = ElementTree.tostring(el, encoding='unicode', method='xml')\n",
    "md(\"```xml\\n\" + xmltxt + \"\\n```\\n\")"
   ]
  },
  {
   "cell_type": "markdown",
   "id": "6c989426",
   "metadata": {},
   "source": [
    "**Example: 6.6**  \n",
    ">  Results can be sorted according to various criteria with {sru:sortKeys} [[RD8]](#RD8), in descending or ascending order which can be discovered in the OSDD. The example sorts in descending chronological order according to the {time:start} value."
   ]
  },
  {
   "cell_type": "code",
   "execution_count": null,
   "id": "d3785d54",
   "metadata": {
    "tags": [
     "output_scroll"
    ]
   },
   "outputs": [],
   "source": [
    "osquerystring = {}\n",
    "osquerystring['count'] = '4'\n",
    "osquerystring['geo:box'] = '14.90,37.700,14.99,37.780' \n",
    "osquerystring['sru:sortKeys'] = 'start,time,0'\n",
    "\n",
    "request_url = get_api_request(template, osquerystring)\n",
    "response = requests.get(request_url, verify=bool(verify_ssl))\n",
    "\n",
    "root = ElementTree.fromstring(response.text)\n",
    "# extract total results\n",
    "el = root.find('{http://a9.com/-/spec/opensearch/1.1/}totalResults')\n",
    "print('totalResults: ', el.text)\n",
    "\n",
    "dataframe = load_dataframe(response)\n",
    "# dataframe.head(20)\n",
    "HTML(dataframe.transpose(copy=True).to_html(render_links=True, escape=False))"
   ]
  },
  {
   "cell_type": "markdown",
   "id": "59d31eb0",
   "metadata": {},
   "source": [
    "**Example: 6.7**  \n",
    ">  Results can be sorted according to various criteria with {sru:sortKeys}, in descending or ascending order which can be discovered in the OSDD. The example sorts in ascending chronological order according to the {time:start} value."
   ]
  },
  {
   "cell_type": "code",
   "execution_count": null,
   "id": "e300326c",
   "metadata": {
    "tags": [
     "output_scroll"
    ]
   },
   "outputs": [],
   "source": [
    "osquerystring = {}\n",
    "osquerystring['count'] = '4'\n",
    "osquerystring['geo:box'] = '14.90,37.700,14.99,37.780' \n",
    "osquerystring['sru:sortKeys'] = 'start,time,1'\n",
    "\n",
    "request_url = get_api_request(template, osquerystring)\n",
    "response = requests.get(request_url, verify=bool(verify_ssl))\n",
    "\n",
    "root = ElementTree.fromstring(response.text)\n",
    "# extract total results\n",
    "el = root.find('{http://a9.com/-/spec/opensearch/1.1/}totalResults')\n",
    "print('totalResults: ', el.text)\n",
    "\n",
    "dataframe = load_dataframe(response)\n",
    "# dataframe.head(20)\n",
    "HTML(dataframe.transpose(copy=True).to_html(render_links=True, escape=False))"
   ]
  },
  {
   "cell_type": "markdown",
   "id": "a0e70045",
   "metadata": {},
   "source": [
    "### Faceted search\n",
    "\n",
    "Faceted search results are available for collection searches.  Future versions of the software may support faceted search results for granule (and service) searches as well.\n",
    "\n",
    "The server can supply faceted results for a query: i.e. an analysis of how the search results are distributed over various categories (or \"facets\"). For example, the analysis may reveal how the results are distributed by organization. The client might then refine the query to one particular organization among those listed.\n",
    "\n",
    "By default, the search response `<atom:feed>` contains faceted search results under the element `<sru:facetedResults>`.  In the current implementation, the faceted search information groups the results by a number of predefined facets which may includr `platform`, `instrument` and`organisation` etc.  Future versions of the software will all the client to specify which facets it would like to receive a part of the request with the `sru:facetLimit` search parameter.\n",
    "\n",
    "The search response does not include the list of all values for the facet.  The list is truncated and provides the values with the largest count.  Future versions of the software may allow paging through all values, which would require support for the `sru:facetStart` search parameter.\n",
    "\n",
    "The faceted Results are consistent with the OASIS searchRetrieve facetedResults XML schema available at http://docs.oasis-open.org/search-ws/searchRetrieve/v1.0/os/schemas/facetedResults.xsd defined in [[RD7]](#RD7) which may be combined with OpenSearch as in [[RD8]](#RD8)."
   ]
  },
  {
   "cell_type": "markdown",
   "id": "e06085b7",
   "metadata": {},
   "source": [
    "**Example: 6.8**  \n",
    ">  Current content of `<sru:facetedResults>` of a collection search response and extract facet information for 'platform'."
   ]
  },
  {
   "cell_type": "code",
   "execution_count": null,
   "id": "6824525e",
   "metadata": {
    "tags": [
     "output_scroll"
    ]
   },
   "outputs": [],
   "source": [
    "osquerystring = {}\n",
    "osquerystring['eo:platform'] = 'Cryosat-2' # 'proba-1'\n",
    "osquerystring['count'] = '10'\n",
    "\n",
    "request_url = get_api_request(collection_template, osquerystring)\n",
    "response = requests.get(request_url, verify=bool(verify_ssl))\n",
    "root = ElementTree.fromstring(response.text)\n",
    "\n",
    "# Extract faceted results for platform\n",
    "el = root.find('.//{http://a9.com/-/opensearch/extensions/sru/2.0/}facet[{http://a9.com/-/opensearch/extensions/sru/2.0/}index=\"eo:platform\"]')\n",
    "\n",
    "# Show eo:platform facet information as XML\n",
    "xmltxt = ElementTree.tostring(el, encoding='unicode', method='xml')\n",
    "md(\"```xml\\n\" + xmltxt + \"\\n```\\n\")"
   ]
  },
  {
   "cell_type": "markdown",
   "id": "0e0766cb",
   "metadata": {},
   "source": [
    "**Example: 6.9**  \n",
    ">  Convert `<sru:facetedResults>` facet information for 'eo:platform' to a dataframe and display as a bar chart."
   ]
  },
  {
   "cell_type": "code",
   "execution_count": null,
   "id": "4196546f",
   "metadata": {
    "tags": [
     "output_scroll"
    ]
   },
   "outputs": [],
   "source": [
    "df = load_facet(root, \"eo:platform\")\n",
    "ax = df.plot(kind='barh', figsize=(9, 7))\n",
    "ax.bar_label(ax.containers[0])\n",
    "ax"
   ]
  },
  {
   "cell_type": "markdown",
   "id": "3824587e",
   "metadata": {},
   "source": [
    "**Example: 6.10**  \n",
    ">  Convert `<sru:facetedResults>` facet information for 'eo:instrument' to a dataframe and display as a bar chart."
   ]
  },
  {
   "cell_type": "code",
   "execution_count": null,
   "id": "a39d47ce",
   "metadata": {
    "tags": [
     "output_scroll"
    ]
   },
   "outputs": [],
   "source": [
    "df = load_facet(root, \"eo:instrument\")\n",
    "ax = df.plot(kind='barh', figsize=(9, 7))\n",
    "ax.bar_label(ax.containers[0])\n",
    "ax"
   ]
  },
  {
   "cell_type": "markdown",
   "id": "75e303ee",
   "metadata": {},
   "source": [
    "**Example: 6.11**  \n",
    ">  Convert `<sru:facetedResults>` facet information for 'eo:organizationName' to a dataframe and display as a bar chart."
   ]
  },
  {
   "cell_type": "code",
   "execution_count": null,
   "id": "0e4d69d4",
   "metadata": {
    "tags": [
     "output_scroll"
    ]
   },
   "outputs": [],
   "source": [
    "df = load_facet(root, \"eo:organisationName\")\n",
    "ax = df.plot(kind='barh', figsize=(9,7))\n",
    "ax.bar_label(ax.containers[0])\n",
    "ax"
   ]
  },
  {
   "cell_type": "markdown",
   "id": "eba243f1",
   "metadata": {},
   "source": [
    "**Example: 6.12**  \n",
    ">  Convert `<sru:facetedResults>` facet information for 'eo:prcessingLevel' to a dataframe and display as a bar chart."
   ]
  },
  {
   "cell_type": "code",
   "execution_count": null,
   "id": "85c91a55",
   "metadata": {
    "tags": [
     "output_scroll"
    ]
   },
   "outputs": [],
   "source": [
    "df = load_facet(root, \"eo:processingLevel\")\n",
    "ax = df.plot(kind='barh', figsize=(9,7))\n",
    "ax.bar_label(ax.containers[0])\n",
    "ax"
   ]
  },
  {
   "cell_type": "markdown",
   "id": "18890ae2",
   "metadata": {},
   "source": [
    "### Content negotiation\n",
    "\n",
    "The API provides the `httpAccept` HTTP query parameter to request for different media types which has the same behaviour as the [searchRetrieve httpAccept parameter](http://docs.oasis-open.org/search-ws/searchRetrieve/v1.0/os/part3-sru2.0/searchRetrieve-v1.0-os-part3-sru2.0.html#_Toc324162475) in [[RD7]](#RD7).  When using the OpenSearch interface, this parameter is prefilled with the media type selected when\n",
    "the URL template was extracted from the OSDD](#selecting-mediatype-in-osdd).  Future versions of the API will allow to use the HTTP header parameter `Accept` to provide the media type when the API is accessed directly without passing via the OSDD.  In case both parameters are provided, the `httpAccept` parameter has precedence."
   ]
  },
  {
   "cell_type": "markdown",
   "id": "f3f50059",
   "metadata": {},
   "source": [
    "<a name='Further-Reading'></a>  \n",
    "## Further Reading\n",
    "\n",
    "| **ID**  | **Title** | \n",
    "| -------- | --------- | \n",
    "| `RD1` <a name=\"RD1\"></a> | [CEOS OpenSearch Best Practice Document, Version 1.3](https://github.com/radiantearth/stac-spec/blob/master/catalog-spec/catalog-spec.md) | \n",
    "| `RD2` <a name=\"RD2\"></a> | [OGC 10-032r8 - OpenSearch Geo and Time Extensions ](https://portal.ogc.org/files/?artifact_id=56866) | \n",
    "| `RD3` <a name=\"RD3\"></a> | [OGC 13-026r9 - OpenSearch Extension for Earth Observation](http://docs.opengeospatial.org/is/13-026r9/13-026r9.html) | \n",
    "| `RD4` <a name=\"RD4\"></a> | [RFC 4287 - The Atom Syndication Format](https://datatracker.ietf.org/doc/html/rfc4287) | \n",
    "| `RD5` <a name=\"RD5\"></a> | [WGISS CDA OpenSearch Client Guide](https://ceos.org/document_management/Working_Groups/WGISS/Documents/Discovery-Access/WGISS%20CDA%20OpenSearch%20Client%20Guide-v1.2.pdf) | \n",
    "| `RD6` <a name=\"RD6\"></a>| [OASIS searchRetrieve: Part 7. Explain Version 1.0](http://docs.oasis-open.org/search-ws/searchRetrieve/v1.0/os/part7-explain/searchRetrieve-v1.0-os-part7-explain.html) |\n",
    "| `RD7` <a name=\"RD7\"></a>| [OASIS searchRetrieve: Part 3. APD Binding for SRU 2.0 Version 1.0](http://docs.oasis-open.org/search-ws/searchRetrieve/v1.0/os/part3-sru2.0/searchRetrieve-v1.0-os-part3-sru2.0.html) |\n",
    "| `RD8` <a name=\"RD8\"></a>| [OpenSearch SRU Extension](https://github.com/dewitt/opensearch/tree/master/mediawiki/Community/Proposal/Specifications/OpenSearch/Extensions/SRU/1.0) |\n",
    "| `RD9` <a name=\"RD9\"></a>| [OpenSearch Semantic Extension](https://github.com/dewitt/opensearch/tree/master/mediawiki/Community/Proposal/Specifications/OpenSearch/Extensions/Semantic/1.0) |\n",
    "| `RD10` <a name=\"RD10\"></a>| [OGC 08-167r2 - Semantic annotations in OGC standards](https://portal.ogc.org/files/?artifact_id=47857) |"
   ]
  }
 ],
 "metadata": {
  "kernelspec": {
   "display_name": "Python 3 (ipykernel)",
   "language": "python",
   "name": "python3"
  }
 },
 "nbformat": 4,
 "nbformat_minor": 5
}
