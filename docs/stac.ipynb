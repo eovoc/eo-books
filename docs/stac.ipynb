{
  "cells": [
    {
      "cell_type": "code",
      "execution_count": null,
      "metadata": {
        "colab": {
          "base_uri": "https://localhost:8080/",
          "height": 87
        },
        "id": "WGCjWESBSw6P",
        "outputId": "fcc15661-6329-401a-92c1-135ec44a1833",
        "tags": [
          "remove-cell"
        ]
      },
      "outputs": [],
      "source": [
        "'''\n",
        "   Copyright 2023 Spacebel s.a.\n",
        "\n",
        "   Licensed under the Apache License, Version 2.0 (the \"License\");\n",
        "   you may not use this file except in compliance with the License.\n",
        "   You may obtain a copy of the License at\n",
        "\n",
        "       http://www.apache.org/licenses/LICENSE-2.0\n",
        "\n",
        "   Unless required by applicable law or agreed to in writing, software\n",
        "   distributed under the License is distributed on an \"AS IS\" BASIS,\n",
        "   WITHOUT WARRANTIES OR CONDITIONS OF ANY KIND, either express or implied.\n",
        "   See the License for the specific language governing permissions and\n",
        "   limitations under the License.\n",
        "'''"
      ]
    },
    {
      "attachments": {},
      "cell_type": "markdown",
      "metadata": {
        "id": "2z-LlDi_NTII"
      },
      "source": [
        "# STAC API\n",
        "\n",
        "## Overview\n",
        "\n",
        "This notebook explains the use of the STAC API interface with GeoJSON response format. It uses the `pystac` [[RD17]](#RD17) and `pystac_client` [[RD18]](#RD18) libraries to access the interface. The visualisation of search results is borrowed from the ODC notebook available at [[RD19]](#RD19).  Examples using `curl` on the command-line are provided as well."
      ]
    },
    {
      "cell_type": "code",
      "execution_count": null,
      "metadata": {
        "tags": [
          "remove-cell"
        ]
      },
      "outputs": [],
      "source": [
        "%pip install geopandas\n",
        "%pip install --force-reinstall -v \"pystac_client==0.6.1\"\n",
        "%pip install intake"
      ]
    },
    {
      "cell_type": "code",
      "execution_count": null,
      "metadata": {
        "tags": [
          "remove-cell"
        ]
      },
      "outputs": [],
      "source": [
        "%pip install folium matplotlib mapclassify\n",
        "%pip install jsonpath_ng"
      ]
    },
    {
      "cell_type": "code",
      "execution_count": null,
      "metadata": {
        "colab": {
          "base_uri": "https://localhost:8080/"
        },
        "id": "552AEdylNTIK",
        "outputId": "95830fba-6992-4408-8500-6f7944ae8115",
        "tags": [
          "remove-cell"
        ]
      },
      "outputs": [],
      "source": [
        "import folium\n",
        "import folium.plugins\n",
        "import geopandas as gpd\n",
        "import shapely.geometry\n",
        "import pandas as pd  \n",
        "import numpy as np\n",
        "import json\n",
        "import urllib.parse\n",
        "import requests\n",
        "\n",
        "from xml.dom import minidom\n",
        "from IPython.display import HTML, display\n",
        "from IPython.display import Markdown as md\n",
        "from pystac_client import Client\n",
        "from pystac import Collection\n",
        "from typing import Any, Dict\n",
        "from urllib.parse import urlparse, parse_qsl\n",
        "from matplotlib import pyplot as plt, cm, colors\n",
        "from PIL import Image\n",
        "from io import BytesIO\n",
        "from branca.element import Figure\n",
        "from concurrent.futures import ThreadPoolExecutor\n",
        "\n",
        "\n",
        "def convert_bounds(bbox, invert_y=False):\n",
        "    \"\"\"\n",
        "    Helper method for changing bounding box representation to leaflet notation\n",
        "\n",
        "    ``(lon1, lat1, lon2, lat2) -> ((lat1, lon1), (lat2, lon2))``\n",
        "    \"\"\"\n",
        "    x1, y1, x2, y2 = bbox\n",
        "    if invert_y:\n",
        "        y1, y2 = y2, y1\n",
        "    return ((y1, x1), (y2, x2))\n",
        "\n",
        "def is_number(s):\n",
        "    try:\n",
        "        float(s)\n",
        "        return True\n",
        "    except ValueError:\n",
        "        return False\n",
        "    \n",
        "\n",
        "def curl_command( url: str, method: str = \"GET\" ) -> str:\n",
        "    \"\"\"\n",
        "    Convert request URL to equivalent curl GET or POST command-line\n",
        "    for STAC search (bash shell).\n",
        "    \"\"\"\n",
        "    c = \"curl -X \" + method\n",
        "    res = urlparse(url)\n",
        "    if \"GET\" in method:\n",
        "        c = c + \" -G \" + res.scheme + \"://\" + res.netloc + res.path\n",
        "    else:\n",
        "        c = c + \" \" + res.scheme + \"://\" + res.netloc + res.path    \\\n",
        "              + \" \\\\\\n\\t--header 'Content-Type: application/json'\"  \\\n",
        "              + \" \\\\\\n\\t--data-raw '{\"\n",
        "    \n",
        "    lst = parse_qsl(res.query)\n",
        "    \n",
        "    first = True \n",
        "    for i in lst:\n",
        "        # print(i[0])\n",
        "        # add \\ to end of previous line\n",
        "        if \"GET\" in method:\n",
        "            # correction 16/3: data-urlencode used.\n",
        "            c = c + ' \\\\\\n\\t--data-urlencode \"'+i[0]+'='+i[1]+'\"'\n",
        "        else:\n",
        "            if not(first):\n",
        "                c = c + ','\n",
        "                \n",
        "            if i[0] in [\"ids\",\"collections\"]:\n",
        "                # \"collections\" and \"ids\") parameter has to be included as an array.\n",
        "                lst = i[1].split(',')       \n",
        "                c = c + '\\n\\t\\t\"'+i[0]+'\": '+str(lst).replace(\"'\",\"\\\"\")\n",
        "            \n",
        "            elif is_number(i[1]) or i[1][0]=='{' or i[1][0]=='[':\n",
        "                # do not surround with quotes if numerical value  or a json object or an array\n",
        "                c = c + '\\n\\t\\t\"'+i[0]+'\": '+i[1]\n",
        "            else:\n",
        "                c = c + '\\n\\t\\t\"'+i[0]+'\": \"'+i[1]+'\"'\n",
        "        first = False\n",
        "        \n",
        "    if \"POST\" in method:\n",
        "        c = c + \"\\n\\t}'\"\n",
        "    return c\n",
        "\n",
        "\n",
        "def display_previews(results):\n",
        "    \"\"\"\n",
        "    Helper method for displaying a grid of quicklooks (if available)\n",
        "    \"\"\"\n",
        "    # create figure\n",
        "    fig = plt.figure(figsize=(20, 20))\n",
        "  \n",
        "    # setting values to rows and column variables for the image grid\n",
        "    rows = 8\n",
        "    columns = 2\n",
        "    pos = 1\n",
        "\n",
        "    for item in results.items():\n",
        "        # print(item.id)\n",
        "        assets = item.assets\n",
        "        try:\n",
        "            # print(\"found thumbnail\", assets['thumbnail'].href)\n",
        "            url = assets['thumbnail'].href\n",
        "            response = requests.get(url)\n",
        "            Image1 = Image.open(BytesIO(response.content))\n",
        "            # display at position 'pos'\n",
        "            fig.add_subplot(rows, columns, pos)\n",
        "            pos = pos+1\n",
        "            # show the image\n",
        "            plt.imshow(Image1)\n",
        "            plt.axis('off')\n",
        "            plt.title(item.id)\n",
        "        except:\n",
        "            pass\n",
        "    return\n",
        "\n",
        "def display_gdf_plot(results):\n",
        "    \"\"\"\n",
        "    Helper method for displaying results as dataframe plot\n",
        "    \"\"\"\n",
        "    # https://github.com/opendatacube/odc-stac (License Apache 2.0)\n",
        "    # https://odc-stac.readthedocs.io/en/latest/notebooks/stac-load-e84-aws.html#Plot-STAC-Items-on-a-Map\n",
        "\n",
        "    # Convert STAC items into a GeoJSON FeatureCollection\n",
        "    stac_json = results.get_all_items_as_dict()\n",
        "\n",
        "    gdf = gpd.GeoDataFrame.from_features(stac_json, \"epsg:4326\")\n",
        "\n",
        "    fig = gdf.plot(\n",
        "        \"datetime\",\n",
        "        edgecolor=\"black\",\n",
        "        categorical=True,\n",
        "        aspect=\"equal\",\n",
        "        alpha=0.5,\n",
        "        figsize=(6, 12),\n",
        "        legend=True,\n",
        "        legend_kwds={\"loc\": \"upper left\", \"frameon\": False, \"ncol\": 1},\n",
        "    )\n",
        "    _ = fig.set_title(\"STAC Query Results\")\n",
        "\n",
        "    # gdf\n",
        "    return\n",
        "\n",
        "def display_date_distribution(results):\n",
        "    \"\"\"\n",
        "    Helper method for displaying number of results per year/month as bar chart\n",
        "    \"\"\"\n",
        "    items = list(results.get_items())\n",
        "    stac_json = results.get_all_items_as_dict()\n",
        "    gdf = gpd.GeoDataFrame.from_features(stac_json)\n",
        "\n",
        "    gdf['date'] = pd.to_datetime(gdf['start_datetime'])\n",
        "    # create a representation of the month with strfmt\n",
        "    gdf['year_month'] = gdf['date'].map(lambda dt: dt.strftime('%Y-%m'))\n",
        "    grouped_df = gdf.groupby('year_month')['year_month'].size().to_frame(\"count\").reset_index()\n",
        "    grouped_df.plot(kind='bar', x='year_month', y='count')\n",
        "    return\n",
        "\n",
        "def display_value_distribution(results, column):\n",
        "    \"\"\"\n",
        "    Helper method for displaying number values in column as bar chart\n",
        "    \"\"\"\n",
        "    items = list(results.get_items())\n",
        "    stac_json = results.get_all_items_as_dict()\n",
        "    gdf = gpd.GeoDataFrame.from_features(stac_json)\n",
        "\n",
        "    # gdf['date'] = pd.to_datetime(gdf['start_datetime'])\n",
        "    # create a representation of the month with strfmt\n",
        "    # gdf['year_month'] = gdf['date'].map(lambda dt: dt.strftime('%Y-%m'))\n",
        "\n",
        "    try:\n",
        "        grouped_df = gdf.groupby(column)[column].size().to_frame(\"count\").reset_index()\n",
        "        grouped_df.plot(kind='bar', x=column, y='count')\n",
        "    except:\n",
        "        print(column + \" values are not available.\")\n",
        "\n",
        "    return\n",
        "\n",
        "\n",
        "def display_map(results):\n",
        "    \"\"\"\n",
        "    Helper method for displaying results on a map\n",
        "    \"\"\"\n",
        "    # https://github.com/python-visualization/folium/issues/1501\n",
        "    stac_json = results.get_all_items_as_dict()\n",
        "    gdf = gpd.GeoDataFrame.from_features(stac_json, \"epsg:4326\")\n",
        "    \n",
        "    fig = Figure(width=\"800px\", height=\"500px\")\n",
        "    map1 = folium.Map()\n",
        "    fig.add_child(map1)\n",
        "\n",
        "    # folium.GeoJson(\n",
        "    #    shapely.geometry.box(*bbox),  # ??\n",
        "    #    style_function=lambda x: dict(fill=False, weight=1, opacity=0.7, color=\"olive\"),\n",
        "    #    name=\"Query\",\n",
        "    # ).add_to(map1)\n",
        "\n",
        "    gdf.explore(\n",
        "        \"start_datetime\",\n",
        "        categorical=True,\n",
        "        tooltip=[\n",
        "            \"title\", \"datetime\", \"start_datetime\", \"platform\", \"instruments\"    \n",
        "        ],\n",
        "        popup=True,\n",
        "        style_kwds=dict(fillOpacity=0.1, width=2),\n",
        "        name=\"STAC\",\n",
        "        m=map1,\n",
        "    )\n",
        "\n",
        "    map1.fit_bounds(bounds=convert_bounds(gdf.unary_union.bounds))\n",
        "    display(fig)\n",
        "    return\n"
      ]
    },
    {
      "cell_type": "code",
      "execution_count": null,
      "metadata": {},
      "outputs": [],
      "source": [
        "URL_LANDING_PAGE =  'https://emc.spacebel.be/' "
      ]
    },
    {
      "cell_type": "code",
      "execution_count": null,
      "metadata": {
        "id": "haFpn9a5Sw6U",
        "tags": [
          "remove-input"
        ]
      },
      "outputs": [],
      "source": [
        "COLLECTION_ID1 = 'PROBA.CHRIS.1A'\n",
        "COLLECTION_ID2 = 'SPOT-6.and.7.ESA.archive'  \n",
        "COLLECTION_ID2_CLOUDS = 'LANDSAT.ETM.GTC'\n",
        "COLLECTION_ID3_CLOUDS = 'IKONOS.ESA.archive'\n",
        "COLLECTION_ID4 = 'Deimos-1.and.2.ESA.archive' \n",
        "COLLECTION_ID5_DMSMM = 'NOAA_AVHRR_L1B_LAC'  # collection with Data Mgt and Stewardship Maturity Matrix\n"
      ]
    },
    {
      "attachments": {},
      "cell_type": "markdown",
      "metadata": {},
      "source": [
        "```{index} double: STAC API ; landing page\n",
        "```\n",
        "\n",
        "### Access landing page\n",
        "\n",
        "The landing page provides access to collections (rel=\"`data`\"), child catalogs (rel=\"`child`\") and the STAC item search endpoint (rel=\"`search`\").\n",
        "Get the catalogue landing page with links to other resources and available collections."
      ]
    },
    {
      "cell_type": "code",
      "execution_count": null,
      "metadata": {
        "tags": [
          "remove-input"
        ]
      },
      "outputs": [],
      "source": [
        "curl_str = curl_command(URL_LANDING_PAGE)\n",
        "md(\"```shell\\n\" + curl_str + \"\\n```\\n\")"
      ]
    },
    {
      "cell_type": "code",
      "execution_count": null,
      "metadata": {
        "tags": [
          "output_scroll"
        ]
      },
      "outputs": [],
      "source": [
        "from pystac_client import Client \n",
        "\n",
        "api = Client.open(URL_LANDING_PAGE) \n",
        "# show as a dictionary\n",
        "api.to_dict()"
      ]
    },
    {
      "cell_type": "code",
      "execution_count": null,
      "metadata": {
        "tags": [
          "output_scroll"
        ]
      },
      "outputs": [],
      "source": [
        "# Get catalog title and description\n",
        "print(\"Title\\t\\t:\", api.title)\n",
        "print(\"Description\\t:\", api.description)\n",
        "print(\"Search link\\t:\", api.get_search_link())\n",
        "\n",
        "# List child catalogs\n",
        "print(\"Child catalogs:\")\n",
        "# for child in api.get_children():\n",
        "#    print(\"\\t\", child.id)\n",
        "    \n",
        "children = [c for c in api.get_children()]\n",
        "children"
      ]
    },
    {
      "cell_type": "code",
      "execution_count": null,
      "metadata": {},
      "outputs": [],
      "source": [
        "# Show title and id for each of the children.\n",
        "for count, child in enumerate(children):\n",
        "    print(f'\\t{count} - {child.title}, id=\"{child.id}\"')"
      ]
    },
    {
      "attachments": {},
      "cell_type": "markdown",
      "metadata": {},
      "source": [
        "The collections are organised as a tree structure which can be traversed until arriving to a collection with items (granules).  Get the details of one of the children of the root catalog as an example."
      ]
    },
    {
      "cell_type": "code",
      "execution_count": null,
      "metadata": {
        "tags": [
          "output_scroll"
        ]
      },
      "outputs": [],
      "source": [
        "child = children[1]\n",
        "child.to_dict()"
      ]
    },
    {
      "cell_type": "code",
      "execution_count": null,
      "metadata": {},
      "outputs": [],
      "source": [
        "# May have again children, get the list\n",
        "children = [c for c in child.get_children()]\n",
        "children"
      ]
    },
    {
      "cell_type": "code",
      "execution_count": null,
      "metadata": {
        "tags": [
          "remove-input"
        ]
      },
      "outputs": [],
      "source": [
        "# Function to print subcatalogs as a tree structure.\n",
        "\n",
        "def print_catalog_as_tree(parent, level=0, max_level=2, max_children=5, indent=\"\"):\n",
        "    \"\"\"\n",
        "    Helper method to show catalog hierarchy as indented list\n",
        "    \"\"\"\n",
        "    children = [c for c in parent.get_children()]\n",
        "    \n",
        "    # if (level < 2) and len(children)>0:\n",
        "    #   for count, child in enumerate(children):\n",
        "    #        print(f'\\t{indent}{count} - {child.title}, id=\"{child.id}\"')\n",
        "    #        print_catalog_as_tree(children[count], level+1, indent+\"  \")\n",
        "    \n",
        "    n = len(children)\n",
        "    if (level < max_level) and (n>0):\n",
        "        i = 0\n",
        "        while (i < n) and ((i < max_children) or (level==0)):\n",
        "            print(f'{indent}{i} - {children[i].title}, id=\"{children[i].id}\"')\n",
        "            print_catalog_as_tree(children[i], level+1, max_level, max_children, indent+\"  \")\n",
        "            i = i + 1\n",
        "    return "
      ]
    },
    {
      "cell_type": "code",
      "execution_count": null,
      "metadata": {
        "tags": [
          "output_scroll"
        ]
      },
      "outputs": [],
      "source": [
        "# Display shortened version of the catalog/collection tree structure.\n",
        "# print_catalog_as_tree( api, max_level=3, max_children=3 )"
      ]
    },
    {
      "attachments": {},
      "cell_type": "markdown",
      "metadata": {
        "id": "q41QPFPwSw6V"
      },
      "source": [
        "```{index} double: pystac_client ; collection search\n",
        "```\n",
        "```{index} double: STAC API ; collection search\n",
        "```\n",
        "## Collection Search\n",
        "\n",
        "The API implements the STAC API Collection Search Extension [[RD25]](#RD25).\n",
        "Available collections can be retrieved from the landing page using a paging mechanism (with rel=\"`next`\" links).  It requires the compliance class to be present.  As `pystac_client` does not support collection search, the `requests` library is used in the examples. "
      ]
    },
    {
      "cell_type": "code",
      "execution_count": null,
      "metadata": {
        "colab": {
          "base_uri": "https://localhost:8080/",
          "height": 98
        },
        "id": "XO278_DjSw6V",
        "outputId": "e1e9f7af-1748-42eb-9d66-1751cbc2da62",
        "tags": [
          "remove-input"
        ]
      },
      "outputs": [],
      "source": [
        "md(f\"The collection endpoint is available as rel='`data`' link at JSONPath $.links[?(@.rel=='data')].  Alternatively, collections can be found by traversing the root catalog (i.e. landing page) and following the rel='`child`' links recursively.  Searchable collections have type: 'Collection' and do not have year/month/day information in their id.  E.g. `{COLLECTION_ID1}` is a searchable collection, \\\n",
        "while `{COLLECTION_ID1}-2022` or `{COLLECTION_ID1}-2022-12` or `{COLLECTION_ID1}-2022-12-06` cannot be used for STAC Item Search.  This limitation may be relaxed in future versions.\")"
      ]
    },
    {
      "cell_type": "code",
      "execution_count": null,
      "metadata": {
        "colab": {
          "base_uri": "https://localhost:8080/",
          "height": 35
        },
        "id": "fEgSZcwESw6W",
        "outputId": "36f3b813-b13c-4121-bfa5-ba98269c756f",
        "tags": []
      },
      "outputs": [],
      "source": [
        "from jsonpath_ng.ext import parse\n",
        "\n",
        "response = requests.get(URL_LANDING_PAGE)\n",
        "data = json.loads(response.text)\n",
        "expression = parse(\"$.links[?(@.rel == 'data')].href\")\n",
        "r = expression.find(data)\n",
        "r[0].value"
      ]
    },
    {
      "cell_type": "code",
      "execution_count": null,
      "metadata": {
        "colab": {
          "base_uri": "https://localhost:8080/",
          "height": 1000
        },
        "id": "MBpo7HRASw6W",
        "outputId": "aeb6b44d-825c-43f4-ef35-5cdf4abe4875",
        "tags": [
          "output_scroll"
        ]
      },
      "outputs": [],
      "source": [
        "# retrieve /collections response\n",
        "response = requests.get(r[0].value)\n",
        "data = json.loads(response.text)\n",
        "jstr = json.dumps(data, indent=3)\n",
        "md(\"```json\\n\" + jstr + \"\\n```\\n\")"
      ]
    },
    {
      "attachments": {},
      "cell_type": "markdown",
      "metadata": {
        "id": "9ttdiTN4Sw6W"
      },
      "source": [
        "The link with rel=\"http://www.opengis.net/def/rel/ogc/1.0/queryables\" provides access to the list of filter criteria available for collection search.  It returns a Queryables object in JSON Schema format."
      ]
    },
    {
      "cell_type": "code",
      "execution_count": null,
      "metadata": {
        "colab": {
          "base_uri": "https://localhost:8080/",
          "height": 35
        },
        "id": "0YlNoFuxSw6X",
        "outputId": "6fb0a148-571d-4278-b976-f554201054ff"
      },
      "outputs": [],
      "source": [
        "from jsonpath_ng.ext import parse\n",
        "\n",
        "expression = parse(\"$.links[?(@.rel == 'http://www.opengis.net/def/rel/ogc/1.0/queryables')].href\")\n",
        "r = expression.find(data)\n",
        "r[0].value"
      ]
    },
    {
      "cell_type": "code",
      "execution_count": null,
      "metadata": {
        "colab": {
          "base_uri": "https://localhost:8080/"
        },
        "id": "HLNVirzhSw6X",
        "outputId": "0fd13dcc-c13b-4716-9d0c-3de5088a53ee"
      },
      "outputs": [],
      "source": [
        "# Get queryables response and list parameters alphabetically.\n",
        "response = requests.get(r[0].value)\n",
        "data = json.loads(response.text)    \n",
        "df = pd.DataFrame(data['properties'].items(),columns=['key','value'])\n",
        "df['type'] = df.apply(lambda row : row[1]['type'], axis = 1)\n",
        "df['format'] = df.apply(lambda row : row[1]['format'] if 'format' in row[1] else '-' , axis = 1)\n",
        "df.drop('value',axis=1).sort_values(by=['key'])"
      ]
    },
    {
      "attachments": {},
      "cell_type": "markdown",
      "metadata": {
        "id": "pIg1vnnfi0WA"
      },
      "source": [
        "Note: The builtin `get_collections()` function of `pystac_client` is not particularly helpful to retrieve all searchable collections.  Its behaviour depends on the presence or absense of the `collections` conformance class (https://api.stacspec.org/v1.0.0-rc.2/collections) in the landing page of the API and may therefore provide unexpected results.  When `child` links are retrieved as `collection`, this is not done recursively, and the first-level child catalogs are retrieved instead."
      ]
    },
    {
      "cell_type": "code",
      "execution_count": null,
      "metadata": {},
      "outputs": [],
      "source": [
        "URL_LANDING_PAGE"
      ]
    },
    {
      "cell_type": "code",
      "execution_count": null,
      "metadata": {
        "colab": {
          "base_uri": "https://localhost:8080/"
        },
        "id": "eoxZ5-k4kD7q",
        "outputId": "54d300e4-06b4-4b24-8780-b211ffbd23f5"
      },
      "outputs": [],
      "source": [
        "from pystac_client import Client, ConformanceClasses \n",
        "\n",
        "api = Client.open(URL_LANDING_PAGE) \n",
        "api._conforms_to(ConformanceClasses.COLLECTIONS)\n"
      ]
    },
    {
      "cell_type": "code",
      "execution_count": null,
      "metadata": {
        "colab": {
          "base_uri": "https://localhost:8080/"
        },
        "id": "SoGMUQbri1jI",
        "outputId": "4db7c22d-9d2a-47b6-dba7-96f97cba24a4"
      },
      "outputs": [],
      "source": [
        "for collection in api.get_collections():\n",
        "    print(collection)"
      ]
    },
    {
      "attachments": {},
      "cell_type": "markdown",
      "metadata": {},
      "source": [
        "The STAC API Collection Search Extension [[RD25]](#RD25) allows retrieving the collections at the `/collections` endpoint.\n",
        "List available collections using `curl`:"
      ]
    },
    {
      "cell_type": "code",
      "execution_count": null,
      "metadata": {
        "tags": [
          "remove-input"
        ]
      },
      "outputs": [],
      "source": [
        "curl_str = curl_command(URL_LANDING_PAGE+\"collections\")\n",
        "md(\"```shell\\n\" + curl_str + \"\\n```\\n\")"
      ]
    },
    {
      "attachments": {},
      "cell_type": "markdown",
      "metadata": {},
      "source": [
        "### Search by free text"
      ]
    },
    {
      "attachments": {},
      "cell_type": "markdown",
      "metadata": {},
      "source": [
        "**Example: 1.1**  \n",
        ">  Search collections by platform (`filter` and `query`).  "
      ]
    },
    {
      "cell_type": "code",
      "execution_count": null,
      "metadata": {},
      "outputs": [],
      "source": [
        "value = 'Seasat'\n",
        "params = { 'filter': \"query='\" + value + \"'\"} \n",
        "URL = f'{URL_LANDING_PAGE}collections?{urllib.parse.urlencode(params)}'"
      ]
    },
    {
      "cell_type": "code",
      "execution_count": null,
      "metadata": {},
      "outputs": [],
      "source": []
    },
    {
      "cell_type": "code",
      "execution_count": null,
      "metadata": {
        "tags": [
          "remove-input"
        ]
      },
      "outputs": [],
      "source": [
        "curl_str = curl_command(URL)\n",
        "md(\"```shell\\n\" + curl_str + \"\\n```\\n\")"
      ]
    },
    {
      "cell_type": "code",
      "execution_count": null,
      "metadata": {},
      "outputs": [],
      "source": [
        "response = requests.get(URL)\n",
        "data = json.loads(response.text)\n",
        "df = pd.json_normalize(data, record_path=['collections'])\n",
        "df[['id', 'keywords']]"
      ]
    },
    {
      "attachments": {},
      "cell_type": "markdown",
      "metadata": {},
      "source": [
        "### Search by title"
      ]
    },
    {
      "attachments": {},
      "cell_type": "markdown",
      "metadata": {},
      "source": [
        "**Example: 1.2**  \n",
        ">  Search collections by title (`filter` and `title`). "
      ]
    },
    {
      "cell_type": "code",
      "execution_count": null,
      "metadata": {},
      "outputs": [],
      "source": [
        "# CQL2 Basic only supports \"=\" operator for strings, thus complete title has to be provided.\n",
        "# Future versions may support \"Advanced Comparison Operators\". \n",
        "value = 'ALOS PALSAR products'\n",
        "params = { 'filter': \"title='\" + value + \"'\"} \n",
        "URL = f'{URL_LANDING_PAGE}collections?{urllib.parse.urlencode(params)}'"
      ]
    },
    {
      "cell_type": "code",
      "execution_count": null,
      "metadata": {
        "tags": [
          "remove-input"
        ]
      },
      "outputs": [],
      "source": [
        "curl_str = curl_command(URL)\n",
        "md(\"```shell\\n\" + curl_str + \"\\n```\\n\")"
      ]
    },
    {
      "cell_type": "code",
      "execution_count": null,
      "metadata": {},
      "outputs": [],
      "source": [
        "response = requests.get(URL)\n",
        "data = json.loads(response.text)\n",
        "df = pd.json_normalize(data, record_path=['collections'])\n",
        "\n",
        "df[['id', 'title']]\n",
        "# df"
      ]
    },
    {
      "attachments": {},
      "cell_type": "markdown",
      "metadata": {
        "id": "zZspHnlLSw6Y"
      },
      "source": [
        "### Search by platform"
      ]
    },
    {
      "attachments": {},
      "cell_type": "markdown",
      "metadata": {
        "id": "LPHAbYEsSw6Y"
      },
      "source": [
        "**Example: 1.3**  \n",
        ">  Search collections by platform (`filter` and `platform`).  "
      ]
    },
    {
      "cell_type": "code",
      "execution_count": null,
      "metadata": {
        "colab": {
          "base_uri": "https://localhost:8080/",
          "height": 35
        },
        "id": "IrM0Q9rjSw6Y",
        "outputId": "64c2fb9a-e9cd-4ef2-81e5-5dbba89cf08e",
        "tags": []
      },
      "outputs": [],
      "source": [
        "URL = URL_LANDING_PAGE + \"collections\"+ \"?filter=platform='PROBA-1'\""
      ]
    },
    {
      "cell_type": "code",
      "execution_count": null,
      "metadata": {
        "tags": [
          "remove-input"
        ]
      },
      "outputs": [],
      "source": [
        "curl_str = curl_command(URL)\n",
        "md(\"```shell\\n\" + curl_str + \"\\n```\\n\")"
      ]
    },
    {
      "cell_type": "code",
      "execution_count": null,
      "metadata": {
        "colab": {
          "base_uri": "https://localhost:8080/"
        },
        "id": "iDa-U5aUSw6Z",
        "outputId": "517cdd3f-f560-463e-f746-f19aaf8ce38b"
      },
      "outputs": [],
      "source": [
        "response = requests.get(URL)\n",
        "data = json.loads(response.text)\n",
        "\n",
        "for f in data['collections']:\n",
        "     # use stac_client representation for collection\n",
        "     c = Collection.from_dict(f)\n",
        "     print(c.title)"
      ]
    },
    {
      "cell_type": "code",
      "execution_count": null,
      "metadata": {
        "colab": {
          "base_uri": "https://localhost:8080/",
          "height": 363
        },
        "id": "OYTnz6-ppfO4",
        "outputId": "1c133de7-2b8d-4d86-bcbf-02e9d8d2d6ec"
      },
      "outputs": [],
      "source": [
        "df = pd.json_normalize(data, record_path=['collections'])\n",
        "df[['title', 'summaries.platform']]"
      ]
    },
    {
      "attachments": {},
      "cell_type": "markdown",
      "metadata": {
        "id": "ofA-rFXJSw6Z"
      },
      "source": [
        "### Search by organisation"
      ]
    },
    {
      "attachments": {},
      "cell_type": "markdown",
      "metadata": {
        "id": "ZMYn8_UVSw6Z"
      },
      "source": [
        "**Example: 1.4**  \n",
        ">  Search collections by organisation (`filter`). "
      ]
    },
    {
      "cell_type": "code",
      "execution_count": null,
      "metadata": {
        "colab": {
          "base_uri": "https://localhost:8080/",
          "height": 35
        },
        "id": "y8n16OjOSw6Z",
        "outputId": "d9fd9086-7d8c-41bc-c9ef-04c5042474de",
        "tags": []
      },
      "outputs": [],
      "source": [
        "URL = URL_LANDING_PAGE + \"collections\"+ \"?filter=organisationName='ESA/ESRIN'\""
      ]
    },
    {
      "cell_type": "code",
      "execution_count": null,
      "metadata": {
        "tags": [
          "remove-input"
        ]
      },
      "outputs": [],
      "source": [
        "curl_str = curl_command(URL)\n",
        "md(\"```shell\\n\" + curl_str + \"\\n```\\n\")"
      ]
    },
    {
      "cell_type": "code",
      "execution_count": null,
      "metadata": {
        "id": "b9oB1H3ySw6Z",
        "tags": [
          "remove-input"
        ]
      },
      "outputs": [],
      "source": [
        "response = requests.get(URL)\n",
        "data = json.loads(response.text)\n",
        "# response.text\n",
        "\n",
        "# for f in data['collections']:\n",
        "#     c = Collection.from_dict(f)\n",
        "      # print(type(c.providers))\n",
        "      # p = list(c.providers())\n",
        "#     print(c.title)\n",
        "     "
      ]
    },
    {
      "cell_type": "code",
      "execution_count": null,
      "metadata": {
        "colab": {
          "base_uri": "https://localhost:8080/",
          "height": 363
        },
        "id": "w4Wb6hHMrcNE",
        "outputId": "1825de16-e496-4940-ebfe-3f09a08b200e"
      },
      "outputs": [],
      "source": [
        "df = pd.json_normalize(data, record_path=['collections'])\n",
        "df[['title', 'providers']]"
      ]
    },
    {
      "attachments": {},
      "cell_type": "markdown",
      "metadata": {},
      "source": [
        "### Search by bounding box"
      ]
    },
    {
      "attachments": {},
      "cell_type": "markdown",
      "metadata": {},
      "source": [
        "**Example: 1.5**  \n",
        ">  Search collections by bounding box (`bbox`). "
      ]
    },
    {
      "cell_type": "code",
      "execution_count": null,
      "metadata": {},
      "outputs": [],
      "source": [
        "URL = URL_LANDING_PAGE + \"collections\"+ \"?bbox=14.90,37.700,14.99,37.780\""
      ]
    },
    {
      "cell_type": "code",
      "execution_count": null,
      "metadata": {
        "tags": [
          "remove-input"
        ]
      },
      "outputs": [],
      "source": [
        "curl_str = curl_command(URL)\n",
        "md(\"```shell\\n\" + curl_str + \"\\n```\\n\")"
      ]
    },
    {
      "cell_type": "code",
      "execution_count": null,
      "metadata": {},
      "outputs": [],
      "source": [
        "response = requests.get(URL)\n",
        "data = json.loads(response.text)\n",
        "df = pd.json_normalize(data, record_path=['collections'])\n",
        "df[['id', 'extent.spatial.bbox']]"
      ]
    },
    {
      "attachments": {},
      "cell_type": "markdown",
      "metadata": {},
      "source": [
        "### Search by temporal extent"
      ]
    },
    {
      "attachments": {},
      "cell_type": "markdown",
      "metadata": {},
      "source": [
        "**Example: 1.6**  \n",
        ">  Search collections by temporal extent (`datetime` with closed range). "
      ]
    },
    {
      "cell_type": "code",
      "execution_count": null,
      "metadata": {},
      "outputs": [],
      "source": [
        "URL = URL_LANDING_PAGE + \"collections\"+ \"?datetime=\" + '2002-01-01T00:00:00.000Z/2003-12-31T23:59:59.999Z'"
      ]
    },
    {
      "cell_type": "code",
      "execution_count": null,
      "metadata": {
        "tags": [
          "remove-input"
        ]
      },
      "outputs": [],
      "source": [
        "curl_str = curl_command(URL)\n",
        "md(\"```shell\\n\" + curl_str + \"\\n```\\n\")"
      ]
    },
    {
      "cell_type": "code",
      "execution_count": null,
      "metadata": {},
      "outputs": [],
      "source": [
        "response = requests.get(URL)\n",
        "data = json.loads(response.text)\n",
        "\n",
        "df = pd.json_normalize(data, record_path=['collections'])\n",
        "df[['id', 'extent.temporal.interval']]"
      ]
    },
    {
      "attachments": {},
      "cell_type": "markdown",
      "metadata": {},
      "source": [
        "**Example: 1.7**  \n",
        ">  Search collections by temporal extent (`datetime` with open range). "
      ]
    },
    {
      "cell_type": "code",
      "execution_count": null,
      "metadata": {},
      "outputs": [],
      "source": [
        "URL = URL_LANDING_PAGE + \"collections\"+ \"?datetime=\" + '../2001-12-31T23:59:59.999Z'"
      ]
    },
    {
      "cell_type": "code",
      "execution_count": null,
      "metadata": {
        "tags": [
          "remove-input"
        ]
      },
      "outputs": [],
      "source": [
        "curl_str = curl_command(URL)\n",
        "md(\"```shell\\n\" + curl_str + \"\\n```\\n\")"
      ]
    },
    {
      "cell_type": "code",
      "execution_count": null,
      "metadata": {},
      "outputs": [],
      "source": [
        "response = requests.get(URL)\n",
        "data = json.loads(response.text)\n",
        "\n",
        "df = pd.json_normalize(data, record_path=['collections'])\n",
        "df[['id', 'extent.temporal.interval']]"
      ]
    },
    {
      "attachments": {},
      "cell_type": "markdown",
      "metadata": {},
      "source": [
        "**Example: 1.8**  \n",
        ">  Search collections by temporal extent (`datetime` with single date)."
      ]
    },
    {
      "cell_type": "code",
      "execution_count": null,
      "metadata": {},
      "outputs": [],
      "source": [
        "URL = URL_LANDING_PAGE + \"collections\"+ \"?datetime=\" + '2002-12-31T23:59:59.999Z'"
      ]
    },
    {
      "cell_type": "code",
      "execution_count": null,
      "metadata": {
        "tags": [
          "remove-input"
        ]
      },
      "outputs": [],
      "source": [
        "curl_str = curl_command(URL)\n",
        "md(\"```shell\\n\" + curl_str + \"\\n```\\n\")"
      ]
    },
    {
      "cell_type": "code",
      "execution_count": null,
      "metadata": {},
      "outputs": [],
      "source": [
        "response = requests.get(URL)\n",
        "data = json.loads(response.text)\n",
        "\n",
        "df = pd.json_normalize(data, record_path=['collections'])\n",
        "df[['id', 'extent.temporal.interval']]"
      ]
    },
    {
      "attachments": {},
      "cell_type": "markdown",
      "metadata": {
        "id": "usmYz3TYSw6a"
      },
      "source": [
        "### Get by identifier"
      ]
    },
    {
      "attachments": {},
      "cell_type": "markdown",
      "metadata": {},
      "source": [
        "**Example: 1.9**  \n",
        ">  Get collections by identifier (`ids`). "
      ]
    },
    {
      "cell_type": "code",
      "execution_count": null,
      "metadata": {},
      "outputs": [],
      "source": [
        "URL = URL_LANDING_PAGE + 'collections?ids=' + COLLECTION_ID1 + ',' + COLLECTION_ID2"
      ]
    },
    {
      "cell_type": "code",
      "execution_count": null,
      "metadata": {
        "tags": [
          "remove-input"
        ]
      },
      "outputs": [],
      "source": [
        "curl_str = curl_command(URL)\n",
        "md(\"```shell\\n\" + curl_str + \"\\n```\\n\")"
      ]
    },
    {
      "cell_type": "code",
      "execution_count": null,
      "metadata": {},
      "outputs": [],
      "source": [
        "response = requests.get(URL)\n",
        "data = json.loads(response.text)\n",
        "\n",
        "df = pd.json_normalize(data, record_path=['collections'])\n",
        "df[['id', 'title', 'extent.temporal.interval']]"
      ]
    },
    {
      "attachments": {},
      "cell_type": "markdown",
      "metadata": {
        "id": "ReschJWhSw6a"
      },
      "source": [
        "**Example: 1.10**  \n",
        ">  Get collection by identifier.  "
      ]
    },
    {
      "cell_type": "code",
      "execution_count": null,
      "metadata": {
        "colab": {
          "base_uri": "https://localhost:8080/",
          "height": 64
        },
        "id": "wluT9Z0tSw6a",
        "outputId": "2fd4e93d-d364-43ea-b4dc-b42e47b4b449",
        "tags": [
          "remove-input"
        ]
      },
      "outputs": [],
      "source": [
        "md(f\"The collection metadata for `{COLLECTION_ID1}`, is available at  \\\n",
        "at {URL_LANDING_PAGE + 'collections/' + COLLECTION_ID1}.  This corresponds to one of the many representations available at {URL_LANDING_PAGE + 'collections/series/items/' + COLLECTION_ID1} using content-negotiation.\")"
      ]
    },
    {
      "cell_type": "code",
      "execution_count": null,
      "metadata": {},
      "outputs": [],
      "source": [
        "URL = URL_LANDING_PAGE + 'collections/' + COLLECTION_ID1"
      ]
    },
    {
      "cell_type": "code",
      "execution_count": null,
      "metadata": {
        "tags": [
          "remove-input"
        ]
      },
      "outputs": [],
      "source": [
        "curl_str = curl_command(URL)\n",
        "md(\"```shell\\n\" + curl_str + \"\\n```\\n\")"
      ]
    },
    {
      "cell_type": "code",
      "execution_count": null,
      "metadata": {
        "colab": {
          "base_uri": "https://localhost:8080/",
          "height": 1000
        },
        "id": "GkArntTkSw6b",
        "outputId": "d2f65065-e3b1-4f83-83a3-d28d218dfbd8",
        "tags": [
          "remove-input"
        ]
      },
      "outputs": [],
      "source": [
        "# retrieve collection by identifier\n",
        "response = requests.get(URL)\n",
        "data = json.loads(response.text)\n",
        "\n",
        "print(\"id: \", data['id'])\n",
        "print(\"title: \", data['title'])\n",
        "df = pd.json_normalize(data, max_level = 0)\n",
        "df.transpose()"
      ]
    },
    {
      "cell_type": "code",
      "execution_count": null,
      "metadata": {
        "colab": {
          "base_uri": "https://localhost:8080/",
          "height": 457
        },
        "id": "6T8yLUGW9UjS",
        "outputId": "db18d10b-0667-44bb-c82d-4018fb0945e7",
        "tags": [
          "output_scroll"
        ]
      },
      "outputs": [],
      "source": [
        "jstr = json.dumps(data, indent=3)\n",
        "md(\"```json\\n\" + jstr + \"\\n```\\n\")"
      ]
    },
    {
      "attachments": {},
      "cell_type": "markdown",
      "metadata": {},
      "source": [
        "### Search by DOI"
      ]
    },
    {
      "attachments": {},
      "cell_type": "markdown",
      "metadata": {},
      "source": [
        "**Example: 1.11**  \n",
        ">  Search collections by DOI (`filter` with `doi`). "
      ]
    },
    {
      "cell_type": "code",
      "execution_count": null,
      "metadata": {},
      "outputs": [],
      "source": [
        "value = '10.5270/esa-qoe849q'\n",
        "params = { 'filter': \"doi = '\" + value + \"'\"} \n",
        "URL = f'{URL_LANDING_PAGE}collections?{urllib.parse.urlencode(params)}'"
      ]
    },
    {
      "cell_type": "code",
      "execution_count": null,
      "metadata": {
        "tags": [
          "remove-input"
        ]
      },
      "outputs": [],
      "source": [
        "curl_str = curl_command(URL)\n",
        "md(\"```shell\\n\" + curl_str + \"\\n```\\n\")"
      ]
    },
    {
      "cell_type": "code",
      "execution_count": null,
      "metadata": {},
      "outputs": [],
      "source": [
        "response = requests.get(URL)\n",
        "data = json.loads(response.text)\n",
        "\n",
        "df = pd.json_normalize(data, record_path=['collections'])\n",
        "df[['id', 'title']]"
      ]
    },
    {
      "attachments": {},
      "cell_type": "markdown",
      "metadata": {},
      "source": [
        "\n",
        "### Search by concept"
      ]
    },
    {
      "attachments": {},
      "cell_type": "markdown",
      "metadata": {},
      "source": [
        "**Example: 1.12**  \n",
        ">  Search collections by concept URI (`filter` with `classifiedAs`). \n",
        "\n",
        "\n",
        "Collection metadata includes platform, instrument and science keywords, including the URI of these concepts expressed in the ESA thesauri and NASA GCMD thesauri.  The URI of these concepts can be used as search parameter.  \n",
        "\n",
        "In the current version of the software, the following concept URIs are supported:\n",
        "\n",
        "* ESA thesaurus platform URI\n",
        "* ESA thesaurus instrument URI\n",
        "* ESA thesaurus earth topic URI\n",
        "* GCMD platform URI\n",
        "* GCMD instrument URI\n",
        "* GCMD science keyword URI"
      ]
    },
    {
      "cell_type": "code",
      "execution_count": null,
      "metadata": {},
      "outputs": [],
      "source": [
        "# Concept defining PROBA-1\n",
        "# https://gcmd.earthdata.nasa.gov/kms/concept/fe4a4604-029e-4cdc-93f0-6d8799dd25e5\n",
        "# Concept defining ENVISAT\n",
        "# https://gcmd.earthdata.nasa.gov/kms/concept/11ea961b-1d0b-5d6d-a55a-b58aed01d430\n",
        "\n",
        "concept_uri = 'https://earth.esa.int/concept/b3979ff2-d27d-5f22-9e06-a18c5759d9a5'\n",
        "URL = URL_LANDING_PAGE + \"collections\"+ \"?filter=classifiedAs='\" + concept_uri +  \"'\""
      ]
    },
    {
      "cell_type": "code",
      "execution_count": null,
      "metadata": {
        "tags": [
          "remove-input"
        ]
      },
      "outputs": [],
      "source": [
        "curl_str = curl_command(URL)\n",
        "md(\"```shell\\n\" + curl_str + \"\\n```\\n\")"
      ]
    },
    {
      "cell_type": "code",
      "execution_count": null,
      "metadata": {},
      "outputs": [],
      "source": [
        "response = requests.get(URL)\n",
        "data = json.loads(response.text)\n",
        "\n",
        "df = pd.json_normalize(data, record_path=['collections'])\n",
        "df[['id', 'title']]"
      ]
    },
    {
      "cell_type": "code",
      "execution_count": null,
      "metadata": {
        "tags": [
          "output_scroll"
        ]
      },
      "outputs": [],
      "source": [
        "# Get more details about the ESA Thesauri concept via the SPARQL interface.\n",
        "# Make SPARQL request to obtain concept details.\n",
        "#q=\"DESCRIBE <\" + concept_uri + \"> WHERE { }\"\n",
        "#response = requests.post(\n",
        "#    'https://eovoc.spacebel.be/thesaurus/sparql', \n",
        "#    data=q, headers={'content-type': 'application/sparql-query', 'Accept': 'application/ld+json'})\n",
        "# Can also use application/rdf+xml\n",
        "#jstr = response.text\n",
        "#md(\"```json\\n\" + jstr + \"\\n```\\n\")\n"
      ]
    },
    {
      "cell_type": "code",
      "execution_count": null,
      "metadata": {},
      "outputs": [],
      "source": [
        "# Concept defining PROBA-1\n",
        "concept_uri = 'https://gcmd.earthdata.nasa.gov/kms/concept/fe4a4604-029e-4cdc-93f0-6d8799dd25e5'\n",
        "# ENVISAT: 11ea961b-1d0b-5d6d-a55a-b58aed01d430\n",
        "URL = URL_LANDING_PAGE + \"collections\"+ \"?filter=classifiedAs='\" + concept_uri +  \"'\""
      ]
    },
    {
      "cell_type": "code",
      "execution_count": null,
      "metadata": {},
      "outputs": [],
      "source": [
        "curl_str = curl_command(URL)\n",
        "md(\"```shell\\n\" + curl_str + \"\\n```\\n\")"
      ]
    },
    {
      "cell_type": "code",
      "execution_count": null,
      "metadata": {},
      "outputs": [],
      "source": [
        "response = requests.get(URL)\n",
        "data = json.loads(response.text)\n",
        "\n",
        "df = pd.json_normalize(data, record_path=['collections'])\n",
        "df[['id', 'title']]"
      ]
    },
    {
      "attachments": {},
      "cell_type": "markdown",
      "metadata": {},
      "source": [
        "Get more details about the GCMD concept:"
      ]
    },
    {
      "cell_type": "code",
      "execution_count": null,
      "metadata": {
        "tags": [
          "output_scroll"
        ]
      },
      "outputs": [],
      "source": [
        "response = requests.get(concept_uri)\n",
        "# response.text\n",
        "xmlstr = minidom.parseString(response.text).toprettyxml(indent='   ',newl='')\n",
        "md(\"```xml\\n\" + xmlstr + \"\\n```\\n\")"
      ]
    },
    {
      "attachments": {},
      "cell_type": "markdown",
      "metadata": {
        "id": "-6nmKad7Sw6b"
      },
      "source": [
        "## Collection properties"
      ]
    },
    {
      "attachments": {},
      "cell_type": "markdown",
      "metadata": {},
      "source": [
        "### Collection identification"
      ]
    },
    {
      "cell_type": "code",
      "execution_count": null,
      "metadata": {},
      "outputs": [],
      "source": [
        "URL = URL_LANDING_PAGE + 'collections/' + 'TropForest'\n",
        "# URL = URL_LANDING_PAGE + 'collections/' + COLLECTION_ID1"
      ]
    },
    {
      "cell_type": "code",
      "execution_count": null,
      "metadata": {
        "tags": [
          "remove-input"
        ]
      },
      "outputs": [],
      "source": [
        "curl_str = curl_command(URL)\n",
        "md(\"```shell\\n\" + curl_str + \"\\n```\\n\")"
      ]
    },
    {
      "cell_type": "code",
      "execution_count": null,
      "metadata": {
        "tags": [
          "output_scroll"
        ]
      },
      "outputs": [],
      "source": [
        "response = requests.get(URL)\n",
        "data = json.loads(response.text)\n",
        "jstr = json.dumps(data, indent=3)\n",
        "md(\"```json\\n\" + jstr + \"\\n```\\n\")"
      ]
    },
    {
      "cell_type": "code",
      "execution_count": null,
      "metadata": {},
      "outputs": [],
      "source": [
        "\n",
        "\n",
        "# use stac_client class for STAC collection\n",
        "c = Collection.from_dict(data)\n",
        "print(\"id\\t\\t:\", c.id)\n",
        "print(\"title\\t\\t:\", c.title)\n",
        "print(\"description\\t:\", c.description)\n",
        "print(\"keywords\\t:\", c.keywords)\n",
        "print(\"spatial extent\\t:\", c.extent.spatial)\n",
        "print(\"temporal extent\\t:\", c.extent.temporal)\n",
        "# print(\"providers\\t:\", c.providers)\n",
        "# c"
      ]
    },
    {
      "attachments": {},
      "cell_type": "markdown",
      "metadata": {},
      "source": [
        "The collection id (`id`) is to be used as `collections` parameter for a corresponding STAC item (granule) search.  It can also be used in the `ids` parameter when searching collections by identifier."
      ]
    },
    {
      "attachments": {},
      "cell_type": "markdown",
      "metadata": {},
      "source": [
        "### Collection DOI"
      ]
    },
    {
      "attachments": {},
      "cell_type": "markdown",
      "metadata": {},
      "source": [
        "Not all collections have a digital object identifier assigned.  if they do, then it is available as `sci:doi` property.  This value can be used for searching collections by DOI.  Collections with DOI, typically also contain a link with rel=\"cite-as\" referring to their landing page."
      ]
    },
    {
      "cell_type": "code",
      "execution_count": null,
      "metadata": {},
      "outputs": [],
      "source": [
        "try: \n",
        "    print(data['sci:doi'])\n",
        "except:\n",
        "    print(\"Not available\")"
      ]
    },
    {
      "attachments": {},
      "cell_type": "markdown",
      "metadata": {},
      "source": [
        "### Collection geometry\n",
        "\n",
        "Geometry information for a collection is included in the JSON response at the path `$.extent.spatial`."
      ]
    },
    {
      "cell_type": "code",
      "execution_count": null,
      "metadata": {},
      "outputs": [],
      "source": [
        "data['extent']['spatial']"
      ]
    },
    {
      "attachments": {},
      "cell_type": "markdown",
      "metadata": {},
      "source": [
        "### Collection temporal extent\n",
        "\n",
        "The JSON response element provides temporal information for a collection, i.e. the start time and end time at the path `$.extent.temporal`.  The end time may be absent indicating that the collection is not completed."
      ]
    },
    {
      "cell_type": "code",
      "execution_count": null,
      "metadata": {},
      "outputs": [],
      "source": [
        "try: \n",
        "    print(data['extent']['temporal'])\n",
        "except:\n",
        "    print(\"Not available\")"
      ]
    },
    {
      "attachments": {},
      "cell_type": "markdown",
      "metadata": {
        "id": "3xGUOtBBSw6b"
      },
      "source": [
        "```{index} double: STAC API ; collection assets\n",
        "```\n",
        "```{index} double: collection assets ; ISO19139 \n",
        "```\n",
        "```{index} double: collection assets ; ISO19139-2 \n",
        "```\n",
        "```{index} double: collection assets ; ISO19115-3 \n",
        "```\n",
        "```{index} double: collection assets ; ISO19157-2 \n",
        "```\n",
        "```{index} double: collection assets ; DIF 10 \n",
        "```\n",
        "```{index} double: collection assets ; GeoDCAT-AP \n",
        "```\n",
        "\n",
        "### Collection assets\n",
        "\n",
        "Collections provide access to a dictionary with `assets`.  The `roles` attribute indicates the purpose of the asset. The `href` attribute provides the URL to access the asset.  Collection assets may include `thumbnail` (when available), `search` interfaces, and various `metadata` formats. \n",
        "\n",
        "The table below list some frequently used `metadata` formats and their corresponding media type (`type`).\n",
        "\n",
        "| Format                   | type |   \n",
        "| --------                   | --------- | \n",
        "| [ISO19139](https://www.iso.org/standard/32557.html)        | application/vnd.iso.19139+xml |  \n",
        "| [ISO19139-2](https://www.iso.org/standard/57104.html)      | application/vnd.iso.19139-2+xml | \n",
        "| [ISO19115-3](https://www.iso.org/standard/32579.html)      | application/vnd.iso.19115-3+xml | \n",
        "| [ISO19157-2](https://www.iso.org/standard/66197.html)      | application/vnd.iso.19157-2+xml | "
      ]
    },
    {
      "cell_type": "code",
      "execution_count": null,
      "metadata": {},
      "outputs": [],
      "source": [
        "URL = URL_LANDING_PAGE + 'collections/' + COLLECTION_ID1"
      ]
    },
    {
      "cell_type": "code",
      "execution_count": null,
      "metadata": {
        "colab": {
          "base_uri": "https://localhost:8080/",
          "height": 1000
        },
        "id": "hMaZ07CRSw6c",
        "outputId": "37224a8f-f7e9-4e0a-b3d3-7ebe50e854a7",
        "tags": [
          "output_scroll"
        ]
      },
      "outputs": [],
      "source": [
        "response = requests.get(URL)\n",
        "data = json.loads(response.text)\n",
        "\n",
        "# Show assets of the collection (GeoJSON)\n",
        "jstr = json.dumps(data['assets'], indent=3)\n",
        "md(\"```json\\n\" + jstr + \"\\n```\\n\")"
      ]
    },
    {
      "cell_type": "code",
      "execution_count": null,
      "metadata": {
        "colab": {
          "base_uri": "https://localhost:8080/",
          "height": 300
        },
        "id": "jJzytT-PSw6c",
        "outputId": "76265d01-405e-482f-836d-6c8fbe9d3437"
      },
      "outputs": [],
      "source": [
        "# Display assets belonging to the collection\n",
        "c = Collection.from_dict(data)\n",
        "assets = c.assets\n",
        "df = pd.DataFrame(columns=['roles', 'title', 'type'])\n",
        "for key in assets:\n",
        "    ndf = pd.DataFrame({ \n",
        "            'roles': assets[key].roles, \n",
        "            'type': assets[key].media_type, \n",
        "            'title': assets[key].title, \n",
        "            # 'href': assets[key].href  \n",
        "        }, index = [0])\n",
        "    df = pd.concat([df, ndf], ignore_index=True)\n",
        "df"
      ]
    },
    {
      "attachments": {},
      "cell_type": "markdown",
      "metadata": {
        "id": "8iCEveh4Sw6c"
      },
      "source": [
        "```{index} double: STAC API ; collection links\n",
        "```\n",
        "\n",
        "### Collection links\n",
        "\n",
        "Collections provide access to additional resources via `links`.  The `rel` attribute indicates the purpose of the resource. The `href` attribute provides the URL to access the resource.  Collection assets may include `thumbnail` (when available), `search` interfaces, and various `metadata` formats. \n"
      ]
    },
    {
      "cell_type": "code",
      "execution_count": null,
      "metadata": {
        "colab": {
          "base_uri": "https://localhost:8080/",
          "height": 990
        },
        "id": "YgaRyx23Sw6c",
        "outputId": "d03fde63-e3ff-4d86-f163-8fea219650fd"
      },
      "outputs": [],
      "source": [
        "# Display links belonging to the collection\n",
        "links = c.links\n",
        "df = pd.DataFrame(columns=['rel', 'title', 'type'])\n",
        "for link in links:    \n",
        "    ndf = pd.DataFrame({ 'rel': link.rel,'type': link.media_type, 'title': link.title }, index = [0])\n",
        "    df = pd.concat([df, ndf], ignore_index=True)\n",
        "df"
      ]
    },
    {
      "attachments": {},
      "cell_type": "markdown",
      "metadata": {
        "id": "LRbn98yjSw6c"
      },
      "source": [
        "Of particular importance is the link providing access to the list of filter criteria available for granule search within this collection.  This link provides access to a Queryables object in JSON Schema format."
      ]
    },
    {
      "cell_type": "code",
      "execution_count": null,
      "metadata": {
        "colab": {
          "base_uri": "https://localhost:8080/",
          "height": 35
        },
        "id": "nD23lbwjSw6c",
        "outputId": "f354a274-e70f-412a-ba46-f90eac851237"
      },
      "outputs": [],
      "source": [
        "links = c.get_links(rel = 'http://www.opengis.net/def/rel/ogc/1.0/queryables', media_type = 'application/schema+json' )\n",
        "links[0].href"
      ]
    },
    {
      "cell_type": "code",
      "execution_count": null,
      "metadata": {},
      "outputs": [],
      "source": [
        "response = requests.get(links[0].href)   \n",
        "data = json.loads(response.text)    \n",
        "df = pd.DataFrame(data['properties'].items(),columns=['key','value'])\n",
        "df['type'] = df.apply(lambda row : row[1]['type'], axis = 1)\n",
        "df['format'] = df.apply(lambda row : row[1]['format'] if 'format' in row[1] else '-' , axis = 1)\n",
        "df.drop('value',axis=1).sort_values(by=['key'])"
      ]
    },
    {
      "attachments": {},
      "cell_type": "markdown",
      "metadata": {
        "id": "W6SJuek2Sw6d"
      },
      "source": [
        "```{index} double: pystac_client ; granule search\n",
        "```\n",
        "```{index} double: STAC API ; granule search\n",
        "```\n",
        "## Granule Search"
      ]
    },
    {
      "attachments": {},
      "cell_type": "markdown",
      "metadata": {
        "id": "qL37WpKSSw6d"
      },
      "source": [
        "```{index} double: STAC API ; landing page\n",
        "```\n",
        "\n",
        "### Access landing page\n",
        "\n",
        "The landing page provides access to collections (rel=\"`data`\"), child catalogs (rel=\"`child`\") and the STAC item search endpoint (rel=\"`search`\")."
      ]
    },
    {
      "cell_type": "code",
      "execution_count": null,
      "metadata": {
        "tags": [
          "output_scroll"
        ]
      },
      "outputs": [],
      "source": [
        "from pystac_client import Client \n",
        "\n",
        "api = Client.open(URL_LANDING_PAGE) \n",
        "# show as a dictionary\n",
        "api.to_dict()"
      ]
    },
    {
      "attachments": {},
      "cell_type": "markdown",
      "metadata": {},
      "source": [
        "The STAC granule search endpoint can be found in the landing page (rel=\"search\").  When performing searches, the collections to be searched are specified using their `id`.  You can find the `id` by browsing the catalogue/collection hierarchy or via a collection search."
      ]
    },
    {
      "cell_type": "code",
      "execution_count": null,
      "metadata": {
        "colab": {
          "base_uri": "https://localhost:8080/"
        },
        "id": "-lxQpu_0Sw6d",
        "outputId": "f125eb46-b9bd-4d48-825a-f2665671441a",
        "tags": []
      },
      "outputs": [],
      "source": [
        "# Get STAC granule search link to be used.\n",
        "print(\"Search link\\t:\", api.get_search_link())"
      ]
    },
    {
      "attachments": {},
      "cell_type": "markdown",
      "metadata": {
        "id": "V-fdcpYnSw6d"
      },
      "source": [
        "```{index} double: STAC API ; intersects\n",
        "```\n",
        "```{index} double: STAC API ; GET\n",
        "```\n",
        "\n",
        "### Search by geometry\n",
        "\n",
        "Collections support granule search with the `intersects` [[RD11]](#RD11) search parameter."
      ]
    },
    {
      "attachments": {},
      "cell_type": "markdown",
      "metadata": {
        "id": "M8ouWJugSw6d"
      },
      "source": [
        "```{index} double: pystac_client ; intersects\n",
        "```\n",
        "\n",
        "**Example: 2.1**  \n",
        ">  Search granules by geometry {intersects} [[RD11]](#RD11) and `GET` method.  Geometry parameter can be provided as dictionary or string."
      ]
    },
    {
      "cell_type": "code",
      "execution_count": null,
      "metadata": {
        "colab": {
          "base_uri": "https://localhost:8080/",
          "height": 53
        },
        "id": "iQ5vXMl_NTIM",
        "outputId": "82d33614-e23d-437f-a950-c58a20f8361d"
      },
      "outputs": [],
      "source": [
        "# See https://pystac-client.readthedocs.io/en/stable/usage.html\n",
        "#     https://pystac-client.readthedocs.io/en/stable/tutorials.html\n",
        "#     https://pystac-client.readthedocs.io/en/latest/tutorials/item-search-intersects.html\n",
        "\n",
        "aoi_as_dict: Dict[str, Any] = {\n",
        "    \"type\": \"Polygon\",\n",
        "    \"coordinates\": [\n",
        "      [\n",
        "        [\n",
        "          14.90,\n",
        "          37.700\n",
        "        ],\n",
        "        [\n",
        "          14.90,\n",
        "          37.780\n",
        "        ],\n",
        "        [\n",
        "          14.99,\n",
        "          37.780\n",
        "        ],\n",
        "        [\n",
        "          14.99,\n",
        "          37.700\n",
        "        ],\n",
        "        [\n",
        "          14.90,\n",
        "          37.700\n",
        "        ]\n",
        "      ]\n",
        "    ]\n",
        "}\n",
        "\n",
        "from pystac_client import Client \n",
        "api = Client.open(URL_LANDING_PAGE) \n",
        "\n",
        "results = api.search(\n",
        "    method = 'GET',         \n",
        "    max_items = 2,\n",
        "    collections=[COLLECTION_ID1],\n",
        "    # intersects = json.dumps(aoi_as_dict), \n",
        "    intersects = aoi_as_dict,\n",
        "    datetime=['2015-01-01T00:00:00Z', '2022-01-02T00:00:00Z']\n",
        ")"
      ]
    },
    {
      "cell_type": "code",
      "execution_count": null,
      "metadata": {
        "tags": [
          "remove-input"
        ]
      },
      "outputs": [],
      "source": [
        "curl_str = curl_command(results.url_with_parameters(), \"GET\")\n",
        "md(\"```shell\\n\" + curl_str + \"\\n```\\n\")"
      ]
    },
    {
      "attachments": {},
      "cell_type": "markdown",
      "metadata": {},
      "source": [
        "```{index} double: response element ; numberMatched (STAC)\n",
        "```\n",
        "The total number of results available is reported in the `numberMatched` property."
      ]
    },
    {
      "cell_type": "code",
      "execution_count": null,
      "metadata": {
        "colab": {
          "base_uri": "https://localhost:8080/"
        },
        "id": "HLEOgjfqSw6e",
        "outputId": "cd6a9913-b8bb-41c5-bd7c-e171a00ba471",
        "tags": [
          "remove-input"
        ]
      },
      "outputs": [],
      "source": [
        "print(f\"{results.matched()} items found.\")"
      ]
    },
    {
      "cell_type": "code",
      "execution_count": null,
      "metadata": {
        "colab": {
          "base_uri": "https://localhost:8080/",
          "height": 1000
        },
        "id": "6eW82rywSw6e",
        "outputId": "94d4f991-5eff-4561-ebd4-80865bbeb31b",
        "tags": [
          "output_scroll"
        ]
      },
      "outputs": [],
      "source": [
        "# Show search response (GeoJSON)\n",
        "data = results.get_all_items_as_dict()\n",
        "jstr = json.dumps(data, indent=3)\n",
        "md(\"```json\\n\" + jstr + \"\\n```\\n\")"
      ]
    },
    {
      "attachments": {},
      "cell_type": "markdown",
      "metadata": {},
      "source": [
        "```{index} double: STAC API ; POST\n",
        "```\n",
        "\n",
        "**Example: 2.2**  \n",
        ">  Search granules by geometry {intersects} [[RD11]](#RD11) and `POST` method.  Geometry parameter can be provided as dictionary or string."
      ]
    },
    {
      "cell_type": "code",
      "execution_count": null,
      "metadata": {},
      "outputs": [],
      "source": [
        "# same request with POST\n",
        "from pystac_client import Client \n",
        "api = Client.open(URL_LANDING_PAGE) \n",
        "\n",
        "results = api.search(\n",
        "    method = 'POST',        \n",
        "    max_items = 2,\n",
        "    collections=[COLLECTION_ID1],\n",
        "    # intersects = json.dumps(aoi_as_dict), \n",
        "    intersects = aoi_as_dict,\n",
        "    datetime=['2015-01-01T00:00:00Z', '2022-01-02T00:00:00Z']\n",
        ")"
      ]
    },
    {
      "cell_type": "code",
      "execution_count": null,
      "metadata": {
        "tags": [
          "remove-input"
        ]
      },
      "outputs": [],
      "source": [
        "curl_str = curl_command(results.url_with_parameters(), \"POST\")\n",
        "md(\"```shell\\n\" + curl_str + \"\\n```\\n\")"
      ]
    },
    {
      "cell_type": "code",
      "execution_count": null,
      "metadata": {},
      "outputs": [],
      "source": [
        "print(f\"{results.matched()} items found.\")"
      ]
    },
    {
      "attachments": {},
      "cell_type": "markdown",
      "metadata": {
        "id": "zd2tc5mlSw6e"
      },
      "source": [
        "```{index} double: STAC API ; bbox\n",
        "```\n",
        "\n",
        "### Search by bounding box"
      ]
    },
    {
      "attachments": {},
      "cell_type": "markdown",
      "metadata": {
        "id": "_wUF_UDCSw6e"
      },
      "source": [
        "```{index} double: pystac_client ; bbox\n",
        "```\n",
        "\n",
        "The geometry parameter can be provided as Python list or tuple.\n",
        "\n",
        "**Example: 2.3**  \n",
        ">  Search granules by bounding box {bbox} list [[RD11]](#RD11).  Geometry parameter is provided as Python list."
      ]
    },
    {
      "cell_type": "code",
      "execution_count": null,
      "metadata": {
        "colab": {
          "base_uri": "https://localhost:8080/",
          "height": 35
        },
        "id": "auyyW-EDSw6e",
        "outputId": "0269723e-aa76-4bf3-96fa-a4de5f38fef1"
      },
      "outputs": [],
      "source": [
        "from pystac_client import Client\n",
        "api = Client.open(URL_LANDING_PAGE) \n",
        "\n",
        "results = api.search(\n",
        "    method = 'GET',   \n",
        "    max_items=10,\n",
        "    collections=[COLLECTION_ID1],\n",
        "    bbox = [14.90, 37.700, 14.99, 37.780], # Mount Etna\n",
        "    # datetime=['2015-01-01T00:00:00Z', '2022-01-02T00:00:00Z']\n",
        ")"
      ]
    },
    {
      "attachments": {},
      "cell_type": "markdown",
      "metadata": {},
      "source": [
        "Same request using `curl`."
      ]
    },
    {
      "cell_type": "code",
      "execution_count": null,
      "metadata": {
        "tags": [
          "remove-input"
        ]
      },
      "outputs": [],
      "source": [
        "curl_str = curl_command(results.url_with_parameters())\n",
        "md(\"```shell\\n\" + curl_str + \"\\n```\\n\")"
      ]
    },
    {
      "cell_type": "code",
      "execution_count": null,
      "metadata": {
        "colab": {
          "base_uri": "https://localhost:8080/"
        },
        "id": "Lp-3RjTgSw6f",
        "outputId": "3581ec5f-c55b-4510-c043-5ff127f49ea5",
        "tags": [
          "remove-input"
        ]
      },
      "outputs": [],
      "source": [
        "print(f\"{results.matched()} items found.\")"
      ]
    },
    {
      "cell_type": "code",
      "execution_count": null,
      "metadata": {
        "colab": {
          "base_uri": "https://localhost:8080/",
          "height": 718
        },
        "id": "pAtz8_APSw6f",
        "outputId": "ef260208-7be8-424a-86d0-bbb565a768bc",
        "tags": [
          "remove-input"
        ]
      },
      "outputs": [],
      "source": [
        "display_previews(results)"
      ]
    },
    {
      "cell_type": "code",
      "execution_count": null,
      "metadata": {
        "colab": {
          "base_uri": "https://localhost:8080/",
          "height": 338
        },
        "id": "DXSDMMG4Sw6f",
        "outputId": "8790f0d3-3e46-4a8b-e5c2-b752db6054c9",
        "tags": [
          "remove-input"
        ]
      },
      "outputs": [],
      "source": [
        "display_gdf_plot(results)"
      ]
    },
    {
      "cell_type": "code",
      "execution_count": null,
      "metadata": {
        "colab": {
          "base_uri": "https://localhost:8080/",
          "height": 521
        },
        "id": "ZCvFAVcKSw6f",
        "outputId": "f4588320-a26d-48cb-ccf4-a45a13210c20",
        "tags": [
          "remove-input"
        ]
      },
      "outputs": [],
      "source": [
        "display_map(results)"
      ]
    },
    {
      "cell_type": "code",
      "execution_count": null,
      "metadata": {
        "colab": {
          "base_uri": "https://localhost:8080/",
          "height": 312
        },
        "id": "ej3XjZXJSw6f",
        "outputId": "064a2df7-4027-4485-a5a5-833c88173200",
        "tags": [
          "remove-input"
        ]
      },
      "outputs": [],
      "source": [
        "display_date_distribution(results)"
      ]
    },
    {
      "attachments": {},
      "cell_type": "markdown",
      "metadata": {
        "id": "BEWZJdNJSw6f"
      },
      "source": [
        "**Example: 2.4**  \n",
        ">  Search granules by bounding box {bbox} [[RD11]](#RD11).  Geometry parameter is provided as Python tuple."
      ]
    },
    {
      "cell_type": "code",
      "execution_count": null,
      "metadata": {
        "colab": {
          "base_uri": "https://localhost:8080/",
          "height": 35
        },
        "id": "lJm0scEpSw6f",
        "outputId": "dd76fd6b-b030-484f-96cd-64e6cc5c563e"
      },
      "outputs": [],
      "source": [
        "# x, y = (14.95, 37.74)   # Center point of query (Mount Etna)\n",
        "x, y = (4.38, 51.25)   # Center point of query (Antwerp harbour) \n",
        "\n",
        "r = 0.1\n",
        "box = (x - r, y - r, x + r, y + r)\n",
        "\n",
        "from pystac_client import Client \n",
        "api = Client.open(URL_LANDING_PAGE) \n",
        "\n",
        "results = api.search(\n",
        "    method = 'GET',   \n",
        "    max_items=10,\n",
        "    collections=[COLLECTION_ID1],\n",
        "    bbox = box\n",
        ")"
      ]
    },
    {
      "attachments": {},
      "cell_type": "markdown",
      "metadata": {},
      "source": [
        "Same request using `curl`."
      ]
    },
    {
      "cell_type": "code",
      "execution_count": null,
      "metadata": {
        "tags": [
          "remove-input"
        ]
      },
      "outputs": [],
      "source": [
        "curl_str = curl_command(results.url_with_parameters())\n",
        "md(\"```shell\\n\" + curl_str + \"\\n```\\n\")"
      ]
    },
    {
      "cell_type": "code",
      "execution_count": null,
      "metadata": {
        "colab": {
          "base_uri": "https://localhost:8080/"
        },
        "id": "M3ESlLiySw6g",
        "outputId": "e3e819a1-d45d-41bf-db1d-aa4a2716bc55",
        "tags": [
          "remove-input"
        ]
      },
      "outputs": [],
      "source": [
        "print(f\"{results.matched()} items found.\")"
      ]
    },
    {
      "cell_type": "code",
      "execution_count": null,
      "metadata": {
        "colab": {
          "base_uri": "https://localhost:8080/",
          "height": 579
        },
        "id": "hAPaDCOUSw6g",
        "outputId": "8af3944c-fca6-4539-84ef-0901fcd2510b",
        "tags": [
          "remove-input"
        ]
      },
      "outputs": [],
      "source": [
        "display_previews(results)"
      ]
    },
    {
      "cell_type": "code",
      "execution_count": null,
      "metadata": {
        "colab": {
          "base_uri": "https://localhost:8080/",
          "height": 389
        },
        "id": "QrN9s7PHSw6g",
        "outputId": "8b6beb81-8fa4-4955-9d15-a3cd8161a9a8",
        "tags": [
          "remove-input"
        ]
      },
      "outputs": [],
      "source": [
        "display_gdf_plot(results)"
      ]
    },
    {
      "cell_type": "code",
      "execution_count": null,
      "metadata": {
        "colab": {
          "base_uri": "https://localhost:8080/",
          "height": 521
        },
        "id": "6wx5ud79Sw6g",
        "outputId": "48fbe9ed-3fce-4c1c-a22f-c4eb3802b023",
        "tags": [
          "remove-input"
        ]
      },
      "outputs": [],
      "source": [
        "display_map(results)"
      ]
    },
    {
      "attachments": {},
      "cell_type": "markdown",
      "metadata": {},
      "source": [
        "**Example: 2.5**  \n",
        ">  Search granules by bounding box (`bbox`) and generate density map. "
      ]
    },
    {
      "cell_type": "code",
      "execution_count": null,
      "metadata": {},
      "outputs": [],
      "source": [
        "collection_id = COLLECTION_ID1\n",
        "\n",
        "def get_results(bbox):\n",
        "    x, y, x2, y2 = bbox\n",
        "    results = api.search(\n",
        "            method = 'GET',   \n",
        "            max_items=1, \n",
        "            bbox = [x, y, x2, y2], \n",
        "            collections=[collection_id]\n",
        "    ) \n",
        "    return results.matched()\n",
        "\n",
        "collection_size = get_results([-180, -90, 180, 90])"
      ]
    },
    {
      "cell_type": "code",
      "execution_count": null,
      "metadata": {},
      "outputs": [],
      "source": [
        "n_rows = 36\n",
        "n_columns = 72\n",
        "\n",
        "dy = 180.0 / n_rows\n",
        "dx = 360.0 / n_columns\n",
        "shape = (n_rows, n_columns)\n",
        "Z = np.zeros(shape)\n",
        "\n",
        "bboxes = []\n",
        "for col in range(n_columns):\n",
        "    for row in range(n_rows):\n",
        "        x = col * dx - 180.0\n",
        "        y = row * dy - 90.0\n",
        "        bboxes.append((x, y, x+dx, y+dy))"
      ]
    },
    {
      "cell_type": "code",
      "execution_count": null,
      "metadata": {},
      "outputs": [],
      "source": [
        "%%time\n",
        "executor = ThreadPoolExecutor(max_workers=16)\n",
        "\n",
        "results = executor.map(get_results, bboxes)\n",
        "\n",
        "for col in range(n_columns):\n",
        "    for row in range(n_rows):\n",
        "        count = next(results)\n",
        "        Z[row, col] = count"
      ]
    },
    {
      "cell_type": "code",
      "execution_count": null,
      "metadata": {
        "tags": [
          "remove-input"
        ]
      },
      "outputs": [],
      "source": [
        "print(f'Display number of granules as density map of {n_rows} rows ({dy}°) by {n_columns} columns ({dx}°).')"
      ]
    },
    {
      "cell_type": "code",
      "execution_count": null,
      "metadata": {
        "tags": [
          "remove-input"
        ]
      },
      "outputs": [],
      "source": [
        "# Get world map data from Geopandas\n",
        "worldmap = gpd.read_file(gpd.datasets.get_path(\"naturalearth_lowres\"))\n",
        "\n",
        "# Create axes and plot world map\n",
        "fig, ax = plt.subplots(figsize=(12, 6))\n",
        "worldmap.plot(color=\"lightgrey\", ax=ax)\n",
        "\n",
        "side_x = np.linspace(-180, +180, n_columns)\n",
        "side_y = np.linspace(-90, +90, n_rows)\n",
        "X, Y = np.meshgrid(side_x, side_y)\n",
        "# Z was computed before.\n",
        "plt.pcolormesh(X, Y, Z, shading='auto', alpha=0.6)\n",
        "plt.colorbar(label='Granules')\n",
        "\n",
        "# Create axis limits and title\n",
        "plt.xlim([-180, 180])\n",
        "plt.ylim([-90, 90])\n",
        "\n",
        "plt.title(\"Density Plot - \" + collection_id + \" (size: \"+str(collection_size)+\")\")\n",
        "plt.xlabel(\"Longitude\")\n",
        "plt.ylabel(\"Latitude\")\n",
        "plt.show()"
      ]
    },
    {
      "attachments": {},
      "cell_type": "markdown",
      "metadata": {
        "id": "vhhxBE-cSw6g"
      },
      "source": [
        "```{index} double: STAC API ; datetime\n",
        "```\n",
        "```{index} double: pystac_client ; datetime\n",
        "```\n",
        "\n",
        "### Search by temporal extent"
      ]
    },
    {
      "attachments": {},
      "cell_type": "markdown",
      "metadata": {
        "id": "e1HenKgCwmvt"
      },
      "source": [
        "**Example: 2.6**  \n",
        ">  Search granules by date range (datetime) [[RD01]](#RD01).  "
      ]
    },
    {
      "cell_type": "code",
      "execution_count": null,
      "metadata": {
        "colab": {
          "base_uri": "https://localhost:8080/",
          "height": 35
        },
        "id": "cQWShFyww983",
        "outputId": "5287e228-78ab-4251-f40c-5e0147befa4f"
      },
      "outputs": [],
      "source": [
        "from pystac_client import Client \n",
        "api = Client.open(URL_LANDING_PAGE) \n",
        "\n",
        "results = api.search(\n",
        "    method = 'GET',   \n",
        "    max_items = 50,\n",
        "    collections=[COLLECTION_ID1],\n",
        "    datetime=['2019-01-01T00:00:00Z', '2019-12-02T00:00:00Z']\n",
        ")"
      ]
    },
    {
      "cell_type": "code",
      "execution_count": null,
      "metadata": {
        "tags": [
          "remove-input"
        ]
      },
      "outputs": [],
      "source": [
        "curl_str = curl_command(results.url_with_parameters())\n",
        "md(\"```shell\\n\" + curl_str + \"\\n```\\n\")"
      ]
    },
    {
      "cell_type": "code",
      "execution_count": null,
      "metadata": {
        "colab": {
          "base_uri": "https://localhost:8080/",
          "height": 312
        },
        "id": "OUdV89fcxH4-",
        "outputId": "ebdf1428-893c-4830-c87e-05111a2f87b2"
      },
      "outputs": [],
      "source": [
        "display_date_distribution(results)"
      ]
    },
    {
      "attachments": {},
      "cell_type": "markdown",
      "metadata": {
        "id": "PD-lLltcSw6g"
      },
      "source": [
        "**Example: 2.7**  \n",
        ">  Search granules by open-ended date range (datetime) [[RD01]](#RD01).  "
      ]
    },
    {
      "cell_type": "code",
      "execution_count": null,
      "metadata": {
        "colab": {
          "base_uri": "https://localhost:8080/",
          "height": 35
        },
        "id": "gQLzS1HaSw6h",
        "outputId": "3d33d8cd-b7a5-4253-b740-39b16846cafd"
      },
      "outputs": [],
      "source": [
        "from pystac_client import Client \n",
        "api = Client.open(URL_LANDING_PAGE) \n",
        "\n",
        "results = api.search(\n",
        "    method = 'GET',   \n",
        "    max_items = 50,\n",
        "    collections=[COLLECTION_ID1],\n",
        "    datetime=['2021-12-01T00:00:00Z', None]\n",
        ")"
      ]
    },
    {
      "cell_type": "code",
      "execution_count": null,
      "metadata": {
        "tags": [
          "remove-input"
        ]
      },
      "outputs": [],
      "source": [
        "curl_str = curl_command(results.url_with_parameters())\n",
        "md(\"```shell\\n\" + curl_str + \"\\n```\\n\")"
      ]
    },
    {
      "cell_type": "code",
      "execution_count": null,
      "metadata": {
        "colab": {
          "base_uri": "https://localhost:8080/"
        },
        "id": "eIVSw8W8Sw6h",
        "outputId": "2d62f20f-cbd2-4ba1-f66f-434bd73fd112"
      },
      "outputs": [],
      "source": [
        "print(f\"{results.matched()} items found.\")"
      ]
    },
    {
      "cell_type": "code",
      "execution_count": null,
      "metadata": {
        "id": "zL-mLOepSw6h",
        "tags": [
          "remove-cell"
        ]
      },
      "outputs": [],
      "source": [
        "# keep id of first granule for future use below.\n",
        "items = list(results.get_items())\n",
        "granule_id1 = items[0].id"
      ]
    },
    {
      "cell_type": "code",
      "execution_count": null,
      "metadata": {
        "colab": {
          "base_uri": "https://localhost:8080/",
          "height": 312
        },
        "id": "PfnNEzoMSw6h",
        "outputId": "6048b57e-efd9-4132-8484-50d0fb3a286f",
        "tags": [
          "remove-input"
        ]
      },
      "outputs": [],
      "source": [
        "display_date_distribution(results)"
      ]
    },
    {
      "cell_type": "code",
      "execution_count": null,
      "metadata": {
        "colab": {
          "base_uri": "https://localhost:8080/",
          "height": 337
        },
        "id": "3eIQ4Afuumnc",
        "outputId": "b216edaf-362e-430a-b9c0-57df2c2ce36b"
      },
      "outputs": [],
      "source": [
        "display_value_distribution(results, 'sar:product_type')"
      ]
    },
    {
      "attachments": {},
      "cell_type": "markdown",
      "metadata": {
        "id": "GlRK1DdwSw6h"
      },
      "source": [
        "```{index} double: STAC API ; ids\n",
        "```\n",
        "\n",
        "### Search by identifier\n"
      ]
    },
    {
      "attachments": {},
      "cell_type": "markdown",
      "metadata": {
        "id": "6ejLZvR3Sw6i"
      },
      "source": [
        "```{index} double: pystac_client ; ids\n",
        "```\n",
        "**Example: 2.8**  \n",
        ">  Search granule by identifier (ids) [[RD01]](#RD01).  "
      ]
    },
    {
      "cell_type": "code",
      "execution_count": null,
      "metadata": {
        "colab": {
          "base_uri": "https://localhost:8080/",
          "height": 35
        },
        "id": "lMJ4_VgpSw6i",
        "outputId": "d8858ae2-6fed-479d-c70b-743fc46d2d6e"
      },
      "outputs": [],
      "source": [
        "granule_id1"
      ]
    },
    {
      "cell_type": "code",
      "execution_count": null,
      "metadata": {
        "colab": {
          "base_uri": "https://localhost:8080/",
          "height": 35
        },
        "id": "-rwxWqEwSw6i",
        "outputId": "4821257c-ce59-4abb-f29e-d50cc9463cf9"
      },
      "outputs": [],
      "source": [
        "from pystac_client import Client \n",
        "api = Client.open(URL_LANDING_PAGE) \n",
        "\n",
        "results = api.search(\n",
        "    method = 'GET',   \n",
        "    collections=[COLLECTION_ID1],\n",
        "    ids=[granule_id1]\n",
        ")"
      ]
    },
    {
      "cell_type": "code",
      "execution_count": null,
      "metadata": {
        "tags": [
          "remove-input"
        ]
      },
      "outputs": [],
      "source": [
        "curl_str = curl_command(results.url_with_parameters())\n",
        "md(\"```shell\\n\" + curl_str + \"\\n```\\n\")"
      ]
    },
    {
      "cell_type": "code",
      "execution_count": null,
      "metadata": {
        "colab": {
          "base_uri": "https://localhost:8080/",
          "height": 506
        },
        "id": "g0BD-xU_Sw6i",
        "outputId": "667ce976-9e3f-43a6-8b7b-e5c3ea211488",
        "tags": [
          "remove-input"
        ]
      },
      "outputs": [],
      "source": [
        "items = list(results.get_items())\n",
        "print(f\"{results.matched()} items found.\")\n",
        "assert results.matched() == 1\n",
        "\n",
        "# Convert STAC items into data frame\n",
        "stac_json = results.get_all_items_as_dict()\n",
        "gdf = gpd.GeoDataFrame.from_features(stac_json, \"epsg:4326\")\n",
        "gdf.transpose()"
      ]
    },
    {
      "attachments": {},
      "cell_type": "markdown",
      "metadata": {
        "id": "qeozdbcSSw6i"
      },
      "source": [
        "**Example: 2.9**  \n",
        ">  Search granule by identifier (`ids`) [[RD01]](#RD01) without specifying collection. "
      ]
    },
    {
      "cell_type": "code",
      "execution_count": null,
      "metadata": {
        "colab": {
          "base_uri": "https://localhost:8080/",
          "height": 35
        },
        "id": "XyUz4ijWSw6i",
        "outputId": "bf48637d-a526-4598-f905-b838ffa429dc"
      },
      "outputs": [],
      "source": [
        "from pystac_client import Client \n",
        "api = Client.open(URL_LANDING_PAGE) \n",
        "\n",
        "results = api.search(\n",
        "    method = 'GET',   \n",
        "    ids=[granule_id1]\n",
        ")"
      ]
    },
    {
      "attachments": {},
      "cell_type": "markdown",
      "metadata": {},
      "source": [
        "Same request with `curl`."
      ]
    },
    {
      "cell_type": "code",
      "execution_count": null,
      "metadata": {
        "tags": [
          "remove-input"
        ]
      },
      "outputs": [],
      "source": [
        "curl_str = curl_command(results.url_with_parameters())\n",
        "md(\"```shell\\n\" + curl_str + \"\\n```\\n\")"
      ]
    },
    {
      "cell_type": "code",
      "execution_count": null,
      "metadata": {
        "colab": {
          "base_uri": "https://localhost:8080/"
        },
        "id": "Wpl_mxsPSw6j",
        "outputId": "9645b9a3-5348-448d-b52b-0dce0406a0e0"
      },
      "outputs": [],
      "source": [
        "print(f\"{results.matched()} items found.\")\n",
        "assert results.matched() == 1"
      ]
    },
    {
      "attachments": {},
      "cell_type": "markdown",
      "metadata": {
        "id": "pDBokJB5Sw6j"
      },
      "source": [
        "```{index} double: STAC API ; filter\n",
        "```\n",
        "\n",
        "### Search with filter"
      ]
    },
    {
      "attachments": {},
      "cell_type": "markdown",
      "metadata": {
        "id": "GEoUVC71Sw6j"
      },
      "source": [
        "```{index} double: pystac_client ; filter\n",
        "```\n",
        "\n",
        "**Example: 2.10**  \n",
        ">  Search granules with filter {filter} [[RD01]](#RD01).  Available filters are advertised in `Queryables` object at /collections/{id}/queryables."
      ]
    },
    {
      "cell_type": "code",
      "execution_count": null,
      "metadata": {
        "colab": {
          "base_uri": "https://localhost:8080/",
          "height": 53
        },
        "id": "AmXMCejgSw6j",
        "outputId": "c1b47d6c-7f02-4a00-ae8a-6446b964a1ce"
      },
      "outputs": [],
      "source": [
        "from pystac_client import Client \n",
        "api = Client.open(URL_LANDING_PAGE) \n",
        "\n",
        "results = api.search(\n",
        "    method = 'GET',   \n",
        "    max_items=10,\n",
        "    collections=[COLLECTION_ID1],\n",
        "    bbox = [14.90, 37.700, 14.99, 37.780], # Mount Etna\n",
        "    datetime=['2015-01-01T00:00:00Z', '2022-01-02T00:00:00Z'],\n",
        "    filter=\"productType='CHR_MO2_1P' and instrument='CHRIS'\"\n",
        ")"
      ]
    },
    {
      "attachments": {},
      "cell_type": "markdown",
      "metadata": {},
      "source": [
        "Same request with `curl`."
      ]
    },
    {
      "cell_type": "code",
      "execution_count": null,
      "metadata": {
        "tags": [
          "remove-input"
        ]
      },
      "outputs": [],
      "source": [
        "curl_str = curl_command(results.url_with_parameters())\n",
        "md(\"```shell\\n\" + curl_str + \"\\n```\\n\")"
      ]
    },
    {
      "cell_type": "code",
      "execution_count": null,
      "metadata": {
        "colab": {
          "base_uri": "https://localhost:8080/"
        },
        "id": "msdC0kQCSw6j",
        "outputId": "2c2c63c5-94f3-4637-9f85-2d3e9e69eaaf",
        "tags": [
          "remove-input"
        ]
      },
      "outputs": [],
      "source": [
        "print(f\"{results.matched()} items found.\")"
      ]
    },
    {
      "cell_type": "code",
      "execution_count": null,
      "metadata": {
        "colab": {
          "base_uri": "https://localhost:8080/",
          "height": 163
        },
        "id": "xx91KGr7Sw6j",
        "outputId": "a7f0ef6f-3fa3-4094-bbc8-9e29740431fe",
        "tags": [
          "remove-input"
        ]
      },
      "outputs": [],
      "source": [
        "display_previews(results)"
      ]
    },
    {
      "cell_type": "code",
      "execution_count": null,
      "metadata": {
        "colab": {
          "base_uri": "https://localhost:8080/",
          "height": 365
        },
        "id": "xfIhCib0Sw6j",
        "outputId": "ec086513-4493-4059-bd2c-c3440f004f60",
        "tags": [
          "remove-input"
        ]
      },
      "outputs": [],
      "source": [
        "display_gdf_plot(results)"
      ]
    },
    {
      "cell_type": "code",
      "execution_count": null,
      "metadata": {
        "colab": {
          "base_uri": "https://localhost:8080/",
          "height": 521
        },
        "id": "1Y25QRQ2Sw6j",
        "outputId": "600cddf4-aeb0-442c-ab3a-cdfd3f10247c",
        "tags": [
          "remove-input"
        ]
      },
      "outputs": [],
      "source": [
        "display_map(results)"
      ]
    },
    {
      "cell_type": "code",
      "execution_count": null,
      "metadata": {
        "colab": {
          "base_uri": "https://localhost:8080/",
          "height": 337
        },
        "id": "CPxjNQZWuI28",
        "outputId": "417ffd7d-524e-476a-abe4-3df66b69a647"
      },
      "outputs": [],
      "source": [
        "display_value_distribution(results, 'sar:product_type')"
      ]
    },
    {
      "attachments": {},
      "cell_type": "markdown",
      "metadata": {
        "id": "aI13duKYSw6k"
      },
      "source": [
        "### Search by cloud cover"
      ]
    },
    {
      "attachments": {},
      "cell_type": "markdown",
      "metadata": {
        "id": "RovZ51_jSw6k"
      },
      "source": [
        "**Example: 2.11**  \n",
        ">  Search granules by cloudcover (`filter` and `cloudCover`) [[RD01]](#RD01).  Available filters are advertised in `Queryables` object at /collections/{id}/queryables."
      ]
    },
    {
      "cell_type": "code",
      "execution_count": null,
      "metadata": {
        "colab": {
          "base_uri": "https://localhost:8080/",
          "height": 35
        },
        "id": "sXYOv_aaSw6k",
        "outputId": "01d5668b-3e38-4213-ebdb-310036b9fa74"
      },
      "outputs": [],
      "source": [
        "from pystac_client import Client \n",
        "api = Client.open(URL_LANDING_PAGE)  \n",
        "\n",
        "results = api.search(\n",
        "    method = 'GET',   \n",
        "    max_items=50,\n",
        "    collections=[COLLECTION_ID3_CLOUDS],\n",
        "    filter=\"cloudCover < 10\"    \n",
        ")"
      ]
    },
    {
      "cell_type": "code",
      "execution_count": null,
      "metadata": {
        "tags": [
          "remove-input"
        ]
      },
      "outputs": [],
      "source": [
        "curl_str = curl_command(results.url_with_parameters())\n",
        "md(\"```shell\\n\" + curl_str + \"\\n```\\n\")"
      ]
    },
    {
      "cell_type": "code",
      "execution_count": null,
      "metadata": {
        "colab": {
          "base_uri": "https://localhost:8080/"
        },
        "id": "CUuuv7wGSw6k",
        "outputId": "775e2856-ebb2-4bd8-97db-8dc5380f8c22",
        "tags": [
          "remove-input"
        ]
      },
      "outputs": [],
      "source": [
        "print(f\"{results.matched()} items found.\")"
      ]
    },
    {
      "cell_type": "code",
      "execution_count": null,
      "metadata": {
        "colab": {
          "base_uri": "https://localhost:8080/",
          "height": 281
        },
        "id": "FryeZcDTX-bt",
        "outputId": "9668a42e-2741-459d-ffd2-9185b32d7806"
      },
      "outputs": [],
      "source": [
        "# Display cloud-cover values as histogram to show that range is taken into account\n",
        "stac_json = results.get_all_items_as_dict()\n",
        "gdf = gpd.GeoDataFrame.from_features(stac_json)\n",
        "try:\n",
        "  _ = gdf[['title','eo:cloud_cover']].hist()\n",
        "except:\n",
        "  print(\"eo:cloud_cover information is not available.\")"
      ]
    },
    {
      "cell_type": "code",
      "execution_count": null,
      "metadata": {
        "colab": {
          "base_uri": "https://localhost:8080/",
          "height": 268
        },
        "id": "4XvW_nTHaLLC",
        "outputId": "ab91b502-86c3-41ed-ef7d-f0077ad090e4"
      },
      "outputs": [],
      "source": [
        "# fails if properties are not in the metadata.\n",
        "try:\n",
        "  # _ = gdf[['view:sun_elevation','view:incidence_angle','view:sun_azimuth']].plot.hist(alpha=0.7)\n",
        "  _ = gdf[['view:sun_elevation','view:sun_azimuth']].plot.hist(alpha=0.7)\n",
        "except:\n",
        "  print(\"acquisition angle information is not available.\")"
      ]
    },
    {
      "cell_type": "code",
      "execution_count": null,
      "metadata": {
        "id": "N9d_t8fTd28X"
      },
      "outputs": [],
      "source": [
        "# gdf"
      ]
    },
    {
      "cell_type": "code",
      "execution_count": null,
      "metadata": {
        "colab": {
          "base_uri": "https://localhost:8080/",
          "height": 335
        },
        "id": "xxqWomRJdtg3",
        "outputId": "622934d8-15e4-46da-9891-e392f50d8b1e"
      },
      "outputs": [],
      "source": [
        "# display_value_distribution(results, 'sat:orbit_state')\n",
        "display_value_distribution(results, 'sar:product_type')"
      ]
    },
    {
      "attachments": {},
      "cell_type": "markdown",
      "metadata": {
        "id": "oE22sn-QSw6k"
      },
      "source": [
        "### Search multiple collections"
      ]
    },
    {
      "attachments": {},
      "cell_type": "markdown",
      "metadata": {
        "id": "uAzBPRnPSw6l"
      },
      "source": [
        "**Example: 2.12**  \n",
        ">  Search granules in multiple collections {collections} [[RD01]](#RD01).  "
      ]
    },
    {
      "cell_type": "code",
      "execution_count": null,
      "metadata": {
        "colab": {
          "base_uri": "https://localhost:8080/",
          "height": 35
        },
        "id": "PVGx6JmUSw6l",
        "outputId": "4584c509-e4d3-4132-93fa-ad69e75b36b8"
      },
      "outputs": [],
      "source": [
        "from pystac_client import Client \n",
        "api = Client.open(URL_LANDING_PAGE) \n",
        "\n",
        "results = api.search(\n",
        "    method = 'GET',   \n",
        "    max_items=10,\n",
        "    collections=[COLLECTION_ID2_CLOUDS, COLLECTION_ID1],\n",
        "    bbox = [13.90, 36.700, 15.99, 38.780], # Mount Etna (large)\n",
        ")"
      ]
    },
    {
      "cell_type": "code",
      "execution_count": null,
      "metadata": {
        "tags": [
          "remove-input"
        ]
      },
      "outputs": [],
      "source": [
        "curl_str = curl_command(results.url_with_parameters())\n",
        "md(\"```shell\\n\" + curl_str + \"\\n```\\n\")"
      ]
    },
    {
      "cell_type": "code",
      "execution_count": null,
      "metadata": {
        "colab": {
          "base_uri": "https://localhost:8080/"
        },
        "id": "bPo_8oSuSw6l",
        "outputId": "d09b8ded-1b12-4d5c-84a9-2e4ca2fad4fa"
      },
      "outputs": [],
      "source": [
        "print(f\"{results.matched()} items found.\")"
      ]
    },
    {
      "attachments": {},
      "cell_type": "markdown",
      "metadata": {},
      "source": [
        "**Example: 2.13**  \n",
        ">  Search granules in multiple collections {collections} [[RD01]](#RD01) using `POST`. "
      ]
    },
    {
      "cell_type": "code",
      "execution_count": null,
      "metadata": {},
      "outputs": [],
      "source": [
        "from pystac_client import Client \n",
        "api = Client.open(URL_LANDING_PAGE) \n",
        "\n",
        "results = api.search(\n",
        "    method = 'POST',    \n",
        "    max_items=50,\n",
        "    collections=[COLLECTION_ID2_CLOUDS, COLLECTION_ID1],\n",
        "    bbox = [13.90, 36.700, 15.99, 38.780] # Mount Etna (large)\n",
        ")"
      ]
    },
    {
      "cell_type": "code",
      "execution_count": null,
      "metadata": {
        "tags": [
          "remove-input"
        ]
      },
      "outputs": [],
      "source": [
        "curl_str = curl_command(results.url_with_parameters(),'POST')\n",
        "md(\"```shell\\n\" + curl_str + \"\\n```\\n\")"
      ]
    },
    {
      "cell_type": "code",
      "execution_count": null,
      "metadata": {},
      "outputs": [],
      "source": [
        "print(f\"{results.matched()} items found.\")"
      ]
    },
    {
      "attachments": {},
      "cell_type": "markdown",
      "metadata": {
        "id": "l5JVwPEuSw6m"
      },
      "source": [
        "## Granule properties\n",
        "\n",
        "Granules are returned via `item` links in the Catalog or Collection objects, or via the STAC API (Feature).\n",
        " An item is a GeoJSON `Feature` and the encoding is derived from the original OGC 17-003r2 encoding \n",
        " according to a [documented mapping](https://github.com/stac-utils/stac-crosswalks/tree/master/OGC_17-003r2).\n",
        "     \n",
        " The properties available include attributes from STAC extensions as well:    \n",
        "  \n",
        " * [Item fields](https://github.com/radiantearth/stac-spec/blob/master/item-spec/item-spec.md#item-fields) \n",
        " * [Common metadata elements](https://github.com/radiantearth/stac-spec/blob/master/item-spec/common-metadata.md) \n",
        " * [EO Extension](https://github.com/stac-extensions/eo)\n",
        " * [SAR Extension](https://github.com/stac-extensions/sar)\n",
        " * [SAT Extension](https://github.com/stac-extensions/sat)\n",
        " * [Scientific Extension](https://github.com/stac-extensions/scientific)   \n",
        " * [Version Extension](https://github.com/stac-extensions/version)\n",
        " * [View Extension](https://github.com/stac-extensions/view)\n",
        " * [Projection Extension](https://github.com/stac-extensions/projection)\n",
        " * [Timestamps Extension](https://github.com/stac-extensions/timestamps)\n",
        " * [Landsat Extension](https://landsat.usgs.gov/stac/landsat-extension/schema.json)   \n",
        "\n"
      ]
    },
    {
      "attachments": {},
      "cell_type": "markdown",
      "metadata": {
        "id": "V_gv-Q0eSw6m"
      },
      "source": [
        "```{index} double: pystac_client ; assets\n",
        "```\n",
        "```{index} double: STAC API ; assets \n",
        "```\n",
        "```{index} double: STAC API ; thumbnail \n",
        "```\n",
        "```{index} double: STAC API ; data \n",
        "```\n",
        "```{index} double: STAC API ; metadata \n",
        "```\n",
        "```{index} double: assets ; OGC 10-157r4 \n",
        "```\n",
        "```{index} double: assets ; OGC 17-003r2 \n",
        "```\n",
        "\n",
        "### Assets\n",
        "\n",
        "Granules provide access to a dictionary with `assets`.  The `roles` attribute indicates the purpose of the asset. The `href` attribute provides the URL to access the asset.  Granule assets include `thumbnail` (when available), a `data` download link (equivalent to the rel=`enclosure`), and various `metadata` formats.\n",
        "\n",
        "The table below list some frequently used `metadata` formats and their corresponding media type (`type`).\n",
        "\n",
        "| Format                   | type |   \n",
        "| --------                   | --------- | \n",
        "| [ISO19139](https://www.iso.org/standard/32557.html)        | application/vnd.iso.19139+xml |  \n",
        "| [ISO19139-2](https://www.iso.org/standard/57104.html)      | application/vnd.iso.19139-2+xml | \n",
        "| [ISO19115-3](https://www.iso.org/standard/32579.html)      | application/vnd.iso.19115-3+xml | \n",
        "| [OGC 10-157r4](https://docs.opengeospatial.org/is/10-157r4/10-157r4.html)  | application/gml+xml;profile=http://www.opengis.net/spec/EOMPOM/1.1  |\n",
        "| [OGC 17-003r2](https://docs.opengeospatial.org/is/17-003r2/17-003r2.html)  | application/geo+json;profile=http://www.opengis.net/spec/eo-geojson/1.0  |"
      ]
    },
    {
      "cell_type": "code",
      "execution_count": null,
      "metadata": {
        "colab": {
          "base_uri": "https://localhost:8080/",
          "height": 1000
        },
        "id": "jKVGQGkgSw6m",
        "outputId": "f1f4dd28-5038-40e1-c9ef-80e3001607bf",
        "tags": [
          "output_scroll"
        ]
      },
      "outputs": [],
      "source": [
        "# Show assets of first search result (GeoJSON)\n",
        "data = results.get_all_items_as_dict()\n",
        "jstr = json.dumps(data['features'][1]['assets'], indent=3)\n",
        "md(\"```json\\n\" + jstr + \"\\n```\\n\")"
      ]
    },
    {
      "cell_type": "code",
      "execution_count": null,
      "metadata": {
        "colab": {
          "base_uri": "https://localhost:8080/",
          "height": 300
        },
        "id": "KIIGXeh0Sw6n",
        "outputId": "cc313fbb-47ef-4746-8d20-633679877ff8",
        "tags": []
      },
      "outputs": [],
      "source": [
        "df = pd.DataFrame(columns=['roles', 'title', 'type'])\n",
        "    \n",
        "# Display assets belonging to first item in results\n",
        "for item in results.items():\n",
        "    assets = item.assets\n",
        "    for key in assets:     \n",
        "        ndf = pd.DataFrame({ \n",
        "            'roles': assets[key].roles, \n",
        "            'type': assets[key].media_type, \n",
        "            'title': assets[key].title, \n",
        "            # 'href': assets[key].href  \n",
        "        }, index = [0])\n",
        "        df = pd.concat([df, ndf], ignore_index=True)\n",
        "    \n",
        "    break\n",
        "df"
      ]
    },
    {
      "attachments": {},
      "cell_type": "markdown",
      "metadata": {
        "id": "gs4LcK4FSw6n"
      },
      "source": [
        "## Advanced topics"
      ]
    },
    {
      "attachments": {},
      "cell_type": "markdown",
      "metadata": {
        "id": "p5r7-TImSw6n"
      },
      "source": [
        "```{index} double: STAC API ; conformsTo\n",
        "```\n",
        "\n",
        "### Conformance classes\n",
        "\n",
        "The conformance classes supported by the STAC interface are advertised in the `conformsTo` property of the landing page."
      ]
    },
    {
      "cell_type": "code",
      "execution_count": null,
      "metadata": {
        "colab": {
          "base_uri": "https://localhost:8080/",
          "height": 225
        },
        "id": "ljrSDEGUSw6n",
        "outputId": "7f3cba64-2f91-4602-9402-1a6d129906c6",
        "tags": [
          "remove-input"
        ]
      },
      "outputs": [],
      "source": [
        "response = requests.get(URL_LANDING_PAGE)\n",
        "\n",
        "data = json.loads(response.text)\n",
        "jstr = json.dumps(data['conformsTo'], indent=3)\n",
        "md(\"```json\\n\" + jstr + \"\\n```\\n\")"
      ]
    },
    {
      "attachments": {},
      "cell_type": "markdown",
      "metadata": {
        "id": "vrsecqVcSw6o"
      },
      "source": [
        "### Additional search parameters\n"
      ]
    },
    {
      "cell_type": "code",
      "execution_count": null,
      "metadata": {
        "tags": [
          "remove-input"
        ]
      },
      "outputs": [],
      "source": [
        "md(f'Additional search parameters beyond the STAC search parameters can be used to filter collection search results. The available parameters for collection search are advertised at {URL_LANDING_PAGE + \"collections/queryables\"} and represented as a JSON Schema.')"
      ]
    },
    {
      "cell_type": "code",
      "execution_count": null,
      "metadata": {},
      "outputs": [],
      "source": [
        "URL_QUERYABLES = URL_LANDING_PAGE + 'collections/queryables'"
      ]
    },
    {
      "cell_type": "code",
      "execution_count": null,
      "metadata": {
        "tags": [
          "remove-input"
        ]
      },
      "outputs": [],
      "source": [
        "curl_str = curl_command(URL_QUERYABLES)\n",
        "md(\"```shell\\n\" + curl_str + \"\\n```\\n\")"
      ]
    },
    {
      "cell_type": "code",
      "execution_count": null,
      "metadata": {},
      "outputs": [],
      "source": [
        "response = requests.get(URL_QUERYABLES)   \n",
        "data = json.loads(response.text)    \n",
        "df = pd.DataFrame(data['properties'].items(),columns=['key','value'])\n",
        "df['type'] = df.apply(lambda row : row[1]['type'], axis = 1)\n",
        "df['format'] = df.apply(lambda row : row[1]['format'] if 'format' in row[1] else '-' , axis = 1)\n",
        "df.drop('value',axis=1).sort_values(by=['key'])"
      ]
    },
    {
      "cell_type": "code",
      "execution_count": null,
      "metadata": {
        "tags": [
          "remove-input",
          "output_scroll"
        ]
      },
      "outputs": [],
      "source": [
        "jstr = json.dumps(data, indent=3)\n",
        "md(\"```json\\n\" + jstr + \"\\n```\\n\")"
      ]
    },
    {
      "attachments": {},
      "cell_type": "markdown",
      "metadata": {},
      "source": [
        "Additional search parameters beyond the STAC search parameters can be used to filter granule search results.  The available parameters for granule search are advertised for each individual collection and represented as a JSON Schema."
      ]
    },
    {
      "cell_type": "code",
      "execution_count": null,
      "metadata": {
        "colab": {
          "base_uri": "https://localhost:8080/",
          "height": 64
        },
        "id": "luJvcvdISw6o",
        "outputId": "4087ca2d-c2cd-4587-d96b-24635ca14b40",
        "tags": [
          "remove-input"
        ]
      },
      "outputs": [],
      "source": [
        "URL_COLLECTION_QUERYABLES = URL_LANDING_PAGE + 'collections/' + COLLECTION_ID1 + '/queryables'\n",
        "\n",
        "md(f\"For example, the collection `{COLLECTION_ID1}`, advertises its search parameters \\\n",
        "at {URL_COLLECTION_QUERYABLES} in JSON Schema format. Therefore, the following parameters can be used within a filter expression.\")"
      ]
    },
    {
      "attachments": {},
      "cell_type": "markdown",
      "metadata": {},
      "source": [
        "Get filter parameters for granule search"
      ]
    },
    {
      "cell_type": "code",
      "execution_count": null,
      "metadata": {
        "tags": [
          "remove-input"
        ]
      },
      "outputs": [],
      "source": [
        "curl_str = curl_command(URL_COLLECTION_QUERYABLES)\n",
        "md(\"```shell\\n\" + curl_str + \"\\n```\\n\")"
      ]
    },
    {
      "cell_type": "code",
      "execution_count": null,
      "metadata": {
        "colab": {
          "base_uri": "https://localhost:8080/"
        },
        "id": "nIU05BmMSw6o",
        "outputId": "d50689cb-1d4e-4395-8784-d4e8a9b16f86",
        "tags": [
          "remove-input"
        ]
      },
      "outputs": [],
      "source": [
        "response = requests.get(URL_COLLECTION_QUERYABLES)   \n",
        "data = json.loads(response.text)    \n",
        "df = pd.DataFrame(data['properties'].items(),columns=['key','value'])\n",
        "df['type'] = df.apply(lambda row : row[1]['type'], axis = 1)\n",
        "df['format'] = df.apply(lambda row : row[1]['format'] if 'format' in row[1] else '-' , axis = 1)\n",
        "df.drop('value',axis=1).sort_values(by=['key'])"
      ]
    },
    {
      "cell_type": "code",
      "execution_count": null,
      "metadata": {
        "colab": {
          "base_uri": "https://localhost:8080/",
          "height": 1000
        },
        "id": "2x4k91AGSw6o",
        "outputId": "ba7e39c3-e793-48fa-95f9-9e31365efcaa",
        "tags": [
          "remove-input",
          "output_scroll"
        ]
      },
      "outputs": [],
      "source": [
        "jstr = json.dumps(data, indent=3)\n",
        "md(\"```json\\n\" + jstr + \"\\n```\\n\")"
      ]
    },
    {
      "attachments": {},
      "cell_type": "markdown",
      "metadata": {
        "id": "BOhsVgkMSw6o"
      },
      "source": [
        "### CQL filter expressions\n",
        "\n",
        "```{index} double: STAC API ; cql-text\n",
        "```\n",
        "\n",
        "The STAC interface supports the `filter` parameter and filter expressions in `cql-text` filter format at the following endpoints:\n",
        "\n",
        "- /collections\n",
        "- /collections/{collection-id}/items\n",
        "- /search\n",
        "\n",
        "At the `/search` endpoint, it is required that a single collection can be determined from the `collections` or `ids` parameter.  The queryables allowed in the filter expression are then identical to the ones at the corresponding `/collections/{collection-id}/items/queryables` endpoint.  `filter` cannot be used at the `/search` endpoint when `collections` contains 0 or more than 1 collection identifiers.\n",
        "\n",
        "Filter expressions are to be expressed with the Text encoding of the Basic Common Query Language (Basic CQL2-Text) [[RD22]](#RD22).\n",
        "See the [OGC API Features \"Conformance class Filter\"](conformance-class-filter) section for CQL2 examples."
      ]
    },
    {
      "attachments": {},
      "cell_type": "markdown",
      "metadata": {},
      "source": [
        "**Example: 8.1**  \n",
        ">  CQL Filter for collection search with logical operators (and, or)."
      ]
    },
    {
      "cell_type": "code",
      "execution_count": null,
      "metadata": {},
      "outputs": [],
      "source": [
        "filter = \"platform = 'Envisat' and ( instrument = 'MERIS' or instrument = 'MIPAS' ) and organisationName = 'ESA/ESRIN'\"\n",
        "params = { 'filter': filter } \n",
        "URL = f'{URL_LANDING_PAGE}collections?{urllib.parse.urlencode(params)}'"
      ]
    },
    {
      "cell_type": "code",
      "execution_count": null,
      "metadata": {
        "tags": [
          "remove-input"
        ]
      },
      "outputs": [],
      "source": [
        "curl_str = curl_command(URL)\n",
        "md(\"```shell\\n\" + curl_str + \"\\n```\\n\")"
      ]
    },
    {
      "cell_type": "code",
      "execution_count": null,
      "metadata": {},
      "outputs": [],
      "source": [
        "response = requests.get(URL)\n",
        "data = json.loads(response.text)\n",
        "df = pd.json_normalize(data, record_path=['collections'])\n",
        "df[['id', 'title']]"
      ]
    },
    {
      "attachments": {},
      "cell_type": "markdown",
      "metadata": {},
      "source": [
        "**Example: 8.2**  \n",
        ">  CQL filter for granule search with comparison operators.  Search granules with cloudCover between 10 and 15%. "
      ]
    },
    {
      "cell_type": "code",
      "execution_count": null,
      "metadata": {},
      "outputs": [],
      "source": [
        "from pystac_client import Client \n",
        "api = Client.open(URL_LANDING_PAGE)  \n",
        "\n",
        "results = api.search(\n",
        "    method = 'GET',   \n",
        "    max_items = 30,\n",
        "    collections = [COLLECTION_ID3_CLOUDS],\n",
        "    filter = \"cloudCover >= 10 and cloudCover < 15\"   \n",
        ")"
      ]
    },
    {
      "cell_type": "code",
      "execution_count": null,
      "metadata": {
        "tags": [
          "remove-input"
        ]
      },
      "outputs": [],
      "source": [
        "curl_str = curl_command(results.url_with_parameters())\n",
        "md(\"```shell\\n\" + curl_str + \"\\n```\\n\")"
      ]
    },
    {
      "cell_type": "code",
      "execution_count": null,
      "metadata": {},
      "outputs": [],
      "source": [
        "print(f\"{results.matched()} items found.\")"
      ]
    },
    {
      "cell_type": "code",
      "execution_count": null,
      "metadata": {},
      "outputs": [],
      "source": [
        "# Display cloud-cover values as histogram to show that range is taken into account\n",
        "stac_json = results.get_all_items_as_dict()\n",
        "gdf = gpd.GeoDataFrame.from_features(stac_json)\n",
        "try:\n",
        "  _ = gdf[['title','eo:cloud_cover']].hist()\n",
        "except:\n",
        "  print(\"eo:cloud_cover information is not available.\")"
      ]
    },
    {
      "attachments": {},
      "cell_type": "markdown",
      "metadata": {
        "id": "M1xNg9HHSw6o"
      },
      "source": [
        "## Further Reading\n",
        "\n",
        "| **ID**  | **Title** | \n",
        "| -------- | --------- | \n",
        "| `RD11` <a name=\"RD11\"></a> | [STAC API - Item Search](https://github.com/radiantearth/stac-api-spec/tree/main/item-search) |\n",
        "| `RD12` <a name=\"RD12\"></a> | [STAC API - Filter Extension](https://github.com/stac-api-extensions/filter) |\n",
        "| `RD13` <a name=\"RD13\"></a> | [STAC Catalog Specification](https://github.com/radiantearth/stac-spec/blob/master/catalog-spec/catalog-spec.md) | \n",
        "| `RD14` <a name=\"RD14\"></a> | [STAC Collection Specification](https://github.com/radiantearth/stac-spec/blob/master/collection-spec/collection-spec.md) | \n",
        "| `RD15` <a name=\"RD15\"></a>| [STAC API Specification](https://github.com/radiantearth/stac-api-spec)  | \n",
        "| `RD16` <a name=\"RD16\"></a> | [STAC Item Specification](https://github.com/radiantearth/stac-spec/tree/master/item-spec)   | \n",
        "| `RD17` <a name=\"RD17\"></a> | [PySTAC Documentation](https://pystac.readthedocs.io/en/stable/) | \n",
        "| `RD18` <a name=\"RD18\"></a> | [PySTAC Client Usage](https://pystac-client.readthedocs.io/en/stable/usage.html) | \n",
        "| `RD19` <a name=\"RD19\"></a> | [ODC STAC - Plot STAC Items on a map ](https://odc-stac.readthedocs.io/en/latest/notebooks/stac-load-e84-aws.html#Plot-STAC-Items-on-a-Map) | \n",
        "| `RD20` <a name=\"RD20\"></a> | [OGC17-069r3, OGC API - Features - Part 1: Core](https://docs.opengeospatial.org/is/17-069r3/17-069r3.html) | \n",
        "| `RD21` <a name=\"RD21\"></a> | [OGC17-079r1, OGC API - Features - Part 3: Filtering](https://docs.opengeospatial.org/DRAFTS/19-079r1.html)  | \n",
        "| `RD22` <a name=\"RD22\"></a> | [OGC21-065, Common Query Language (CQL2)](https://docs.ogc.org/DRAFTS/21-065.html)  | \n",
        "| `RD23` <a name=\"RD23\"></a> | [RFC 7946 - The GeoJSON Format](https://datatracker.ietf.org/doc/html/rfc7946) | \n",
        "| `RD24` <a name=\"RD24\"></a>| [JSON Schema: A Media Type for Describing JSON Documents, draft-handrews-json-schema-02](https://datatracker.ietf.org/doc/html/draft-handrews-json-schema-02) |\n",
        "| `RD25` <a name=\"RD25\"></a>| [STAC API - Collection Search](https://github.com/stac-api-extensions/collection-search) |\n",
        "| `RD27` <a name=\"RD27\"></a> | [Intake-STAC Documentation](https://intake-stac.readthedocs.io/en/stable/) | \n",
        "\n",
        "\n",
        "\n",
        "\n",
        "\n",
        "\n"
      ]
    }
  ],
  "metadata": {
	"description": "This notebook explains the use of the STAC API interface with GeoJSON response format that can be used with the ESA EO-CAT and CEOS FedEO catalogue endpoints.",
  "title": "STAC API with GeoJSON",
  "tags": {
    "tags": [ "EOCAT", "FedEO", "STAC", "Data Access/Retrieval", "Metadata Handling", "Service Discovery", "Data Discovery", "CDA", "CEOS", "OGC", "ESA"]
  },
  "potentialAction":[
         {
            "@type":"InteractAction",
            "target":"https://mybinder.org/v2/gh/eovoc/eo-books/main?urlpath=tree/docs/stac.ipynb",
            "name":"Launch Binder"
         },
         {
            "@type":"InteractAction",
            "target":"https://colab.research.google.com/github/eovoc/eo-books/blob/main/docs/stac.ipynb",
            "name":"Open in Google Colab"
         }
      ],
    "colab": {
      "provenance": [],
      "toc_visible": true
    },
    "kernelspec": {
      "display_name": "Python 3.8.3 64-bit",
      "language": "python",
      "name": "python3"
    },
    "language_info": {
      "codemirror_mode": {
        "name": "ipython",
        "version": 3
      },
      "file_extension": ".py",
      "mimetype": "text/x-python",
      "name": "python",
      "nbconvert_exporter": "python",
      "pygments_lexer": "ipython3",
      "version": "3.11.2"
    },
    "orig_nbformat": 4,
    "vscode": {
      "interpreter": {
        "hash": "3cbec2c4190cd05a5825fc54a935c704bfdcadcbc05924929a7092025ed22d84"
      }
    }
  },
  "nbformat": 4,
  "nbformat_minor": 0
}
