{
  "cells": [
    {
      "cell_type": "code",
      "execution_count": null,
      "metadata": {
        "colab": {
          "base_uri": "https://localhost:8080/",
          "height": 87
        },
        "id": "WGCjWESBSw6P",
        "outputId": "fcc15661-6329-401a-92c1-135ec44a1833",
        "tags": [
          "remove-cell"
        ]
      },
      "outputs": [],
      "source": [
        "'''\n",
        "   Copyright 2023 Spacebel s.a.\n",
        "\n",
        "   Licensed under the Apache License, Version 2.0 (the \"License\");\n",
        "   you may not use this file except in compliance with the License.\n",
        "   You may obtain a copy of the License at\n",
        "\n",
        "       http://www.apache.org/licenses/LICENSE-2.0\n",
        "\n",
        "   Unless required by applicable law or agreed to in writing, software\n",
        "   distributed under the License is distributed on an \"AS IS\" BASIS,\n",
        "   WITHOUT WARRANTIES OR CONDITIONS OF ANY KIND, either express or implied.\n",
        "   See the License for the specific language governing permissions and\n",
        "   limitations under the License.\n",
        "'''"
      ]
    },
    {
      "attachments": {},
      "cell_type": "markdown",
      "metadata": {
        "id": "2z-LlDi_NTII"
      },
      "source": [
        "# OGC API Features\n",
        "\n",
        "## Overview\n",
        "\n",
        "This notebook explains the use of the OGC API Features [[RD20]](#RD20) interface with GeoJSON and other response formats. It uses the `OWSLib` [[RD31]](#RD31) library to access part of the interface. The visualisation of search results is borrowed from the ODC notebook available at [[RD19]](#RD19)."
      ]
    },
    {
      "cell_type": "code",
      "execution_count": null,
      "metadata": {
        "tags": [
          "remove-cell"
        ]
      },
      "outputs": [],
      "source": [
        "%pip install geopandas\n",
        "%pip install owslib\n",
        "%pip install folium matplotlib mapclassify"
      ]
    },
    {
      "cell_type": "code",
      "execution_count": null,
      "metadata": {
        "tags": [
          "remove-cell"
        ]
      },
      "outputs": [],
      "source": [
        "%pip install jsonpath_ng\n",
        "# %pip install glom\n",
        "%pip install rdflib\n",
        "%pip install -U prettytable"
      ]
    },
    {
      "cell_type": "code",
      "execution_count": null,
      "metadata": {
        "colab": {
          "base_uri": "https://localhost:8080/"
        },
        "id": "552AEdylNTIK",
        "outputId": "95830fba-6992-4408-8500-6f7944ae8115",
        "tags": [
          "remove-cell"
        ]
      },
      "outputs": [],
      "source": [
        "import folium\n",
        "import folium.plugins\n",
        "import geopandas as gpd\n",
        "import shapely.geometry\n",
        "import pandas as pd  \n",
        "import json\n",
        "import requests\n",
        "\n",
        "from xml.dom import minidom\n",
        "from IPython.display import HTML, display\n",
        "from IPython.display import Markdown as md\n",
        "from owslib.ogcapi.features import Features\n",
        "from urllib.parse import urlparse, parse_qsl\n",
        "from matplotlib import pyplot as plt\n",
        "from PIL import Image\n",
        "from io import BytesIO\n",
        "from branca.element import Figure\n",
        "from prettytable import PrettyTable\n",
        "\n",
        "\n",
        "def convert_bounds(bbox, invert_y=False):\n",
        "    \"\"\"\n",
        "    Helper method for changing bounding box representation to leaflet notation\n",
        "\n",
        "    ``(lon1, lat1, lon2, lat2) -> ((lat1, lon1), (lat2, lon2))``\n",
        "    \"\"\"\n",
        "    x1, y1, x2, y2 = bbox\n",
        "    if invert_y:\n",
        "        y1, y2 = y2, y1\n",
        "    return ((y1, x1), (y2, x2))\n",
        "\n",
        "\n",
        "\n",
        "def curl_command( url: str, method: str = \"GET\" ) -> str:\n",
        "    \"\"\"\n",
        "    Convert request URL to equivalent curl GET or POST command-line (bash).\n",
        "    \"\"\"\n",
        "    c = \"curl -X \" + method\n",
        "    res = urlparse(url)\n",
        "    if \"GET\" in method:\n",
        "        c = c + \" -G \" + res.scheme + \"://\" + res.netloc + res.path\n",
        "    else:\n",
        "        c = c + \" \" + res.scheme + \"://\" + res.netloc + res.path + \" \\\\\\n\\t--data-raw '{\"\n",
        "    \n",
        "    lst = parse_qsl(res.query)\n",
        "    \n",
        "    first = True \n",
        "    for i in lst:\n",
        "        # print(i[0])\n",
        "        # add \\ to end of previous line\n",
        "        if \"GET\" in method:\n",
        "            c = c + ' \\\\\\n\\t--data-urlencode \"'+i[0]+'='+i[1]+'\"'\n",
        "        else:\n",
        "            if not(first):\n",
        "                c = c + ','\n",
        "            c = c + '\\n\\t\\t\"'+i[0]+'\": '+i[1]\n",
        "        first = False\n",
        "        \n",
        "    if \"POST\" in method:\n",
        "        c = c + \" \\\\\\n\\t}'\"\n",
        "    return c\n",
        "\n",
        "\n",
        "def display_previews(results):\n",
        "    \"\"\"\n",
        "    Helper method for displaying a grid of quicklooks (if available)\n",
        "    \"\"\"\n",
        "    # create figure\n",
        "    fig = plt.figure(figsize=(20, 20))\n",
        "  \n",
        "    # setting values to rows and column variables for the image grid\n",
        "    rows = 8\n",
        "    columns = 2\n",
        "    pos = 1\n",
        "\n",
        "    for item in results.items():\n",
        "        # print(item.id)\n",
        "        assets = item.assets\n",
        "        try:\n",
        "            # print(\"found thumbnail\", assets['thumbnail'].href)\n",
        "            url = assets['thumbnail'].href\n",
        "            response = requests.get(url)\n",
        "            Image1 = Image.open(BytesIO(response.content))\n",
        "            # display at position 'pos'\n",
        "            fig.add_subplot(rows, columns, pos)\n",
        "            pos = pos+1\n",
        "            # show the image\n",
        "            plt.imshow(Image1)\n",
        "            plt.axis('off')\n",
        "            plt.title(item.id)\n",
        "        except:\n",
        "            pass\n",
        "    return\n",
        "\n",
        "def display_gdf_plot(results):\n",
        "    \"\"\"\n",
        "    Helper method for displaying results as dataframe plot\n",
        "    \"\"\"\n",
        "    # https://github.com/opendatacube/odc-stac (License Apache 2.0)\n",
        "    # https://odc-stac.readthedocs.io/en/latest/notebooks/stac-load-e84-aws.html#Plot-STAC-Items-on-a-Map\n",
        "\n",
        "    # items = list(results.get_items())\n",
        "    # print(f\"Found: {len(items):d} datasets\")\n",
        "\n",
        "    # Convert STAC items into a GeoJSON FeatureCollection\n",
        "    if (type(results) is dict):\n",
        "        stac_json = results\n",
        "    else:\n",
        "        stac_json = results.get_all_items_as_dict()\n",
        "\n",
        "    gdf = gpd.GeoDataFrame.from_features(stac_json, \"epsg:4326\")\n",
        "\n",
        "    fig = gdf.plot(\n",
        "        \"date\",\n",
        "        edgecolor=\"black\",\n",
        "        categorical=True,\n",
        "        aspect=\"equal\",\n",
        "        alpha=0.5,\n",
        "        figsize=(6, 12),\n",
        "        legend=True,\n",
        "        legend_kwds={\"loc\": \"upper left\", \"frameon\": False, \"ncol\": 1},\n",
        "    )\n",
        "    _ = fig.set_title(\"Query Results\")\n",
        "\n",
        "    # gdf\n",
        "    return\n",
        "\n",
        "def display_date_distribution(results):\n",
        "    \"\"\"\n",
        "    Helper method for displaying number of results per year/month as bar chart\n",
        "    \"\"\"\n",
        "    if (type(results) is dict):\n",
        "        stac_json = results\n",
        "    else:\n",
        "        stac_json = results.get_all_items_as_dict()\n",
        "    gdf = gpd.GeoDataFrame.from_features(stac_json)\n",
        "    \n",
        "    # items = list(results.get_items())\n",
        "    # stac_json = results.get_all_items_as_dict()\n",
        "    # gdf = gpd.GeoDataFrame.from_features(stac_json)\n",
        "    \n",
        "    gdf['start_datetime'] = gdf['date'].map(lambda dt: dt.split(\"/\")[0])\n",
        "\n",
        "    gdf['date'] = pd.to_datetime(gdf['start_datetime'])\n",
        "    # create a representation of the month with strfmt\n",
        "    gdf['year_month'] = gdf['date'].map(lambda dt: dt.strftime('%Y-%m'))\n",
        "    grouped_df = gdf.groupby('year_month')['year_month'].size().to_frame(\"count\").reset_index()\n",
        "    grouped_df.plot(kind='bar', x='year_month', y='count')\n",
        "    return\n",
        "\n",
        "def display_value_distribution(results, column):\n",
        "    \"\"\"\n",
        "    Helper method for displaying number values in column as bar chart\n",
        "    \"\"\"\n",
        "    if (type(results) is dict):\n",
        "        stac_json = results\n",
        "    else:\n",
        "        stac_json = results.get_all_items_as_dict()\n",
        "    gdf = gpd.GeoDataFrame.from_features(stac_json)\n",
        "\n",
        "    # gdf['date'] = pd.to_datetime(gdf['start_datetime'])\n",
        "    # create a representation of the month with strfmt\n",
        "    # gdf['year_month'] = gdf['date'].map(lambda dt: dt.strftime('%Y-%m'))\n",
        "\n",
        "    try:\n",
        "        grouped_df = gdf.groupby(column)[column].size().to_frame(\"count\").reset_index()\n",
        "        grouped_df.plot(kind='bar', x=column, y='count')\n",
        "    except:\n",
        "        print(column + \" values are not available.\")\n",
        "\n",
        "    return\n",
        "\n",
        "def display_map(results):\n",
        "    \"\"\"\n",
        "    Helper method for displaying results on a map\n",
        "    \"\"\"\n",
        "    # https://github.com/python-visualization/folium/issues/1501\n",
        "    # if (is_dict):\n",
        "    if (type(results) is dict):\n",
        "        stac_json = results\n",
        "    else:\n",
        "        stac_json = results.get_all_items_as_dict()\n",
        "    gdf = gpd.GeoDataFrame.from_features(stac_json, \"epsg:4326\")\n",
        "    \n",
        "    fig = Figure(width=\"800px\", height=\"500px\")\n",
        "    map1 = folium.Map()\n",
        "    fig.add_child(map1)\n",
        "\n",
        "    # folium.GeoJson(\n",
        "    #    shapely.geometry.box(*bbox),  # ??\n",
        "    #    style_function=lambda x: dict(fill=False, weight=1, opacity=0.7, color=\"olive\"),\n",
        "    #    name=\"Query\",\n",
        "    # ).add_to(map1)\n",
        "\n",
        "    gdf.explore(\n",
        "        \"date\", # \"start_datetime\",\n",
        "        categorical=True,\n",
        "    #    tooltip=[\n",
        "    #        \"title\", \"datetime\", \"start_datetime\", \"platform\", \"instruments\"    \n",
        "    #    ],\n",
        "        popup=True,\n",
        "        style_kwds=dict(fillOpacity=0.1, width=2),\n",
        "        name=\"Results\",\n",
        "        m=map1,\n",
        "    )\n",
        "\n",
        "    map1.fit_bounds(bounds=convert_bounds(gdf.unary_union.bounds))\n",
        "    display(fig)\n",
        "    return\n"
      ]
    },
    {
      "cell_type": "code",
      "execution_count": null,
      "metadata": {},
      "outputs": [],
      "source": [
        "URL_LANDING_PAGE =  'https://emc.spacebel.be/'"
      ]
    },
    {
      "cell_type": "code",
      "execution_count": null,
      "metadata": {
        "id": "haFpn9a5Sw6U",
        "tags": [
          "remove-input"
        ]
      },
      "outputs": [],
      "source": [
        "COLLECTION_ID1 = 'PROBA.CHRIS.1A'\n",
        "COLLECTION_ID2 = 'SPOT-6.and.7.ESA.archive'  \n",
        "COLLECTION_ID4 = 'Deimos-1.and.2.ESA.archive' \n",
        "COLLECTION_ID2_CLOUDS = 'LANDSAT.ETM.GTC'\n",
        "COLLECTION_ID3_CLOUDS = 'IKONOS.ESA.archive'"
      ]
    },
    {
      "cell_type": "code",
      "execution_count": null,
      "metadata": {
        "tags": [
          "remove-cell"
        ]
      },
      "outputs": [],
      "source": [
        "# Specialize the Features class\n",
        "from owslib.ogcapi.features import Features\n",
        "from owslib.util import Authentication\n",
        "from requests import Request\n",
        "from copy import deepcopy\n",
        "import urllib.parse\n",
        "\n",
        "class ApiFeatures(Features):\n",
        "    \n",
        "    search_kwargs = []\n",
        "    search_path = \"\"\n",
        "\n",
        "    def __init__(self, url: str, json_: str = None, timeout: int = 30,\n",
        "                 headers: dict = None, auth: Authentication = None):\n",
        "        # __doc__ = Collections.__doc__  # noqa\n",
        "        super().__init__(url, json_, timeout, headers, auth)\n",
        "        \n",
        "    def collection_item(self, collection_id: str, identifier: str) -> dict:\n",
        "        \"\"\"\n",
        "        implements /collection/{collectionId}/items\n",
        "        @returns: feature results\n",
        "        \"\"\"\n",
        "        \n",
        "        self.search_kwargs = []\n",
        "        self.search_path = f'collections/{collection_id}/items/{identifier}'\n",
        "        return super().collection_item(collection_id, identifier)\n",
        "        \n",
        "    def collection_items(self, collection_id: str, **kwargs: dict) -> dict:\n",
        "        \"\"\"\n",
        "        implements /collection/{collectionId}/items\n",
        "        @returns: feature results\n",
        "        \"\"\"\n",
        "        self.search_kwargs = deepcopy(kwargs)\n",
        "        if 'bbox' in kwargs:\n",
        "            self.search_kwargs['bbox'] = ','.join(list(map(str, kwargs['bbox'])))\n",
        "        if 'datetime_' in kwargs:\n",
        "            self.search_kwargs['datetime'] = kwargs['datetime_']\n",
        "\n",
        "        # if 'cql' in kwargs:\n",
        "        #    LOGGER.debug('CQL query detected')\n",
        "        #    kwargs2 = deepcopy(kwargs)\n",
        "        #    cql = kwargs2.pop('cql')\n",
        "        #    path = f'collections/{collection_id}/items?{urlencode(kwargs2)}'\n",
        "        #    return self._request(method='POST', path=path, data=cql, kwargs=kwargs2)\n",
        "        # else:\n",
        "        self.search_path = f'collections/{collection_id}/items'\n",
        "        #    return self._request(path=path, kwargs=kwargs)\n",
        "        \n",
        "        return super().collection_items(collection_id, **kwargs)\n",
        "    \n",
        "    def url_with_parameters(self) -> str:\n",
        "        \"\"\"Returns previous item search url with parameters, appropriate for a GET request.\"\"\"\n",
        "        \n",
        "        # params = self._clean_params_for_get_request()\n",
        "        # print(\"url_with_params: \", self.path, \" kwargs: \" , self.search_kwargs)\n",
        "        \n",
        "        # params = []\n",
        "        params = self.search_kwargs\n",
        "        request = Request(\"GET\", self.url + self.search_path, params=params)\n",
        "        url = request.prepare().url\n",
        "        if url is None:\n",
        "            raise ValueError(\"Could not construct a full url\")\n",
        "        return urllib.parse.unquote(url)\n"
      ]
    },
    {
      "cell_type": "code",
      "execution_count": null,
      "metadata": {
        "tags": [
          "remove-input"
        ]
      },
      "outputs": [],
      "source": [
        "def create_example_table_as_html( mediatypes , chapter: int):\n",
        "    # Use HTML output as the markdown library output cannot be correctly \n",
        "    # be converted to Jupyterbook output.\n",
        "\n",
        "    text=\"<table><tr><th align='left'>Example</th><th align='left'>Media type</th></tr>\" \n",
        "\n",
        "    digit1 = chapter\n",
        "    digit2 = 1\n",
        "    for f in mediatypes:\n",
        "    \n",
        "        f2 = f\n",
        "        # f2 = f.replace(\";\", \";<br>\")  # works in VS-Code, not in JupyterBook\n",
        "        # f2 = f2.replace('\"', '\\\\\"')\n",
        "        #       + '| ' + 'Example '+str(digit1)+ '.' + str(digit2)  \\\n",
        "     \n",
        "        text = text \\\n",
        "            + '<tr>' + '<td align=\"left\"><a href=\"#example_' + str(digit1) + '_' + str(digit2)+'\">' \\\n",
        "            + 'Example '+str(digit1)+ '.' + str(digit2)+'</a>'  \\\n",
        "            + '</td><td align=\"left\">' + f2  + '</td></tr>`\\n'\n",
        "        digit2 = digit2+1\n",
        "    \n",
        "    text = text + \"</table>\"\n",
        "    return text"
      ]
    },
    {
      "cell_type": "code",
      "execution_count": null,
      "metadata": {
        "tags": [
          "remove-input"
        ]
      },
      "outputs": [],
      "source": [
        "def create_examples_as_md(mediatypes, chapter: int, resource: str, resource_type: str ):\n",
        "    \"\"\"\n",
        "    Insert examples for the resource in all mediatypes and number the\n",
        "    examples starting n.1, n.2 with n is chapter number provided.\n",
        "    \"\"\"\n",
        "\n",
        "    text = \"\"\n",
        "    digit1 = chapter\n",
        "    digit2 = 1\n",
        "    for f in mediatypes:\n",
        "    \n",
        "        f2 = urllib.parse.quote(f)\n",
        "    \n",
        "        if (\"?\" in resource):\n",
        "            request = resource +'&httpAccept='+f2 \n",
        "        else:\n",
        "            request = resource +'?httpAccept='+f2\n",
        "       \n",
        "        # insert an HTML anchor for each example to jump to \n",
        "        text = text + '\\n' \\\n",
        "            + \"<a id='example_\" + str(digit1) + '_' + str(digit2) + \"'></a>\" + '\\n' \n",
        "    \n",
        "        text = text + '\\n' + '\\n' + '\\n' \\\n",
        "            + '**Example: '+str(digit1)+ '.' + str(digit2) +'**' + '\\n' \\\n",
        "            + '>  Represent ' + resource_type + ' in `' + f + '` media format (`httpAccept`).\\n' \\\n",
        "            + '> \\n' \n",
        "    \n",
        "        # print(\"DEBUG f = \", f, \"request = \", request)\n",
        "        # profile string at end of media type may contain \"json\"...\n",
        "        # thus xml tested for first.\n",
        "        \n",
        "        # \n",
        "        curl_str = curl_command(request)\n",
        "        text = text + \"```shell\\n\" + curl_str + \"\\n```\\n\"\n",
        "        \n",
        "        if (\"xml\" in f ):\n",
        "            # formatting XML output\n",
        "            response = requests.get(request)\n",
        "            if response.status_code==200:\n",
        "                xmlstr = minidom.parseString(response.text).toprettyxml(indent='   ', newl='')\n",
        "                text = text + \"```xml\\n\" + xmlstr + \"\\n```\\n\"\n",
        "            else:\n",
        "                text = text + \"Media type not supported.\\n\"\n",
        "            \n",
        "        elif (\"text/\" in f ):\n",
        "            # formatting text output\n",
        "            response = requests.get(request)\n",
        "            if response.status_code==200:\n",
        "                # xmlstr = minidom.parseString(response.text).toprettyxml(indent='   ', newl='')\n",
        "                # text = text + response.text + \"\\n\"\n",
        "                text = text + \"```\\n\" + response.text + \"\\n```\\n\"\n",
        "            else:\n",
        "                text = text + \"Media type not supported.\\n\"\n",
        "    \n",
        "        elif (\"json\" in f ):\n",
        "            # formatting JSON output\n",
        "            # print(\"URL:\",request)\n",
        "            response = requests.get(request)\n",
        "            if response.status_code==200:\n",
        "                data = json.loads(response.text)\n",
        "                jstr = json.dumps(data, indent=3)\n",
        "                text = text + '\\n' + \"```json\\n\" + jstr + \"\\n```\\n\"\n",
        "            else:\n",
        "                text = text + \"Media type not supported.\\n\"\n",
        "        else:\n",
        "            text = text + \"ERROR: Response visualisation not yet supported.\"\n",
        "           \n",
        "        digit2 = digit2+1\n",
        "    \n",
        "    return text"
      ]
    },
    {
      "cell_type": "code",
      "execution_count": null,
      "metadata": {},
      "outputs": [],
      "source": [
        "w = ApiFeatures(URL_LANDING_PAGE)\n",
        "w.url"
      ]
    },
    {
      "attachments": {},
      "cell_type": "markdown",
      "metadata": {},
      "source": [
        "### Conformance"
      ]
    },
    {
      "cell_type": "code",
      "execution_count": null,
      "metadata": {
        "tags": [
          "remove-input"
        ]
      },
      "outputs": [],
      "source": [
        "md(f\"The conformance classes supported by OGC API Features interface are listed at `{URL_LANDING_PAGE + 'conformance'}`.\")"
      ]
    },
    {
      "cell_type": "code",
      "execution_count": null,
      "metadata": {},
      "outputs": [],
      "source": [
        "conformance = w.conformance()\n",
        "conformance"
      ]
    },
    {
      "attachments": {},
      "cell_type": "markdown",
      "metadata": {},
      "source": [
        "Same request with `curl`."
      ]
    },
    {
      "cell_type": "code",
      "execution_count": null,
      "metadata": {
        "tags": [
          "remove-input"
        ]
      },
      "outputs": [],
      "source": [
        "curl_str = curl_command(URL_LANDING_PAGE + 'conformance')\n",
        "md(\"```shell\\n\" + curl_str + \"\\n```\\n\")"
      ]
    },
    {
      "attachments": {},
      "cell_type": "markdown",
      "metadata": {},
      "source": [
        "The conformance response lists supported conformance classes.\n",
        "For example:\n",
        "\n",
        "- `http://www.opengis.net/spec/ogcapi-features-3/1.0/conf/queryables` from OGC API Features Part 3 [[RD21]](#RD21) indicates that collection-specific search parameters are advertised at `/collections/{collection-id}/queryables`.\n",
        "- `http://www.opengis.net/spec/ogcapi-features-3/1.0/conf/queryables-query-parameters` from OGC API Features Part 3 [[RD21]](#RD21) indicates that queryables advertised at `/collections/{collection-id}/queryables` can be used as HTTP query parameter.\n",
        "- `http://www.opengis.net/spec/ogcapi-features-3/1.0/conf/filter` from OGC API Features Part 3 [[RD21]](#RD21) indicates that queryables advertised at `/collections/{collection-id}/queryables` can be used in a CQL2 filter expression.\n",
        "\n",
        "These conformance classes have an equivalent conformance class declared by the STAC API.  The STAC conformance classes are reported inside the Landing Page.\n"
      ]
    },
    {
      "attachments": {},
      "cell_type": "markdown",
      "metadata": {},
      "source": [
        "### Access API Description"
      ]
    },
    {
      "cell_type": "code",
      "execution_count": null,
      "metadata": {
        "tags": [
          "remove-cell"
        ]
      },
      "outputs": [],
      "source": [
        "URL_OAI_DEFINITION = URL_LANDING_PAGE + 'api'\n",
        "# URL_OAI_DEFINITION"
      ]
    },
    {
      "cell_type": "code",
      "execution_count": null,
      "metadata": {
        "tags": [
          "remove-input"
        ]
      },
      "outputs": [],
      "source": [
        "curl_str = curl_command(URL_OAI_DEFINITION)\n",
        "md(\"```shell\\n\" + curl_str + \"\\n```\\n\")"
      ]
    },
    {
      "cell_type": "code",
      "execution_count": null,
      "metadata": {
        "tags": [
          "output_scroll"
        ]
      },
      "outputs": [],
      "source": [
        "# Get OpenAPI definition\n",
        "jstr = json.dumps(w.api(), indent=3)\n",
        "md(\"```json\\n\" + jstr + \"\\n```\\n\")"
      ]
    },
    {
      "attachments": {},
      "cell_type": "markdown",
      "metadata": {},
      "source": []
    },
    {
      "attachments": {},
      "cell_type": "markdown",
      "metadata": {},
      "source": [
        "### Collections"
      ]
    },
    {
      "attachments": {},
      "cell_type": "markdown",
      "metadata": {},
      "source": [
        "Collections are accessible at the endpoint identified via rel=\"data\" in the landing page."
      ]
    },
    {
      "cell_type": "code",
      "execution_count": null,
      "metadata": {
        "tags": [
          "output_scroll"
        ]
      },
      "outputs": [],
      "source": [
        "collections = w.collections()\n",
        "collections"
      ]
    },
    {
      "cell_type": "code",
      "execution_count": null,
      "metadata": {},
      "outputs": [],
      "source": [
        "print(f\"{collections['numberMatched']} items found.\")"
      ]
    },
    {
      "cell_type": "code",
      "execution_count": null,
      "metadata": {},
      "outputs": [],
      "source": [
        "df = pd.json_normalize(collections, record_path=['collections'], max_level = 0)\n",
        "df[['id', 'title']]\n",
        "# df"
      ]
    },
    {
      "cell_type": "code",
      "execution_count": null,
      "metadata": {},
      "outputs": [],
      "source": [
        "# Collections with itemType = 'feature'\n",
        "feature_collections = w.feature_collections()\n",
        "feature_collections"
      ]
    },
    {
      "attachments": {},
      "cell_type": "markdown",
      "metadata": {},
      "source": [
        "## Collection"
      ]
    },
    {
      "cell_type": "code",
      "execution_count": null,
      "metadata": {},
      "outputs": [],
      "source": [
        "fc = w.collection('series')\n",
        "fc['id']"
      ]
    },
    {
      "cell_type": "code",
      "execution_count": null,
      "metadata": {},
      "outputs": [],
      "source": [
        "fc"
      ]
    },
    {
      "attachments": {},
      "cell_type": "markdown",
      "metadata": {},
      "source": [
        "The Python library provides access to `collection_queryables` which correspond to the queryables that can be used inside `filter` expressions."
      ]
    },
    {
      "cell_type": "code",
      "execution_count": null,
      "metadata": {
        "tags": [
          "output_scroll"
        ]
      },
      "outputs": [],
      "source": [
        "# query parameters for 'series' collection.\n",
        "w.collection_queryables('series')"
      ]
    },
    {
      "cell_type": "code",
      "execution_count": null,
      "metadata": {},
      "outputs": [],
      "source": [
        "fc = w.collection('datasets')\n",
        "fc['id']"
      ]
    },
    {
      "cell_type": "code",
      "execution_count": null,
      "metadata": {},
      "outputs": [],
      "source": [
        "services = w.collection('services')\n",
        "services['id']"
      ]
    },
    {
      "cell_type": "code",
      "execution_count": null,
      "metadata": {},
      "outputs": [],
      "source": [
        "services['title']"
      ]
    },
    {
      "cell_type": "code",
      "execution_count": null,
      "metadata": {},
      "outputs": [],
      "source": [
        "services['description']"
      ]
    },
    {
      "cell_type": "code",
      "execution_count": null,
      "metadata": {
        "tags": [
          "output_scroll"
        ]
      },
      "outputs": [],
      "source": [
        "w.collection_queryables('services')"
      ]
    },
    {
      "attachments": {},
      "cell_type": "markdown",
      "metadata": {
        "id": "q41QPFPwSw6V"
      },
      "source": [
        "## Item Search (Collections)\n"
      ]
    },
    {
      "attachments": {},
      "cell_type": "markdown",
      "metadata": {},
      "source": [
        "### Access API description\n",
        "\n",
        "The following search parameters for `series` (collections) are declared in the `/collections/series/items` section of the OpenAPI definition.  The `x-value` column provides the name of the corresponding OpenSearch parameter."
      ]
    },
    {
      "cell_type": "code",
      "execution_count": null,
      "metadata": {
        "tags": [
          "remove-input"
        ]
      },
      "outputs": [],
      "source": [
        "response = requests.get(URL_OAI_DEFINITION)\n",
        "apidoc = json.loads(response.text)\n",
        "\n",
        "ref = apidoc['paths']['/collections/series/items']['get']['parameters']\n",
        "df = pd.json_normalize(ref, max_level = 0)\n",
        "df[['name','description','x-value']].sort_values(by=['name'])"
      ]
    },
    {
      "attachments": {},
      "cell_type": "markdown",
      "metadata": {},
      "source": [
        "### Search response formats\n",
        "\n",
        "The following response formats (media types) for `series` (collections) are declared in the `/collections/series/items` section of the OpenAPI definition.  The media type can be requested via the `Accept` header parameter or the `httpAccept` query parameter.  "
      ]
    },
    {
      "cell_type": "code",
      "execution_count": null,
      "metadata": {},
      "outputs": [],
      "source": [
        "ref = apidoc['paths']['/collections/series/items']['get']['responses']['200']['content']\n",
        "df = pd.json_normalize(ref, max_level = 0)\n",
        "sorted(ref.keys())"
      ]
    },
    {
      "attachments": {},
      "cell_type": "markdown",
      "metadata": {},
      "source": [
        "### Search by free text"
      ]
    },
    {
      "attachments": {},
      "cell_type": "markdown",
      "metadata": {},
      "source": [
        "**Example: 1.1**  \n",
        ">  Search collections by free text (`query`). "
      ]
    },
    {
      "cell_type": "code",
      "execution_count": null,
      "metadata": {},
      "outputs": [],
      "source": [
        "results = w.collection_items(\n",
        "    collection_id = 'series', \n",
        "    limit = 10, \n",
        "    query = 'temperature' \n",
        ")"
      ]
    },
    {
      "cell_type": "code",
      "execution_count": null,
      "metadata": {
        "tags": [
          "remove-input"
        ]
      },
      "outputs": [],
      "source": [
        "curl_str = curl_command(w.url_with_parameters())\n",
        "md(\"```shell\\n\" + curl_str + \"\\n```\\n\")"
      ]
    },
    {
      "cell_type": "code",
      "execution_count": null,
      "metadata": {},
      "outputs": [],
      "source": [
        "print(f\"{results['numberMatched']} items found.\")"
      ]
    },
    {
      "cell_type": "code",
      "execution_count": null,
      "metadata": {},
      "outputs": [],
      "source": [
        "gdf = gpd.GeoDataFrame.from_features(results)\n",
        "gdf[['title','abstract']]"
      ]
    },
    {
      "cell_type": "code",
      "execution_count": null,
      "metadata": {
        "tags": [
          "output_scroll"
        ]
      },
      "outputs": [],
      "source": [
        "jstr = json.dumps(results, indent=3)\n",
        "md(\"```json\\n\" + jstr + \"\\n```\\n\")"
      ]
    },
    {
      "attachments": {},
      "cell_type": "markdown",
      "metadata": {},
      "source": [
        "### Search by title"
      ]
    },
    {
      "attachments": {},
      "cell_type": "markdown",
      "metadata": {},
      "source": [
        "**Example: 1.2**  \n",
        ">  Search collections by title (`title`).  "
      ]
    },
    {
      "cell_type": "code",
      "execution_count": null,
      "metadata": {},
      "outputs": [],
      "source": [
        "results = w.collection_items(\n",
        "    collection_id = 'series', \n",
        "    limit = 10, \n",
        "    title = 'Total column' \n",
        ")"
      ]
    },
    {
      "cell_type": "code",
      "execution_count": null,
      "metadata": {
        "tags": [
          "remove-input"
        ]
      },
      "outputs": [],
      "source": [
        "curl_str = curl_command(w.url_with_parameters())\n",
        "md(\"```shell\\n\" + curl_str + \"\\n```\\n\")"
      ]
    },
    {
      "cell_type": "code",
      "execution_count": null,
      "metadata": {},
      "outputs": [],
      "source": [
        "print(f\"{results['numberMatched']} items found.\")"
      ]
    },
    {
      "cell_type": "code",
      "execution_count": null,
      "metadata": {},
      "outputs": [],
      "source": [
        "gdf = gpd.GeoDataFrame.from_features(results)\n",
        "gdf[['title']]"
      ]
    },
    {
      "attachments": {},
      "cell_type": "markdown",
      "metadata": {},
      "source": [
        "### Search by platform"
      ]
    },
    {
      "attachments": {},
      "cell_type": "markdown",
      "metadata": {},
      "source": [
        "**Example: 1.3**  \n",
        ">  Search collections by platform (`platform`).  "
      ]
    },
    {
      "cell_type": "code",
      "execution_count": null,
      "metadata": {},
      "outputs": [],
      "source": [
        "results = w.collection_items(\n",
        "    collection_id = 'series', \n",
        "    limit = 50, \n",
        "    platform = 'PROBA-1' \n",
        ")"
      ]
    },
    {
      "cell_type": "code",
      "execution_count": null,
      "metadata": {
        "tags": [
          "remove-input"
        ]
      },
      "outputs": [],
      "source": [
        "curl_str = curl_command(w.url_with_parameters())\n",
        "md(\"```shell\\n\" + curl_str + \"\\n```\\n\")"
      ]
    },
    {
      "cell_type": "code",
      "execution_count": null,
      "metadata": {},
      "outputs": [],
      "source": [
        "print(f\"{results['numberMatched']} items found.\")"
      ]
    },
    {
      "cell_type": "code",
      "execution_count": null,
      "metadata": {},
      "outputs": [],
      "source": [
        "gdf = gpd.GeoDataFrame.from_features(results)\n",
        "gdf[['title','abstract']]"
      ]
    },
    {
      "attachments": {},
      "cell_type": "markdown",
      "metadata": {},
      "source": [
        "### Search by organisation"
      ]
    },
    {
      "attachments": {},
      "cell_type": "markdown",
      "metadata": {},
      "source": [
        "**Example: 1.3**  \n",
        ">  Search collections by organisation (`organisationName`). "
      ]
    },
    {
      "cell_type": "code",
      "execution_count": null,
      "metadata": {},
      "outputs": [],
      "source": [
        "results = w.collection_items(\n",
        "    collection_id = 'series', \n",
        "    limit = 20, \n",
        "    platform = 'PROBA-1',\n",
        "    organisationName = 'ESA/ESRIN' \n",
        ")"
      ]
    },
    {
      "cell_type": "code",
      "execution_count": null,
      "metadata": {
        "tags": [
          "remove-input"
        ]
      },
      "outputs": [],
      "source": [
        "curl_str = curl_command(w.url_with_parameters())\n",
        "md(\"```shell\\n\" + curl_str + \"\\n```\\n\")"
      ]
    },
    {
      "cell_type": "code",
      "execution_count": null,
      "metadata": {},
      "outputs": [],
      "source": [
        "print(f\"{results['numberMatched']} items found.\")"
      ]
    },
    {
      "cell_type": "code",
      "execution_count": null,
      "metadata": {},
      "outputs": [],
      "source": [
        "gdf = gpd.GeoDataFrame.from_features(results)\n",
        "gdf[['title','abstract']]"
      ]
    },
    {
      "attachments": {},
      "cell_type": "markdown",
      "metadata": {},
      "source": [
        "### Search by identifier"
      ]
    },
    {
      "attachments": {},
      "cell_type": "markdown",
      "metadata": {},
      "source": [
        "**Example: 1.4**  \n",
        ">  Search collections by identifier."
      ]
    },
    {
      "cell_type": "code",
      "execution_count": null,
      "metadata": {
        "tags": [
          "remove-input"
        ]
      },
      "outputs": [],
      "source": [
        "# Keep for future use.\n",
        "series_id = results['features'][0]['id']\n",
        "series_id"
      ]
    },
    {
      "cell_type": "code",
      "execution_count": null,
      "metadata": {},
      "outputs": [],
      "source": [
        "results = w.collection_item(\n",
        "    collection_id = 'series', \n",
        "    identifier = series_id\n",
        ")"
      ]
    },
    {
      "cell_type": "code",
      "execution_count": null,
      "metadata": {
        "tags": [
          "remove-input"
        ]
      },
      "outputs": [],
      "source": [
        "curl_str = curl_command(w.url_with_parameters())\n",
        "md(\"```shell\\n\" + curl_str + \"\\n```\\n\")"
      ]
    },
    {
      "cell_type": "code",
      "execution_count": null,
      "metadata": {},
      "outputs": [],
      "source": [
        "results['properties']['title']"
      ]
    },
    {
      "attachments": {},
      "cell_type": "markdown",
      "metadata": {},
      "source": [
        "### Search by DOI"
      ]
    },
    {
      "attachments": {},
      "cell_type": "markdown",
      "metadata": {},
      "source": [
        "**Example: 1.5**  \n",
        ">  Search collections by DOI (`doi`). "
      ]
    },
    {
      "cell_type": "code",
      "execution_count": null,
      "metadata": {},
      "outputs": [],
      "source": [
        "results = w.collection_items(\n",
        "    collection_id = 'series', \n",
        "    limit = 20, \n",
        "    doi = '10.5270/esa-qoe849q',  # TropForest\n",
        ")"
      ]
    },
    {
      "cell_type": "code",
      "execution_count": null,
      "metadata": {
        "tags": [
          "remove-input"
        ]
      },
      "outputs": [],
      "source": [
        "curl_str = curl_command(w.url_with_parameters())\n",
        "md(\"```shell\\n\" + curl_str + \"\\n```\\n\")"
      ]
    },
    {
      "cell_type": "code",
      "execution_count": null,
      "metadata": {},
      "outputs": [],
      "source": [
        "print(f\"{results['numberMatched']} items found.\")"
      ]
    },
    {
      "cell_type": "code",
      "execution_count": null,
      "metadata": {},
      "outputs": [],
      "source": [
        "gdf = gpd.GeoDataFrame.from_features(results)\n",
        "gdf[['title']]"
      ]
    },
    {
      "attachments": {},
      "cell_type": "markdown",
      "metadata": {},
      "source": [
        "### Search by concept"
      ]
    },
    {
      "attachments": {},
      "cell_type": "markdown",
      "metadata": {},
      "source": [
        "**Example: 1.6**  \n",
        ">  Search collections by concept (`classifiedAs`).\n",
        "\n",
        "Collection metadata includes platform, instrument and science keywords, including the URI of these concepts expressed in the ESA Thesauri and NASA GCMD thesauri. The URI of these concepts can be used as search parameter."
      ]
    },
    {
      "cell_type": "code",
      "execution_count": null,
      "metadata": {},
      "outputs": [],
      "source": [
        "results = w.collection_items(\n",
        "    collection_id = 'series', \n",
        "    limit = 20, \n",
        "    classifiedAs = 'https://earth.esa.int/concept/b3979ff2-d27d-5f22-9e06-a18c5759d9a5',  # PROBA-1\n",
        "    organisationName = 'ESA/ESRIN' \n",
        ")"
      ]
    },
    {
      "cell_type": "code",
      "execution_count": null,
      "metadata": {
        "tags": [
          "remove-input"
        ]
      },
      "outputs": [],
      "source": [
        "curl_str = curl_command(w.url_with_parameters())\n",
        "md(\"```shell\\n\" + curl_str + \"\\n```\\n\")"
      ]
    },
    {
      "cell_type": "code",
      "execution_count": null,
      "metadata": {},
      "outputs": [],
      "source": [
        "print(f\"{results['numberMatched']} items found.\")"
      ]
    },
    {
      "cell_type": "code",
      "execution_count": null,
      "metadata": {},
      "outputs": [],
      "source": [
        "gdf = gpd.GeoDataFrame.from_features(results)\n",
        "gdf[['title','abstract']]"
      ]
    },
    {
      "attachments": {},
      "cell_type": "markdown",
      "metadata": {},
      "source": [
        "### Search by keyword"
      ]
    },
    {
      "attachments": {},
      "cell_type": "markdown",
      "metadata": {},
      "source": [
        "**Example: 1.7**  \n",
        ">  Search collections by keyword (`subject`)."
      ]
    },
    {
      "cell_type": "code",
      "execution_count": null,
      "metadata": {},
      "outputs": [],
      "source": [
        "results = w.collection_items(\n",
        "    collection_id = 'series', \n",
        "    limit = 5, \n",
        "    subject = 'ice',  \n",
        "    organisationName = 'ESA/ESRIN' \n",
        ")"
      ]
    },
    {
      "cell_type": "code",
      "execution_count": null,
      "metadata": {
        "tags": [
          "remove-input"
        ]
      },
      "outputs": [],
      "source": [
        "curl_str = curl_command(w.url_with_parameters())\n",
        "md(\"```shell\\n\" + curl_str + \"\\n```\\n\")"
      ]
    },
    {
      "cell_type": "code",
      "execution_count": null,
      "metadata": {},
      "outputs": [],
      "source": [
        "print(f\"{results['numberMatched']} items found.\")"
      ]
    },
    {
      "cell_type": "code",
      "execution_count": null,
      "metadata": {},
      "outputs": [],
      "source": [
        "gdf = gpd.GeoDataFrame.from_features(results)\n",
        "gdf[['title','categories']]\n",
        "# gdf"
      ]
    },
    {
      "attachments": {},
      "cell_type": "markdown",
      "metadata": {},
      "source": [
        "## Item Search (Services)"
      ]
    },
    {
      "attachments": {},
      "cell_type": "markdown",
      "metadata": {},
      "source": [
        "### Access API description\n",
        "\n",
        "The following search parameters for `services` (services and applications) are declared in the `/collections/services/items` section of the OpenAPI definition.  The `x-value` column provides the name of the corresponding OpenSearch parameter."
      ]
    },
    {
      "cell_type": "code",
      "execution_count": null,
      "metadata": {
        "tags": [
          "remove-input"
        ]
      },
      "outputs": [],
      "source": [
        "URL_OAI_DEFINITION = URL_LANDING_PAGE + 'api'\n",
        "URL_OAI_DEFINITION"
      ]
    },
    {
      "attachments": {},
      "cell_type": "markdown",
      "metadata": {},
      "source": [
        "Request using `curl`."
      ]
    },
    {
      "cell_type": "code",
      "execution_count": null,
      "metadata": {
        "tags": [
          "remove-input"
        ]
      },
      "outputs": [],
      "source": [
        "curl_str = curl_command(URL_OAI_DEFINITION)\n",
        "md(\"```shell\\n\" + curl_str + \"\\n```\\n\")"
      ]
    },
    {
      "cell_type": "code",
      "execution_count": null,
      "metadata": {
        "tags": [
          "remove-input"
        ]
      },
      "outputs": [],
      "source": [
        "response = requests.get(URL_OAI_DEFINITION)\n",
        "apidoc = json.loads(response.text)\n",
        "ref = apidoc['paths']['/collections/services/items']['get']['parameters']\n",
        "df = pd.json_normalize(ref, max_level = 0)\n",
        "df[['name','description','x-value']].sort_values(by=['name'])"
      ]
    },
    {
      "cell_type": "code",
      "execution_count": null,
      "metadata": {
        "tags": [
          "remove-input",
          "output_scroll"
        ]
      },
      "outputs": [],
      "source": [
        "jstr = json.dumps(ref, indent=3)\n",
        "md(\"```json\\n\" + jstr + \"\\n```\\n\")"
      ]
    },
    {
      "attachments": {},
      "cell_type": "markdown",
      "metadata": {},
      "source": [
        "### Search response formats\n",
        "\n",
        "The following response formats (media types) for `services` (granules) are declared in the `/collections/services/items` section of the OpenAPI definition.  The media type can be requested via the `Accept` header parameter or the `httpAccept` query parameter.  "
      ]
    },
    {
      "cell_type": "code",
      "execution_count": null,
      "metadata": {},
      "outputs": [],
      "source": [
        "ref = apidoc['paths']['/collections/services/items']['get']['responses']['200']['content']\n",
        "df = pd.json_normalize(ref, max_level = 0)\n",
        "sorted(ref.keys())"
      ]
    },
    {
      "attachments": {},
      "cell_type": "markdown",
      "metadata": {},
      "source": [
        "### Search by free text"
      ]
    },
    {
      "attachments": {},
      "cell_type": "markdown",
      "metadata": {},
      "source": [
        "```{index} double: searchRetrieve ; query\n",
        "```\n",
        "\n",
        "**Example: 2.1**  \n",
        ">  Search services by free text (`query`). The `query` parameter is defined in the SRU specification [[RD07]](#RD07)."
      ]
    },
    {
      "cell_type": "code",
      "execution_count": null,
      "metadata": {},
      "outputs": [],
      "source": [
        "results = w.collection_items(\n",
        "    collection_id = 'services', \n",
        "    limit = 20, \n",
        "    query = 'toolbox' \n",
        ")"
      ]
    },
    {
      "cell_type": "code",
      "execution_count": null,
      "metadata": {
        "tags": [
          "remove-input"
        ]
      },
      "outputs": [],
      "source": [
        "curl_str = curl_command(w.url_with_parameters())\n",
        "md(\"```shell\\n\" + curl_str + \"\\n```\\n\")"
      ]
    },
    {
      "cell_type": "code",
      "execution_count": null,
      "metadata": {},
      "outputs": [],
      "source": [
        "print(f\"{results['numberMatched']} items found.\")"
      ]
    },
    {
      "cell_type": "code",
      "execution_count": null,
      "metadata": {},
      "outputs": [],
      "source": [
        "gdf = gpd.GeoDataFrame.from_features(results)\n",
        "gdf[['title','abstract']]"
      ]
    },
    {
      "cell_type": "code",
      "execution_count": null,
      "metadata": {
        "tags": [
          "output_scroll"
        ]
      },
      "outputs": [],
      "source": [
        "jstr = json.dumps(results, indent=3)\n",
        "md(\"```json\\n\" + jstr + \"\\n```\\n\")"
      ]
    },
    {
      "attachments": {},
      "cell_type": "markdown",
      "metadata": {},
      "source": [
        "### Search by title"
      ]
    },
    {
      "attachments": {},
      "cell_type": "markdown",
      "metadata": {},
      "source": [
        "**Example: 2.2**  \n",
        ">  Search services by title (`title`)."
      ]
    },
    {
      "cell_type": "code",
      "execution_count": null,
      "metadata": {},
      "outputs": [],
      "source": [
        "results = w.collection_items(\n",
        "    collection_id = 'services', \n",
        "    limit = 20, \n",
        "    title = 'Toolbox' \n",
        ")"
      ]
    },
    {
      "cell_type": "code",
      "execution_count": null,
      "metadata": {
        "tags": [
          "remove-input"
        ]
      },
      "outputs": [],
      "source": [
        "curl_str = curl_command(w.url_with_parameters())\n",
        "md(\"```shell\\n\" + curl_str + \"\\n```\\n\")"
      ]
    },
    {
      "cell_type": "code",
      "execution_count": null,
      "metadata": {},
      "outputs": [],
      "source": [
        "print(f\"{results['numberMatched']} items found.\")"
      ]
    },
    {
      "cell_type": "code",
      "execution_count": null,
      "metadata": {},
      "outputs": [],
      "source": [
        "gdf = gpd.GeoDataFrame.from_features(results)\n",
        "gdf[['title','abstract']]"
      ]
    },
    {
      "attachments": {},
      "cell_type": "markdown",
      "metadata": {},
      "source": [
        "### Search by platform"
      ]
    },
    {
      "attachments": {},
      "cell_type": "markdown",
      "metadata": {},
      "source": [
        "**Example: 2.3**  \n",
        ">  Search services by platform (`platform`). "
      ]
    },
    {
      "cell_type": "code",
      "execution_count": null,
      "metadata": {},
      "outputs": [],
      "source": [
        "results = w.collection_items(\n",
        "    collection_id = 'services', \n",
        "    limit = 20, \n",
        "    platform = 'GOCE' \n",
        ")"
      ]
    },
    {
      "cell_type": "code",
      "execution_count": null,
      "metadata": {
        "tags": [
          "remove-input"
        ]
      },
      "outputs": [],
      "source": [
        "curl_str = curl_command(w.url_with_parameters())\n",
        "md(\"```shell\\n\" + curl_str + \"\\n```\\n\")"
      ]
    },
    {
      "cell_type": "code",
      "execution_count": null,
      "metadata": {},
      "outputs": [],
      "source": [
        "print(f\"{results['numberMatched']} items found.\")"
      ]
    },
    {
      "cell_type": "code",
      "execution_count": null,
      "metadata": {},
      "outputs": [],
      "source": [
        "gdf = gpd.GeoDataFrame.from_features(results)\n",
        "gdf[['title','abstract']]"
      ]
    },
    {
      "attachments": {},
      "cell_type": "markdown",
      "metadata": {},
      "source": [
        "### Search by organisation"
      ]
    },
    {
      "attachments": {},
      "cell_type": "markdown",
      "metadata": {},
      "source": [
        "**Example: 2.3**  \n",
        ">  Search services by organisation (`organisationName`). "
      ]
    },
    {
      "cell_type": "code",
      "execution_count": null,
      "metadata": {},
      "outputs": [],
      "source": [
        "results = w.collection_items(\n",
        "    collection_id = 'services', \n",
        "    limit = 20, \n",
        "    organisationName = 'ESA/ESRIN' \n",
        ")"
      ]
    },
    {
      "cell_type": "code",
      "execution_count": null,
      "metadata": {
        "tags": [
          "remove-input"
        ]
      },
      "outputs": [],
      "source": [
        "curl_str = curl_command(w.url_with_parameters())\n",
        "md(\"```shell\\n\" + curl_str + \"\\n```\\n\")"
      ]
    },
    {
      "cell_type": "code",
      "execution_count": null,
      "metadata": {},
      "outputs": [],
      "source": [
        "print(f\"{results['numberMatched']} items found.\")"
      ]
    },
    {
      "cell_type": "code",
      "execution_count": null,
      "metadata": {},
      "outputs": [],
      "source": [
        "gdf = gpd.GeoDataFrame.from_features(results)\n",
        "gdf[['title','abstract']]"
      ]
    },
    {
      "attachments": {},
      "cell_type": "markdown",
      "metadata": {},
      "source": [
        "### Search by identifier"
      ]
    },
    {
      "attachments": {},
      "cell_type": "markdown",
      "metadata": {},
      "source": [
        "**Example: 2.4**  \n",
        ">  Search services by identifier. "
      ]
    },
    {
      "cell_type": "code",
      "execution_count": null,
      "metadata": {},
      "outputs": [],
      "source": [
        "# Keep for future use.\n",
        "service_id = results['features'][0]['id']\n",
        "service_id"
      ]
    },
    {
      "cell_type": "code",
      "execution_count": null,
      "metadata": {},
      "outputs": [],
      "source": [
        "results = w.collection_item(\n",
        "    collection_id = 'services', \n",
        "    identifier = service_id\n",
        ")"
      ]
    },
    {
      "cell_type": "code",
      "execution_count": null,
      "metadata": {
        "tags": [
          "remove-input"
        ]
      },
      "outputs": [],
      "source": [
        "curl_str = curl_command(w.url_with_parameters())\n",
        "md(\"```shell\\n\" + curl_str + \"\\n```\\n\")"
      ]
    },
    {
      "cell_type": "code",
      "execution_count": null,
      "metadata": {},
      "outputs": [],
      "source": [
        "results['properties']['title']"
      ]
    },
    {
      "attachments": {},
      "cell_type": "markdown",
      "metadata": {},
      "source": [
        "### Search by concept"
      ]
    },
    {
      "attachments": {},
      "cell_type": "markdown",
      "metadata": {},
      "source": [
        "**Example: 2.5**  \n",
        ">  Search services by concept (`classifiedAs`). \n",
        "\n",
        "Service metadata includes platform, instrument and science keywords, including the URI of these concepts expressed in the ESA thesauri and NASA GCMD thesauri.  The URI of these concepts can be used as search parameter.  \n",
        "\n",
        "In the current version of the software, the following concept URIs are supported:\n",
        "\n",
        "* ESA thesaurus platform URI\n",
        "* ESA thesaurus instrument URI\n",
        "* ESA thesaurus earth topic URI\n",
        "* ESA thesaurus tool category URI (experimental)\n",
        "* GCMD platform URI\n",
        "* GCMD instrument URI\n",
        "* GCMD science keyword URI"
      ]
    },
    {
      "cell_type": "code",
      "execution_count": null,
      "metadata": {},
      "outputs": [],
      "source": [
        "results = w.collection_items(\n",
        "    collection_id = 'services', \n",
        "    limit = 20, \n",
        "    # GOCE toolbox, gravitational ...\n",
        "    # https://earth.esa.int/concept/bd09a085-0d60-5bad-abe4-a4555e80e9b9  # Tools / Visualisation\n",
        "    classifiedAs = 'https://earth.esa.int/concept/1abfac39-23bf-561f-a765-76da42a79d44',  # GOCE\n",
        "    organisationName = 'ESA/ESRIN' \n",
        ")"
      ]
    },
    {
      "cell_type": "code",
      "execution_count": null,
      "metadata": {
        "tags": [
          "remove-input"
        ]
      },
      "outputs": [],
      "source": [
        "curl_str = curl_command(w.url_with_parameters())\n",
        "md(\"```shell\\n\" + curl_str + \"\\n```\\n\")"
      ]
    },
    {
      "cell_type": "code",
      "execution_count": null,
      "metadata": {},
      "outputs": [],
      "source": [
        "print(f\"{results['numberMatched']} items found.\")"
      ]
    },
    {
      "cell_type": "code",
      "execution_count": null,
      "metadata": {},
      "outputs": [],
      "source": [
        "gdf = gpd.GeoDataFrame.from_features(results)\n",
        "gdf[['title','abstract']]"
      ]
    },
    {
      "attachments": {},
      "cell_type": "markdown",
      "metadata": {},
      "source": [
        "### Search by keyword"
      ]
    },
    {
      "attachments": {},
      "cell_type": "markdown",
      "metadata": {},
      "source": [
        "**Example: 2.6**  \n",
        ">  Search services by keyword (`subject`). "
      ]
    },
    {
      "cell_type": "code",
      "execution_count": null,
      "metadata": {},
      "outputs": [],
      "source": [
        "results = w.collection_items(\n",
        "    collection_id = 'services', \n",
        "    limit = 5, \n",
        "    subject = 'Solid Earth',  \n",
        "    organisationName = 'ESA/ESRIN' \n",
        ")"
      ]
    },
    {
      "cell_type": "code",
      "execution_count": null,
      "metadata": {
        "tags": [
          "remove-input"
        ]
      },
      "outputs": [],
      "source": [
        "curl_str = curl_command(w.url_with_parameters())\n",
        "md(\"```shell\\n\" + curl_str + \"\\n```\\n\")"
      ]
    },
    {
      "cell_type": "code",
      "execution_count": null,
      "metadata": {},
      "outputs": [],
      "source": [
        "print(f\"{results['numberMatched']} items found.\")"
      ]
    },
    {
      "cell_type": "code",
      "execution_count": null,
      "metadata": {},
      "outputs": [],
      "source": [
        "gdf = gpd.GeoDataFrame.from_features(results)\n",
        "gdf[['title','abstract']]"
      ]
    },
    {
      "attachments": {},
      "cell_type": "markdown",
      "metadata": {},
      "source": [
        "### Search by offering"
      ]
    },
    {
      "attachments": {},
      "cell_type": "markdown",
      "metadata": {},
      "source": [
        "**Example: 2.7**  \n",
        ">  Search services by offering (`offering`). "
      ]
    },
    {
      "cell_type": "code",
      "execution_count": null,
      "metadata": {},
      "outputs": [],
      "source": [
        "results = w.collection_items(\n",
        "    collection_id = 'services', \n",
        "    limit = 5, \n",
        "    # offering = 'http://www.opengis.net/spec/eopad-geojson/req/docker/image',\n",
        "    # offering = 'image',  \n",
        "    offering = 'wcs',\n",
        "    # offering = 'docker',  # no results\n",
        "    organisationName = 'ESA/ESRIN' \n",
        ")"
      ]
    },
    {
      "cell_type": "code",
      "execution_count": null,
      "metadata": {
        "tags": [
          "remove-input"
        ]
      },
      "outputs": [],
      "source": [
        "curl_str = curl_command(w.url_with_parameters())\n",
        "md(\"```shell\\n\" + curl_str + \"\\n```\\n\")"
      ]
    },
    {
      "cell_type": "code",
      "execution_count": null,
      "metadata": {},
      "outputs": [],
      "source": [
        "print(f\"{results['numberMatched']} items found.\")"
      ]
    },
    {
      "cell_type": "code",
      "execution_count": null,
      "metadata": {},
      "outputs": [],
      "source": [
        "gdf = gpd.GeoDataFrame.from_features(results)\n",
        "gdf[['title','abstract']]"
      ]
    },
    {
      "attachments": {},
      "cell_type": "markdown",
      "metadata": {},
      "source": [
        "## Item Search (Granules)"
      ]
    },
    {
      "cell_type": "code",
      "execution_count": null,
      "metadata": {},
      "outputs": [],
      "source": []
    },
    {
      "attachments": {},
      "cell_type": "markdown",
      "metadata": {},
      "source": [
        "### Access API description\n",
        "\n",
        "The following search parameters for `datasets` (granules) are declared in the `/collections/datasets/items` section of the OpenAPI definition.  The `x-value` column provides the name of the corresponding OpenSearch parameter.  Not all search parameters are supported for a particular EO collection (`parentIdentifier`).  The collection-specific OpenSearch Description Document (OSDD) provides the correct list. Future versions of the interface will support the `/queryables` response for each EO collections, facilitating access to the correct list."
      ]
    },
    {
      "cell_type": "code",
      "execution_count": null,
      "metadata": {
        "tags": [
          "remove-input"
        ]
      },
      "outputs": [],
      "source": [
        "response = requests.get(URL_OAI_DEFINITION)\n",
        "apidoc = json.loads(response.text)\n",
        "ref = apidoc['paths']['/collections/datasets/items']['get']['parameters']\n",
        "df = pd.json_normalize(ref, max_level = 0)\n",
        "df[['name','description','x-value']].sort_values(by=['name'])"
      ]
    },
    {
      "cell_type": "code",
      "execution_count": null,
      "metadata": {
        "tags": [
          "remove-input",
          "output_scroll"
        ]
      },
      "outputs": [],
      "source": [
        "jstr = json.dumps(ref, indent=3)\n",
        "md(\"```json\\n\" + jstr + \"\\n```\\n\")"
      ]
    },
    {
      "attachments": {},
      "cell_type": "markdown",
      "metadata": {},
      "source": [
        "```{index} double: OGC API Features ; media types\n",
        "```\n",
        "### Search response formats\n",
        "\n",
        "The following response formats (media types) for `datasets` (granules) are declared in the `/collections/datasets/items` section of the OpenAPI definition.  The media type can be requested via the `Accept` header parameter or the `httpAccept` query parameter.  "
      ]
    },
    {
      "cell_type": "code",
      "execution_count": null,
      "metadata": {},
      "outputs": [],
      "source": [
        "ref = apidoc['paths']['/collections/datasets/items']['get']['responses']['200']['content']\n",
        "df = pd.json_normalize(ref, max_level = 0)\n",
        "sorted(ref.keys())"
      ]
    },
    {
      "attachments": {},
      "cell_type": "markdown",
      "metadata": {},
      "source": [
        "```{index} double: OGC API Features ; parentIdentifier\n",
        "```\n",
        "\n",
        "### Search by collection\n",
        "\n",
        "The `parentIdentifier` parameter is mandatory for granule searches as not all granule metadata is available at a single location.  It allows identifying the Earth Observation (EO) collection to which the granules belong.  In most, but not all cases, the parentIdentifier corresponds to the `fileIdentifier` in the corresponding collection metadata representation in ISO19139(-2) metadata format.  When using the API through the OpenSearch OSDD for granule search, the value of this API parameter is pre-filled automatically through the two-step search mechanism."
      ]
    },
    {
      "attachments": {},
      "cell_type": "markdown",
      "metadata": {},
      "source": [
        "**Example: 3.1**  \n",
        ">  Search granules by (Earth observation) collection (`parentIdentifier`) list. "
      ]
    },
    {
      "cell_type": "code",
      "execution_count": null,
      "metadata": {},
      "outputs": [],
      "source": [
        "results = w.collection_items(\n",
        "    collection_id = 'datasets', \n",
        "    limit = 5, \n",
        "    parentIdentifier=COLLECTION_ID1\n",
        ")"
      ]
    },
    {
      "cell_type": "code",
      "execution_count": null,
      "metadata": {
        "tags": [
          "remove-input"
        ]
      },
      "outputs": [],
      "source": [
        "curl_str = curl_command(w.url_with_parameters())\n",
        "md(\"```shell\\n\" + curl_str + \"\\n```\\n\")"
      ]
    },
    {
      "cell_type": "code",
      "execution_count": null,
      "metadata": {},
      "outputs": [],
      "source": [
        "print(f\"{results['numberMatched']} items found.\")"
      ]
    },
    {
      "cell_type": "code",
      "execution_count": null,
      "metadata": {},
      "outputs": [],
      "source": [
        "gdf = gpd.GeoDataFrame.from_features(results)\n",
        "gdf[['date', 'title']]"
      ]
    },
    {
      "attachments": {},
      "cell_type": "markdown",
      "metadata": {},
      "source": [
        "In newer versions of the software the `parentIdentifier` can also be directly used as identifier of the `collection`.  The following request provides the same result."
      ]
    },
    {
      "cell_type": "code",
      "execution_count": null,
      "metadata": {},
      "outputs": [],
      "source": [
        "results = w.collection_items(\n",
        "    collection_id = COLLECTION_ID1, \n",
        "    limit = 5\n",
        ")"
      ]
    },
    {
      "cell_type": "code",
      "execution_count": null,
      "metadata": {
        "tags": [
          "remove-input"
        ]
      },
      "outputs": [],
      "source": [
        "curl_str = curl_command(w.url_with_parameters())\n",
        "md(\"```shell\\n\" + curl_str + \"\\n```\\n\")"
      ]
    },
    {
      "cell_type": "code",
      "execution_count": null,
      "metadata": {},
      "outputs": [],
      "source": [
        "print(f\"{results['numberMatched']} items found.\")"
      ]
    },
    {
      "attachments": {},
      "cell_type": "markdown",
      "metadata": {},
      "source": [
        "```{index} double: OGC API Features ; bbox\n",
        "```\n",
        "\n",
        "### Search by bounding box"
      ]
    },
    {
      "attachments": {},
      "cell_type": "markdown",
      "metadata": {},
      "source": [
        "**Example: 3.2**  \n",
        ">  Search granules by bounding box (`bbox`).  "
      ]
    },
    {
      "cell_type": "code",
      "execution_count": null,
      "metadata": {},
      "outputs": [],
      "source": [
        "results = w.collection_items(\n",
        "    'datasets', \n",
        "    limit=10, \n",
        "    bbox=(14.90, 37.700, 14.99, 37.780), # Mount Etna\n",
        "    parentIdentifier=COLLECTION_ID1\n",
        ")"
      ]
    },
    {
      "cell_type": "code",
      "execution_count": null,
      "metadata": {
        "tags": [
          "remove-input"
        ]
      },
      "outputs": [],
      "source": [
        "curl_str = curl_command(w.url_with_parameters())\n",
        "md(\"```shell\\n\" + curl_str + \"\\n```\\n\")"
      ]
    },
    {
      "cell_type": "code",
      "execution_count": null,
      "metadata": {},
      "outputs": [],
      "source": [
        "print(f\"{results['numberMatched']} items found.\")"
      ]
    },
    {
      "cell_type": "code",
      "execution_count": null,
      "metadata": {},
      "outputs": [],
      "source": [
        "gdf = gpd.GeoDataFrame.from_features(results)\n",
        "gdf[['date', 'title']]"
      ]
    },
    {
      "cell_type": "code",
      "execution_count": null,
      "metadata": {
        "tags": [
          "output_scroll"
        ]
      },
      "outputs": [],
      "source": [
        "jstr = json.dumps(results, indent=3)\n",
        "md(\"```json\\n\" + jstr + \"\\n```\\n\")"
      ]
    },
    {
      "cell_type": "code",
      "execution_count": null,
      "metadata": {},
      "outputs": [],
      "source": [
        "display_map(results)"
      ]
    },
    {
      "attachments": {},
      "cell_type": "markdown",
      "metadata": {},
      "source": [
        "```{index} double: OGC API Features; geometry\n",
        "```\n",
        "\n",
        "### Search by geometry\n",
        "\n",
        "If the parameter is supported for the collection, then the OpenSearch OSDD template identifies one or more profiles of the geo:geometry values that can be used in a granule search request. Possible profiles include searches by point, linestring, multipoint, multilinestring or polygon. In all cases, the geometry value is to be provided in Well-Known Text (WKT) format."
      ]
    },
    {
      "attachments": {},
      "cell_type": "markdown",
      "metadata": {},
      "source": [
        "**Example: 3.3**  \n",
        ">  Search granules by polygon geometry (`geometry`).  "
      ]
    },
    {
      "cell_type": "code",
      "execution_count": null,
      "metadata": {},
      "outputs": [],
      "source": [
        "results = w.collection_items(\n",
        "    'datasets', \n",
        "    limit=3, \n",
        "    geometry='POLYGON((14.90 37.700, 14.90 37.780, 14.99 37.780, 14.99 37.700, 14.90 37.700))',\n",
        "    parentIdentifier=COLLECTION_ID1\n",
        ")"
      ]
    },
    {
      "cell_type": "code",
      "execution_count": null,
      "metadata": {
        "tags": [
          "remove-input"
        ]
      },
      "outputs": [],
      "source": [
        "curl_str = curl_command(w.url_with_parameters())\n",
        "md(\"```shell\\n\" + curl_str + \"\\n```\\n\")"
      ]
    },
    {
      "cell_type": "code",
      "execution_count": null,
      "metadata": {},
      "outputs": [],
      "source": [
        "print(f\"{results['numberMatched']} items found.\")"
      ]
    },
    {
      "cell_type": "code",
      "execution_count": null,
      "metadata": {},
      "outputs": [],
      "source": [
        "display_map(results)"
      ]
    },
    {
      "attachments": {},
      "cell_type": "markdown",
      "metadata": {},
      "source": [
        "**Example: 3.4**  \n",
        ">  Search granules by point geometry (`geometry`).  "
      ]
    },
    {
      "cell_type": "code",
      "execution_count": null,
      "metadata": {},
      "outputs": [],
      "source": [
        "results = w.collection_items(\n",
        "    'datasets', \n",
        "    limit=3, \n",
        "    geometry='POINT(4.3353 51.26866)',  # Antwerp\n",
        "    parentIdentifier=COLLECTION_ID1\n",
        ")"
      ]
    },
    {
      "cell_type": "code",
      "execution_count": null,
      "metadata": {
        "tags": [
          "remove-input"
        ]
      },
      "outputs": [],
      "source": [
        "curl_str = curl_command(w.url_with_parameters())\n",
        "md(\"```shell\\n\" + curl_str + \"\\n```\\n\")"
      ]
    },
    {
      "cell_type": "code",
      "execution_count": null,
      "metadata": {},
      "outputs": [],
      "source": [
        "print(f\"{results['numberMatched']} items found.\")"
      ]
    },
    {
      "cell_type": "code",
      "execution_count": null,
      "metadata": {},
      "outputs": [],
      "source": [
        "display_gdf_plot(results)"
      ]
    },
    {
      "cell_type": "code",
      "execution_count": null,
      "metadata": {},
      "outputs": [],
      "source": [
        "display_map(results)"
      ]
    },
    {
      "attachments": {},
      "cell_type": "markdown",
      "metadata": {},
      "source": [
        "```{index} double: OGC API Features; datetime\n",
        "```\n",
        "\n",
        "### Search by temporal extent"
      ]
    },
    {
      "attachments": {},
      "cell_type": "markdown",
      "metadata": {},
      "source": [
        "**Example: 3.5**  \n",
        ">  Search granules by date range (`datetime`).  "
      ]
    },
    {
      "cell_type": "code",
      "execution_count": null,
      "metadata": {},
      "outputs": [],
      "source": [
        "results = w.collection_items(\n",
        "    'datasets', \n",
        "    limit=50, \n",
        "    parentIdentifier=COLLECTION_ID1,\n",
        "    datetime='2019-01-01T00:00:00Z/2019-12-02T00:00:00Z'\n",
        ")"
      ]
    },
    {
      "cell_type": "code",
      "execution_count": null,
      "metadata": {
        "tags": [
          "remove-input"
        ]
      },
      "outputs": [],
      "source": [
        "curl_str = curl_command(w.url_with_parameters())\n",
        "md(\"```shell\\n\" + curl_str + \"\\n```\\n\")"
      ]
    },
    {
      "cell_type": "code",
      "execution_count": null,
      "metadata": {},
      "outputs": [],
      "source": [
        "print(f\"{results['numberMatched']} items found.\")"
      ]
    },
    {
      "cell_type": "code",
      "execution_count": null,
      "metadata": {},
      "outputs": [],
      "source": [
        "display_date_distribution(results)"
      ]
    },
    {
      "attachments": {},
      "cell_type": "markdown",
      "metadata": {},
      "source": [
        "**Example: 3.6**  \n",
        ">  Search granules by open-ended date range (datetime).  "
      ]
    },
    {
      "cell_type": "code",
      "execution_count": null,
      "metadata": {},
      "outputs": [],
      "source": [
        "results = w.collection_items(\n",
        "    'datasets', \n",
        "    limit=50, \n",
        "    parentIdentifier=COLLECTION_ID1,\n",
        "    datetime='2021-12-01T00:00:00Z/'\n",
        ")"
      ]
    },
    {
      "cell_type": "code",
      "execution_count": null,
      "metadata": {
        "tags": [
          "remove-input"
        ]
      },
      "outputs": [],
      "source": [
        "curl_str = curl_command(w.url_with_parameters())\n",
        "md(\"```shell\\n\" + curl_str + \"\\n```\\n\")"
      ]
    },
    {
      "cell_type": "code",
      "execution_count": null,
      "metadata": {},
      "outputs": [],
      "source": [
        "print(f\"{results['numberMatched']} items found.\")"
      ]
    },
    {
      "cell_type": "code",
      "execution_count": null,
      "metadata": {},
      "outputs": [],
      "source": [
        "display_date_distribution(results)"
      ]
    },
    {
      "attachments": {},
      "cell_type": "markdown",
      "metadata": {},
      "source": [
        "```{index} double: OGC API Features; uid\n",
        "```\n",
        "\n",
        "### Search by identifier\n",
        "\n",
        "The geo:uid combined with the collection identifier eo:parentIdentifier (already prefilled in the OSDD template extracted from the collection search response) allows retrieving granule metadata for a specific granule. Use an identifier extracted from the previous search response."
      ]
    },
    {
      "cell_type": "code",
      "execution_count": null,
      "metadata": {
        "tags": [
          "remove-input"
        ]
      },
      "outputs": [],
      "source": [
        "# Keep for future use.\n",
        "granule_id = results['features'][0]['id']\n",
        "granule_id"
      ]
    },
    {
      "attachments": {},
      "cell_type": "markdown",
      "metadata": {},
      "source": [
        "**Example: 3.7**  \n",
        ">  Search granules by identifier (`uid`). "
      ]
    },
    {
      "cell_type": "code",
      "execution_count": null,
      "metadata": {},
      "outputs": [],
      "source": [
        "results = w.collection_items(\n",
        "    collection_id = 'datasets', \n",
        "    uid = granule_id,\n",
        "    parentIdentifier = COLLECTION_ID1\n",
        ")"
      ]
    },
    {
      "cell_type": "code",
      "execution_count": null,
      "metadata": {
        "tags": [
          "remove-input"
        ]
      },
      "outputs": [],
      "source": [
        "curl_str = curl_command(w.url_with_parameters())\n",
        "md(\"```shell\\n\" + curl_str + \"\\n```\\n\")"
      ]
    },
    {
      "cell_type": "code",
      "execution_count": null,
      "metadata": {},
      "outputs": [],
      "source": [
        "results"
      ]
    },
    {
      "attachments": {},
      "cell_type": "markdown",
      "metadata": {},
      "source": [
        "Alternatively, the feature can be accessed directly as shown below.  The `httpAccept` query parameter can be added to request a different representation."
      ]
    },
    {
      "attachments": {},
      "cell_type": "markdown",
      "metadata": {},
      "source": [
        "**Example: 3.8**  \n",
        ">  Access granule by identifier.  "
      ]
    },
    {
      "cell_type": "code",
      "execution_count": null,
      "metadata": {},
      "outputs": [],
      "source": [
        "results = w.collection_item(\n",
        "    collection_id = 'datasets', \n",
        "    identifier = granule_id\n",
        ")"
      ]
    },
    {
      "cell_type": "code",
      "execution_count": null,
      "metadata": {
        "tags": [
          "remove-input"
        ]
      },
      "outputs": [],
      "source": [
        "curl_str = curl_command(w.url_with_parameters())\n",
        "md(\"```shell\\n\" + curl_str + \"\\n```\\n\")"
      ]
    },
    {
      "cell_type": "code",
      "execution_count": null,
      "metadata": {
        "tags": [
          "scroll_output"
        ]
      },
      "outputs": [],
      "source": [
        "# results['properties']['title']\n",
        "# results['properties']\n",
        "results"
      ]
    },
    {
      "attachments": {},
      "cell_type": "markdown",
      "metadata": {},
      "source": [
        "```{index} double: OGC API Features; acquisition parameters\n",
        "```\n",
        "### Search by acquisition parameters\n"
      ]
    },
    {
      "attachments": {},
      "cell_type": "markdown",
      "metadata": {},
      "source": [
        "```{index} double: OGC API Features; illuminationElevationAngle\n",
        "```\n",
        "```{index} double: OGC API Features; range of values\n",
        "```\n",
        "**Example: 3.9**  \n",
        ">  Search granules by illumination angles `illuminationElevationAngle`, `illuminationAzimuthAngle`."
      ]
    },
    {
      "attachments": {},
      "cell_type": "markdown",
      "metadata": {},
      "source": [
        "The example shows how a set of values can be provided using square brackets: `[`value-1,value-2`]`."
      ]
    },
    {
      "attachments": {},
      "cell_type": "markdown",
      "metadata": {},
      "source": [
        "The `illuminationElevationAngle` and `illuminationAzimuthAngle` search parameters allow filtering results by illumination angles. An interval specifying minimum and maximum allowed values is to be provided, e.g. `[48,50]`. Only providing the minimum or maximum value can be done by using an open interval, e.g. `[48` or `50]`."
      ]
    },
    {
      "attachments": {},
      "cell_type": "markdown",
      "metadata": {},
      "source": [
        "Other acquisition parameters can be advertised as searchable in the collection OSDD, depending on the sensor type e.g.:\n",
        "\n",
        "- orbitNumber\n",
        "- orbitDirection\n",
        "- frame\n",
        "- track\n",
        "etc."
      ]
    },
    {
      "cell_type": "code",
      "execution_count": null,
      "metadata": {},
      "outputs": [],
      "source": [
        "results = w.collection_items(\n",
        "    limit = 3,\n",
        "    collection_id = 'datasets', \n",
        "    parentIdentifier = COLLECTION_ID3_CLOUDS,\n",
        "    illuminationElevationAngle = '[30,40]'  \n",
        ")"
      ]
    },
    {
      "cell_type": "code",
      "execution_count": null,
      "metadata": {
        "tags": [
          "remove-input"
        ]
      },
      "outputs": [],
      "source": [
        "curl_str = curl_command(w.url_with_parameters())\n",
        "md(\"```shell\\n\" + curl_str + \"\\n```\\n\")"
      ]
    },
    {
      "cell_type": "code",
      "execution_count": null,
      "metadata": {},
      "outputs": [],
      "source": [
        "print(f\"{results['numberMatched']} items found.\")"
      ]
    },
    {
      "cell_type": "code",
      "execution_count": null,
      "metadata": {},
      "outputs": [],
      "source": [
        "df = pd.json_normalize(results['features'][0]['properties']['acquisitionInformation'])\n",
        "df.transpose()"
      ]
    },
    {
      "attachments": {},
      "cell_type": "markdown",
      "metadata": {},
      "source": [
        "```{index} double: OGC API Features; orbitDirection\n",
        "```\n",
        "**Example: 3.10**  \n",
        ">  Search granules by `orbitDirection`."
      ]
    },
    {
      "cell_type": "code",
      "execution_count": null,
      "metadata": {},
      "outputs": [],
      "source": [
        "results = w.collection_items(\n",
        "    limit = 3,\n",
        "    collection_id = 'datasets', \n",
        "    parentIdentifier = COLLECTION_ID2,\n",
        "    orbitDirection = 'DESCENDING'  \n",
        ")"
      ]
    },
    {
      "cell_type": "code",
      "execution_count": null,
      "metadata": {
        "tags": [
          "remove-input"
        ]
      },
      "outputs": [],
      "source": [
        "curl_str = curl_command(w.url_with_parameters())\n",
        "md(\"```shell\\n\" + curl_str + \"\\n```\\n\")"
      ]
    },
    {
      "cell_type": "code",
      "execution_count": null,
      "metadata": {},
      "outputs": [],
      "source": [
        "print(f\"{results['numberMatched']} items found.\")"
      ]
    },
    {
      "cell_type": "code",
      "execution_count": null,
      "metadata": {},
      "outputs": [],
      "source": [
        "df = pd.json_normalize(results['features'][0]['properties']['acquisitionInformation'])\n",
        "df.transpose()"
      ]
    },
    {
      "attachments": {},
      "cell_type": "markdown",
      "metadata": {},
      "source": [
        "```{index} double: OGC API Features; orbitNumber\n",
        "```\n",
        "```{index} double: OGC API Features; set of values\n",
        "```\n",
        "**Example: 3.11**  \n",
        ">  Search granules by `orbitNumber`."
      ]
    },
    {
      "attachments": {},
      "cell_type": "markdown",
      "metadata": {},
      "source": [
        "The example shows how a set of values can be provided using curly brackets: `{`value-1,value-2,...,value-n`}`"
      ]
    },
    {
      "cell_type": "code",
      "execution_count": null,
      "metadata": {},
      "outputs": [],
      "source": [
        "results = w.collection_items(\n",
        "    limit = 3,\n",
        "    collection_id = 'datasets', \n",
        "    parentIdentifier = COLLECTION_ID2_CLOUDS,\n",
        "    orbitNumber = '{1237, 1248}'  # 1237 or 1248\n",
        ")"
      ]
    },
    {
      "cell_type": "code",
      "execution_count": null,
      "metadata": {
        "tags": [
          "remove-input"
        ]
      },
      "outputs": [],
      "source": [
        "curl_str = curl_command(w.url_with_parameters())\n",
        "md(\"```shell\\n\" + curl_str + \"\\n```\\n\")"
      ]
    },
    {
      "cell_type": "code",
      "execution_count": null,
      "metadata": {},
      "outputs": [],
      "source": [
        "print(f\"{results['numberMatched']} items found.\")"
      ]
    },
    {
      "cell_type": "code",
      "execution_count": null,
      "metadata": {},
      "outputs": [],
      "source": [
        "df = pd.json_normalize(results['features'][0]['properties']['acquisitionInformation'])\n",
        "df.transpose()"
      ]
    },
    {
      "attachments": {},
      "cell_type": "markdown",
      "metadata": {
        "id": "gs4LcK4FSw6n"
      },
      "source": [
        "## Advanced topics"
      ]
    },
    {
      "attachments": {},
      "cell_type": "markdown",
      "metadata": {},
      "source": [
        "### Sorting results\n",
        "\n",
        "```{index} double: OGC API Features ; sortKeys\n",
        "```\n",
        "```{index} double: searchRetrieve ; sortKeys\n",
        "```\n",
        "\n",
        "Sorting of search results is available for collection, services and granule searches.   The supported search criteria can be found in the corresponding OpenSearch OSDD document.  The `sortKeys` query parameter is defined in the SRU specification [[RD07]](#RD07).\n"
      ]
    },
    {
      "attachments": {},
      "cell_type": "markdown",
      "metadata": {},
      "source": [
        "**Example: 4.1**  \n",
        ">  Collection search results can be sorted according to various criteria with `sortKeys` [[RD07]](#RD07), in descending or ascending order which can be discovered in the OSDD. The example sorts collections in descending chronological order according to the {eo:modificationDate} value. "
      ]
    },
    {
      "cell_type": "code",
      "execution_count": null,
      "metadata": {},
      "outputs": [],
      "source": [
        "results = w.collection_items(\n",
        "    'series', \n",
        "    limit=10, \n",
        "    # sortKeys='title,dc,1',\n",
        "    sortKeys='modificationDate,eo,0',\n",
        "    organisationName = 'ESA/ESRIN' \n",
        ")"
      ]
    },
    {
      "cell_type": "code",
      "execution_count": null,
      "metadata": {
        "tags": [
          "remove-input"
        ]
      },
      "outputs": [],
      "source": [
        "curl_str = curl_command(w.url_with_parameters())\n",
        "md(\"```shell\\n\" + curl_str + \"\\n```\\n\")"
      ]
    },
    {
      "cell_type": "code",
      "execution_count": null,
      "metadata": {},
      "outputs": [],
      "source": [
        "print(f\"{results['numberMatched']} items found.\")"
      ]
    },
    {
      "cell_type": "code",
      "execution_count": null,
      "metadata": {},
      "outputs": [],
      "source": [
        "gdf = gpd.GeoDataFrame.from_features(results)\n",
        "gdf[['updated','title']]"
      ]
    },
    {
      "attachments": {},
      "cell_type": "markdown",
      "metadata": {},
      "source": [
        "**Example: 4.2**  \n",
        ">  Granule search results can be sorted according to various criteria with `sortKeys` [RD07], in descending or ascending order which can be discovered in the OSDD. The example sorts granules in ascending chronological order according to the {time:start} value. "
      ]
    },
    {
      "cell_type": "code",
      "execution_count": null,
      "metadata": {},
      "outputs": [],
      "source": [
        "results = w.collection_items(\n",
        "    'datasets', \n",
        "    limit=10, \n",
        "    parentIdentifier=COLLECTION_ID1,\n",
        "    sortKeys='start,time,1'\n",
        ")"
      ]
    },
    {
      "cell_type": "code",
      "execution_count": null,
      "metadata": {
        "tags": [
          "remove-input"
        ]
      },
      "outputs": [],
      "source": [
        "curl_str = curl_command(w.url_with_parameters())\n",
        "md(\"```shell\\n\" + curl_str + \"\\n```\\n\")"
      ]
    },
    {
      "cell_type": "code",
      "execution_count": null,
      "metadata": {},
      "outputs": [],
      "source": [
        "print(f\"{results['numberMatched']} items found.\")"
      ]
    },
    {
      "cell_type": "code",
      "execution_count": null,
      "metadata": {},
      "outputs": [],
      "source": [
        "gdf = gpd.GeoDataFrame.from_features(results)\n",
        "gdf[['date','title']]"
      ]
    },
    {
      "attachments": {},
      "cell_type": "markdown",
      "metadata": {},
      "source": [
        "### Faceted search\n",
        "\n",
        "```{index} double: OGC API Features ; faceted search\n",
        "```\n",
        "```{index} double: OGC API Features ; facetLimit\n",
        "```\n",
        "```{index} double: searchRetrieve ; facetLimit\n",
        "```\n",
        "\n",
        "Faceted search results are available for collection, service and granule searches in both GeoJSON and Atom response formats.  The GeoJSON encoding is defined in [[RD35]](#RD35) at https://docs.ogc.org/per/19-020r1.html#_facetedresults and consistent with the OASIS SRU encoding available for Atom response format defined in [[RD07]](#RD07).\n",
        "\n",
        "The server can supply faceted results for a query: i.e. an analysis of how the search results are distributed over various categories (or “facets”). For example, the analysis may reveal how the results are distributed by organization. The client might then refine the query to one particular organization among those listed.\n",
        "\n",
        "By default, the search response contains faceted search results under the element facetedResults. In the current implementation, the faceted search information groups the results by a number of predefined facets which may include platform, instrument and organisation etc. The client can also specify which facets it would like to receive as part of the request with the `facetLimit` search parameter.\n",
        "\n",
        "The search response does not include the list of all values for the facet. The list is truncated and provides the values with the largest count. Future versions of the software may allow paging through all values, which would require support for the sru:facetStart search parameter.\n",
        "\n",
        "The faceted Results are consistent with the OASIS searchRetrieve facetedResults XML schema available at http://docs.oasis-open.org/search-ws/searchRetrieve/v1.0/os/schemas/facetedResults.xsd defined in [[RD07]](#RD07) and the GeoJSON encoding defined in [[RD35]](#RD35).\n",
        "\n",
        "The `facetLimit` query parameter is defined in the SRU specification [[RD07]](#RD07)."
      ]
    },
    {
      "attachments": {},
      "cell_type": "markdown",
      "metadata": {},
      "source": [
        "```{index} double: OGC API Features ; Turtle\n",
        "```\n",
        "```{index} double: OGC API Features ; Atom\n",
        "```\n",
        "```{index} double: OGC API Features ; JSON-LD\n",
        "```\n",
        "```{index} double: OGC API Features ; RDF/XML\n",
        "```\n",
        "```{index} double: OGC API Features ; httpAccept\n",
        "```\n",
        "```{index} double: OGC API Features ; Accept\n",
        "```\n",
        "```{index} double: searchRetrieve ; httpAccept\n",
        "```\n",
        "\n",
        "(all-response-formats)=\n",
        "### Additional response formats\n",
        "\n",
        "Different representations are available for search results (container), and individual items representing a Collection, Service or Granule. They are declared in the OpenAPI definition document (`/api`).  Content negotiation can be used via the `Accept` header parameter or `httpAccept` query parameter.\n",
        "Available formats are listed in the following subsections.\n",
        "\n",
        "All the search criteria described previously can be combined with any of the available representations."
      ]
    },
    {
      "cell_type": "code",
      "execution_count": null,
      "metadata": {
        "tags": [
          "remove-input"
        ]
      },
      "outputs": [],
      "source": [
        "md(f\"The OpenAPI definition describing the OGC API Features interface is available at `{URL_OAI_DEFINITION}`.\")"
      ]
    },
    {
      "attachments": {},
      "cell_type": "markdown",
      "metadata": {},
      "source": [
        "#### Search results\n",
        "\n",
        "The various media types available for search results are listed in the OpenAPI definition.  For each of the available media types, an example is provided in the current section."
      ]
    },
    {
      "cell_type": "code",
      "execution_count": null,
      "metadata": {},
      "outputs": [],
      "source": [
        "ref = apidoc['paths']['/collections/datasets/items']['get']['responses']['200']['content']\n",
        "df = pd.json_normalize(ref, max_level = 0)\n",
        "sorted(ref.keys())"
      ]
    },
    {
      "cell_type": "code",
      "execution_count": null,
      "metadata": {
        "tags": [
          "remove-input"
        ]
      },
      "outputs": [],
      "source": [
        "html_str = create_example_table_as_html(\n",
        "    mediatypes = sorted(ref.keys()),\n",
        "    chapter = 5)\n",
        "HTML(html_str)"
      ]
    },
    {
      "cell_type": "code",
      "execution_count": null,
      "metadata": {
        "tags": [
          "remove-input"
        ]
      },
      "outputs": [],
      "source": [
        "md_str = create_examples_as_md(\n",
        "    mediatypes = sorted(ref.keys()),\n",
        "    chapter = 5, \n",
        "    resource = URL_LANDING_PAGE + 'collections/series/items?limit=0',\n",
        "    resource_type = \"search response\" )\n",
        "md(md_str)"
      ]
    },
    {
      "attachments": {},
      "cell_type": "markdown",
      "metadata": {},
      "source": [
        "#### Item (Collection)\n",
        "\n",
        "The various media types available for representing a collection are listed in the OpenAPI definition.  For each of the available media types, an example is provided in the current section."
      ]
    },
    {
      "cell_type": "code",
      "execution_count": null,
      "metadata": {},
      "outputs": [],
      "source": [
        "ref = apidoc['paths']['/collections/series/items/{seriesId}']['get']['responses']['200']['content']\n",
        "df = pd.json_normalize(ref, max_level = 0)\n",
        "sorted(ref.keys())"
      ]
    },
    {
      "cell_type": "code",
      "execution_count": null,
      "metadata": {
        "tags": [
          "remove-input",
          "remove-cell"
        ]
      },
      "outputs": [],
      "source": [
        "# Generate a markdown table of content with links to all individual formats \n",
        "# as they cannot be included in the TOC or index.\n",
        "\n",
        "# Table replaced by list as markdown table is not corectly converted...\n",
        "\n",
        "text=\"| Example | Media type | Reference |\" + '\\n' \\\n",
        "    + \"| --- | --- | --- | \" + '\\n'\n",
        "\n",
        "digit1 = 6\n",
        "digit2 = 1\n",
        "for f in sorted(ref.keys()):\n",
        "    \n",
        "    f2 = f\n",
        "    # f2 = f.replace(\";\", \";<br>\")  # works in VS-Code, not in JupyterBook\n",
        "    # f2 = f2.replace('\"', '\\\\\"')\n",
        "    #       + '| ' + 'Example '+str(digit1)+ '.' + str(digit2)  \\\n",
        "     \n",
        "    text = text \\\n",
        "        + '| ' + '[Example '+str(digit1)+ '.' + str(digit2)+'](#example_' + str(digit1) + \"_\" + str(digit2) + ') ' \\\n",
        "        + '| ' + f2  + ' | ' + \"tbd\" + ' |' + '\\n'\n",
        "    digit2 = digit2+1\n",
        "    \n",
        "md(text)"
      ]
    },
    {
      "cell_type": "code",
      "execution_count": null,
      "metadata": {
        "tags": [
          "remove-input"
        ]
      },
      "outputs": [],
      "source": [
        "html_str = create_example_table_as_html(\n",
        "    mediatypes = sorted(ref.keys()),\n",
        "    chapter = 6)\n",
        "HTML(html_str)"
      ]
    },
    {
      "cell_type": "code",
      "execution_count": null,
      "metadata": {},
      "outputs": [],
      "source": [
        "series_id"
      ]
    },
    {
      "cell_type": "code",
      "execution_count": null,
      "metadata": {
        "tags": [
          "remove-input"
        ]
      },
      "outputs": [],
      "source": [
        "md_str = create_examples_as_md(\n",
        "    mediatypes = sorted(ref.keys()),\n",
        "    chapter = 6, \n",
        "    resource = URL_LANDING_PAGE + 'collections/series/items/' + series_id,\n",
        "    resource_type = \"series\" )\n",
        "md(md_str)"
      ]
    },
    {
      "attachments": {},
      "cell_type": "markdown",
      "metadata": {},
      "source": [
        "#### Item (Service)\n",
        "\n",
        "The various media types available for representing a service (or application) are listed in the OpenAPI definition.  For each of the available media types, an example is provided in the current section."
      ]
    },
    {
      "cell_type": "code",
      "execution_count": null,
      "metadata": {},
      "outputs": [],
      "source": [
        "ref = apidoc['paths']['/collections/services/items/{serviceId}']['get']['responses']['200']['content']\n",
        "df = pd.json_normalize(ref, max_level = 0)\n",
        "sorted(ref.keys())"
      ]
    },
    {
      "cell_type": "code",
      "execution_count": null,
      "metadata": {
        "tags": [
          "remove-input"
        ]
      },
      "outputs": [],
      "source": [
        "html_str = create_example_table_as_html(\n",
        "    mediatypes = sorted(ref.keys()),\n",
        "    chapter = 7)\n",
        "HTML(html_str)"
      ]
    },
    {
      "cell_type": "code",
      "execution_count": null,
      "metadata": {},
      "outputs": [],
      "source": [
        "service_id = 'rasdaman'"
      ]
    },
    {
      "cell_type": "code",
      "execution_count": null,
      "metadata": {
        "tags": [
          "remove-input"
        ]
      },
      "outputs": [],
      "source": [
        "md_str = create_examples_as_md(\n",
        "    mediatypes = sorted(ref.keys()),\n",
        "    chapter = 7, \n",
        "    resource = URL_LANDING_PAGE + 'collections/services/items/' + service_id,\n",
        "    resource_type = \"service\" )\n",
        "md(md_str)"
      ]
    },
    {
      "attachments": {},
      "cell_type": "markdown",
      "metadata": {},
      "source": [
        "#### Item (Granule)\n",
        "\n",
        "The various media types available for representing a granule are listed in the OpenAPI definition.  For each of the available media types, an example is provided in the current section."
      ]
    },
    {
      "cell_type": "code",
      "execution_count": null,
      "metadata": {},
      "outputs": [],
      "source": [
        "ref = apidoc['paths']['/collections/datasets/items/{datasetId}']['get']['responses']['200']['content']\n",
        "df = pd.json_normalize(ref, max_level = 0)\n",
        "sorted(ref.keys())"
      ]
    },
    {
      "cell_type": "code",
      "execution_count": null,
      "metadata": {
        "tags": [
          "remove-input"
        ]
      },
      "outputs": [],
      "source": [
        "html_str = create_example_table_as_html(\n",
        "    mediatypes = sorted(ref.keys()),\n",
        "    chapter = 8)\n",
        "HTML(html_str)"
      ]
    },
    {
      "cell_type": "code",
      "execution_count": null,
      "metadata": {},
      "outputs": [],
      "source": [
        "granule_id1 = 'PR1_OPER_CHR_MO2_1P_20161003T154700_N36-095_W006-036_0001'"
      ]
    },
    {
      "cell_type": "code",
      "execution_count": null,
      "metadata": {
        "tags": [
          "remove-input"
        ]
      },
      "outputs": [],
      "source": [
        "md_str = create_examples_as_md(\n",
        "    mediatypes = sorted(ref.keys()),\n",
        "    chapter = 8, \n",
        "    resource = URL_LANDING_PAGE + 'collections/datasets/items/' + granule_id1,\n",
        "    resource_type = \"granule\" )\n",
        "md(md_str)"
      ]
    },
    {
      "attachments": {},
      "cell_type": "markdown",
      "metadata": {},
      "source": [
        "### Linked Data\n",
        "\n",
        "The available representations include the RDF serialisations [RDF/XML](#RD37), [JSON-LD](#RD36) and [Turtle](#RD38) which allow representing the different resources as linked data.  Representations according to [schema.org](#RD40) and [GeoDCAT-AP](#RD39) are supported."
      ]
    },
    {
      "attachments": {},
      "cell_type": "markdown",
      "metadata": {},
      "source": [
        "**Example: 9.1**  \n",
        ">  Represent collection as linked data with Turtle and [GeoDCAT-AP](#RD39)."
      ]
    },
    {
      "cell_type": "code",
      "execution_count": null,
      "metadata": {},
      "outputs": [],
      "source": [
        "resource = URL_LANDING_PAGE + 'collections/series/items/' + series_id\n",
        "f = 'text/turtle;profile=\"http://data.europa.eu/930/\"'\n",
        "url = resource +'?httpAccept='+urllib.parse.quote(f)"
      ]
    },
    {
      "cell_type": "code",
      "execution_count": null,
      "metadata": {
        "tags": [
          "remove-input"
        ]
      },
      "outputs": [],
      "source": [
        "curl_str = curl_command(url)\n",
        "md(\"```shell\\n\" + curl_str + \"\\n```\\n\")"
      ]
    },
    {
      "cell_type": "code",
      "execution_count": null,
      "metadata": {
        "tags": [
          "output_scroll"
        ]
      },
      "outputs": [],
      "source": [
        "response = requests.get(url)\n",
        "# response.text\n",
        "md(\"```\\n\" + response.text + \"\\n```\\n\")"
      ]
    },
    {
      "cell_type": "code",
      "execution_count": null,
      "metadata": {},
      "outputs": [],
      "source": [
        "# display Turtle as graph\n",
        "from matplotlib.pyplot import figure\n",
        "import rdflib\n",
        "from rdflib.extras.external_graph_libs import rdflib_to_networkx_graph\n",
        "import networkx as nx\n",
        "\n",
        "figure(figsize=(30, 40), dpi=80)\n",
        "rg = rdflib.Graph()\n",
        "\n",
        "# TBD: Remove $$ signs from input to avoid bug in JSON-LD to Turtle conversion.\n",
        "rg.parse(data=response.text.replace(\"$$\", \"\" ), format='ttl', encoding='utf-8')\n",
        "G = rdflib_to_networkx_graph(rg)\n",
        "plt.plot()\n",
        "nx.draw(G, with_labels=True)"
      ]
    },
    {
      "attachments": {},
      "cell_type": "markdown",
      "metadata": {},
      "source": [
        "**Example: 9.2**  \n",
        ">  Represent collection as linked data with Turtle and [Schema.org](#RD40)."
      ]
    },
    {
      "cell_type": "code",
      "execution_count": null,
      "metadata": {},
      "outputs": [],
      "source": [
        "resource = URL_LANDING_PAGE + 'collections/series/items/' + series_id\n",
        "f = 'text/turtle;profile=\"https://schema.org\"'\n",
        "url = resource +'?httpAccept='+urllib.parse.quote(f)"
      ]
    },
    {
      "cell_type": "code",
      "execution_count": null,
      "metadata": {
        "tags": [
          "remove-input"
        ]
      },
      "outputs": [],
      "source": [
        "curl_str = curl_command(url)\n",
        "md(\"```shell\\n\" + curl_str + \"\\n```\\n\")"
      ]
    },
    {
      "cell_type": "code",
      "execution_count": null,
      "metadata": {
        "tags": [
          "output_scroll"
        ]
      },
      "outputs": [],
      "source": [
        "response = requests.get(url)\n",
        "# response.text\n",
        "md(\"```\\n\" + response.text + \"\\n```\\n\")"
      ]
    },
    {
      "cell_type": "code",
      "execution_count": null,
      "metadata": {},
      "outputs": [],
      "source": [
        "# display Turtle as graph\n",
        "from matplotlib.pyplot import figure\n",
        "import rdflib\n",
        "from rdflib.extras.external_graph_libs import rdflib_to_networkx_graph\n",
        "import networkx as nx\n",
        "\n",
        "figure(figsize=(30, 40), dpi=80)\n",
        "rg = rdflib.Graph()\n",
        "# TBD: Remove $$ signs from input to avoid bug in JSON-LD to Turtle conversion.\n",
        "rg.parse(data=response.text.replace(\"$$\", \"\" ), format='ttl', encoding='utf-8')\n",
        "# rg.parse(data=response.text, format='ttl', encoding='utf-8')\n",
        "G = rdflib_to_networkx_graph(rg)\n",
        "plt.plot()\n",
        "nx.draw(G, with_labels=True)"
      ]
    },
    {
      "attachments": {},
      "cell_type": "markdown",
      "metadata": {
        "id": "vrsecqVcSw6o"
      },
      "source": [
        "### Additional search parameters\n",
        "\n",
        "Additional search parameters beyond the OGC API Features search parameters can be used to filter results (See also https://docs.opengeospatial.org/is/17-069r3/17-069r3.html#_parameters_for_filtering_on_feature_properties).  They are defined in the OpenAPI definition as additional HTTP query parameters equivalent to the available OpenSearch parameters. \n",
        "\n",
        "Not all search parameters apply to all collections.  The available parameters for each collection are advertised in the corresponding `/collections/{collection-id}/queryables` response.  They may be used as additional HTTP query parameters or with the `filter` parameter, as the interface supports the corresponding conformance classes:\n",
        "\n",
        "- `http://www.opengis.net/spec/ogcapi-features-3/1.0/conf/queryables` from OGC API Features Part 3 [[RD21]](#RD21) indicates that collection-specific search parameters are advertised at `/collections/{collection-id}/queryables`.\n",
        "- `http://www.opengis.net/spec/ogcapi-features-3/1.0/conf/queryables-query-parameters` from OGC API Features Part 3 [[RD21]](#RD21) indicates that queryables advertised at `/collections/{collection-id}/queryables` can be used as HTTP query parameter.\n",
        "- `http://www.opengis.net/spec/ogcapi-features-3/1.0/conf/filter` from OGC API Features Part 3 [[RD21]](#RD21) indicates that queryables advertised at `/collections/{collection-id}/queryables` can be used in a CQL2 filter expression.\n",
        "\n",
        "The same search parameter listed in the /queryables response can thus be used as HTTP query parameter or inside a filter expression.  When used as HTTP query parameter, only the equality \"=\" can be used and the OpenSearch conventions apply, e.g. illuminationElevationAngle=[10,55].  When the same parameter is used inside a filter expression, a CQL expression is to be used with the comparision predicates \"<=\" and \">=\"."
      ]
    },
    {
      "attachments": {},
      "cell_type": "markdown",
      "metadata": {},
      "source": [
        "#### Conformance class Queryables\n",
        "\n",
        "**Example: 10.1**  \n",
        ">  Collections advertise the list of search parameters they support in a Queryables object in JSON Schema format."
      ]
    },
    {
      "cell_type": "code",
      "execution_count": null,
      "metadata": {},
      "outputs": [],
      "source": [
        "URL = URL_LANDING_PAGE + \"collections/\" + COLLECTION_ID1 + \"/queryables\"\n",
        "URL"
      ]
    },
    {
      "cell_type": "code",
      "execution_count": null,
      "metadata": {},
      "outputs": [],
      "source": [
        "response = requests.get(URL)   \n",
        "data = json.loads(response.text)    \n",
        "df = pd.DataFrame(data['properties'].items(),columns=['key','value'])\n",
        "df['type'] = df.apply(lambda row : row[1]['type'], axis = 1)\n",
        "df['format'] = df.apply(lambda row : row[1]['format'] if 'format' in row[1] else '-' , axis = 1)\n",
        "df.drop('value',axis=1).sort_values(by=['key'])"
      ]
    },
    {
      "cell_type": "code",
      "execution_count": null,
      "metadata": {
        "tags": [
          "output_scroll"
        ]
      },
      "outputs": [],
      "source": [
        "jstr = json.dumps(data, indent=3)\n",
        "md(\"```json\\n\" + jstr + \"\\n```\\n\")"
      ]
    },
    {
      "attachments": {},
      "cell_type": "markdown",
      "metadata": {},
      "source": [
        "**Example: 10.2**  \n",
        ">  List of search parameters available for collection search returned in a Queryables object in JSON Schema format."
      ]
    },
    {
      "cell_type": "code",
      "execution_count": null,
      "metadata": {},
      "outputs": [],
      "source": [
        "URL = URL_LANDING_PAGE + \"collections/\" + \"series\" + \"/queryables\"\n",
        "URL"
      ]
    },
    {
      "cell_type": "code",
      "execution_count": null,
      "metadata": {},
      "outputs": [],
      "source": [
        "response = requests.get(URL)   \n",
        "data = json.loads(response.text)    \n",
        "df = pd.DataFrame(data['properties'].items(),columns=['key','value'])\n",
        "df['type'] = df.apply(lambda row : row[1]['type'], axis = 1)\n",
        "df['format'] = df.apply(lambda row : row[1]['format'] if 'format' in row[1] else '-' , axis = 1)\n",
        "df.drop('value',axis=1).sort_values(by=['key'])"
      ]
    },
    {
      "cell_type": "code",
      "execution_count": null,
      "metadata": {
        "tags": [
          "output_scroll"
        ]
      },
      "outputs": [],
      "source": [
        "jstr = json.dumps(data, indent=3)\n",
        "md(\"```json\\n\" + jstr + \"\\n```\\n\")"
      ]
    },
    {
      "attachments": {},
      "cell_type": "markdown",
      "metadata": {},
      "source": [
        "```{index} double: OGC API Features ; cql-text\n",
        "```\n",
        "\n",
        "(conformance-class-filter)=\n",
        "#### Conformance class Filter\n",
        "\n",
        "The interface supports the `filter` parameter and filter expressions expressed with the Text encoding `cql-text` of the Basic Common Query Language (Basic CQL2-Text) [[RD22]](#RD22)."
      ]
    },
    {
      "attachments": {},
      "cell_type": "markdown",
      "metadata": {},
      "source": [
        "```{index} double: CQL2-Text ; logical operators\n",
        "```\n",
        "\n",
        "**Example: 11.1**  \n",
        ">  CQL Filter with logical operators (and, or)."
      ]
    },
    {
      "cell_type": "code",
      "execution_count": null,
      "metadata": {},
      "outputs": [],
      "source": [
        "results = w.collection_items(\n",
        "    collection_id = 'series', \n",
        "    limit = 10, \n",
        "    filter = \"platform = 'Envisat' and ( instrument = 'MERIS' or instrument = 'ASAR' )  and organisationName = 'ESA/ESRIN'\"\n",
        ")"
      ]
    },
    {
      "cell_type": "code",
      "execution_count": null,
      "metadata": {
        "tags": [
          "remove-input"
        ]
      },
      "outputs": [],
      "source": [
        "curl_str = curl_command(w.url_with_parameters())\n",
        "md(\"```shell\\n\" + curl_str + \"\\n```\\n\")"
      ]
    },
    {
      "cell_type": "code",
      "execution_count": null,
      "metadata": {},
      "outputs": [],
      "source": [
        "print(f\"{results['numberMatched']} items found.\")"
      ]
    },
    {
      "cell_type": "code",
      "execution_count": null,
      "metadata": {
        "tags": [
          "remove-input"
        ]
      },
      "outputs": [],
      "source": [
        "pTable = PrettyTable()\n",
        "pTable.align = \"l\"\n",
        "pTable.field_names = [\"Id\", \"Platforms / Instruments\"]\n",
        "\n",
        "for item in results['features']:\n",
        "    id = item['id']\n",
        "    platform = ''\n",
        "    first = True\n",
        "    \n",
        "    for acq in item['properties']['acquisitionInformation']:                \n",
        "        if first:\n",
        "            first = False\n",
        "        else:\n",
        "            platform += ', '\n",
        "        if \"platform\" in acq:\n",
        "            platform += acq['platform']['platformShortName']\n",
        "        if \"instrument\" in acq:\n",
        "            platform += \"/\" + acq['instrument']['instrumentShortName'] \n",
        "    \n",
        "    pTable.add_row([id,platform])\n",
        "\n",
        "print(pTable)"
      ]
    },
    {
      "attachments": {},
      "cell_type": "markdown",
      "metadata": {},
      "source": [
        "**Example: 11.2**  \n",
        ">  CQL Filter with logical operators (and, not)."
      ]
    },
    {
      "cell_type": "code",
      "execution_count": null,
      "metadata": {},
      "outputs": [],
      "source": [
        "results = w.collection_items(\n",
        "    collection_id = 'series', \n",
        "    limit = 10, \n",
        "    filter = \"(platform = 'Envisat') and ( NOT (instrument = 'MERIS') )  and (organisationName = 'ESA/ESRIN')\"\n",
        ")"
      ]
    },
    {
      "cell_type": "code",
      "execution_count": null,
      "metadata": {
        "tags": [
          "remove-input"
        ]
      },
      "outputs": [],
      "source": [
        "curl_str = curl_command(w.url_with_parameters())\n",
        "md(\"```shell\\n\" + curl_str + \"\\n```\\n\")"
      ]
    },
    {
      "cell_type": "code",
      "execution_count": null,
      "metadata": {},
      "outputs": [],
      "source": [
        "print(f\"{results['numberMatched']} items found.\")\n",
        "# assert results['numberMatched'] > 0"
      ]
    },
    {
      "cell_type": "code",
      "execution_count": null,
      "metadata": {
        "tags": [
          "remove-input"
        ]
      },
      "outputs": [],
      "source": [
        "pTable = PrettyTable()\n",
        "pTable.align = \"l\"\n",
        "pTable.field_names = [\"Id\", \"Platforms / Instruments\"]\n",
        "\n",
        "for item in results['features']:\n",
        "    id = item['id']\n",
        "    platform = ''\n",
        "    first = True\n",
        "    \n",
        "    for acq in item['properties']['acquisitionInformation']:                \n",
        "        if first:\n",
        "            first = False\n",
        "        else:\n",
        "            platform += ', '\n",
        "        if \"platform\" in acq:\n",
        "            platform += acq['platform']['platformShortName']\n",
        "        if \"instrument\" in acq:\n",
        "            platform += \"/\" + acq['instrument']['instrumentShortName'] \n",
        "    \n",
        "    pTable.add_row([id,platform])\n",
        "\n",
        "print(pTable)"
      ]
    },
    {
      "attachments": {},
      "cell_type": "markdown",
      "metadata": {},
      "source": [
        "```{index} double: CQL2-Text ; IS NULL predicate\n",
        "```\n",
        "```{index} double: CQL2-Text ; TIMESTAMP literal\n",
        "```\n",
        "\n",
        "**Example: 11.3**  \n",
        ">  CQL filter with IS NULL predicate and timestamp literal."
      ]
    },
    {
      "cell_type": "code",
      "execution_count": null,
      "metadata": {},
      "outputs": [],
      "source": [
        "results = w.collection_items(\n",
        "    collection_id = 'series', \n",
        "    limit = 10, \n",
        "    filter = \"otherConstraint is null and modificationDate > TIMESTAMP('2019-01-01T20:17:40Z') and organisationName = 'ESA/ESRIN'\"\n",
        ")"
      ]
    },
    {
      "cell_type": "code",
      "execution_count": null,
      "metadata": {
        "tags": [
          "remove-input"
        ]
      },
      "outputs": [],
      "source": [
        "curl_str = curl_command(w.url_with_parameters())\n",
        "md(\"```shell\\n\" + curl_str + \"\\n```\\n\")"
      ]
    },
    {
      "cell_type": "code",
      "execution_count": null,
      "metadata": {},
      "outputs": [],
      "source": [
        "print(f\"{results['numberMatched']} items found.\")\n",
        "assert results['numberMatched'] > 0"
      ]
    },
    {
      "cell_type": "code",
      "execution_count": null,
      "metadata": {
        "tags": [
          "remove-input"
        ]
      },
      "outputs": [],
      "source": [
        "pTable = PrettyTable()\n",
        "pTable.align = \"l\"\n",
        "pTable.field_names = [\"Id\", \"Modification date\"]\n",
        "\n",
        "for item in results['features']:\n",
        "    pTable.add_row([item['id'],item['properties']['updated']])\n",
        "\n",
        "print(pTable)  "
      ]
    },
    {
      "attachments": {},
      "cell_type": "markdown",
      "metadata": {},
      "source": [
        "```{index} double: CQL2-Text ; comparison operators\n",
        "```\n",
        "\n",
        "**Example: 11.4**  \n",
        ">  CQL filter with comparison operators.  Search granules by cloudCover >= 10 and cloudCover < 20 "
      ]
    },
    {
      "cell_type": "code",
      "execution_count": null,
      "metadata": {},
      "outputs": [],
      "source": [
        "results = w.collection_items(\n",
        "    collection_id = 'IKONOS.ESA.archive',  \n",
        "    limit = 20, \n",
        "    filter = \"cloudCover >= 10 and cloudCover < 20\"\n",
        ")"
      ]
    },
    {
      "cell_type": "code",
      "execution_count": null,
      "metadata": {
        "tags": [
          "remove-input"
        ]
      },
      "outputs": [],
      "source": [
        "curl_str = curl_command(w.url_with_parameters())\n",
        "md(\"```shell\\n\" + curl_str + \"\\n```\\n\")"
      ]
    },
    {
      "cell_type": "code",
      "execution_count": null,
      "metadata": {},
      "outputs": [],
      "source": [
        "print(f\"{results['numberMatched']} items found.\")\n",
        "assert results['numberMatched'] > 0"
      ]
    },
    {
      "cell_type": "code",
      "execution_count": null,
      "metadata": {
        "tags": [
          "remove-input"
        ]
      },
      "outputs": [],
      "source": [
        "pTable = PrettyTable()\n",
        "pTable.align = \"l\"\n",
        "pTable.field_names = [\"Id\", \"Cloud cover\"]\n",
        "\n",
        "for item in results['features']:\n",
        "    pTable.add_row([item['id'],str(item['properties']['productInformation']['cloudCover'])])\n",
        "\n",
        "print(pTable) "
      ]
    },
    {
      "attachments": {},
      "cell_type": "markdown",
      "metadata": {
        "id": "M1xNg9HHSw6o"
      },
      "source": [
        "## Further Reading\n",
        "\n",
        "| **ID**  | **Title** | \n",
        "| -------- | --------- | \n",
        "| `RD07` <a name=\"RD07\"></a> | [OASIS searchRetrieve: Part 3. APD Binding for SRU 2.0 Version 1.0](http://docs.oasis-open.org/search-ws/searchRetrieve/v1.0/os/part3-sru2.0/searchRetrieve-v1.0-os-part3-sru2.0.html) |\n",
        "| `RD19` <a name=\"RD19\"></a> | [ODC STAC - Plot STAC Items on a map ](https://odc-stac.readthedocs.io/en/latest/notebooks/stac-load-e84-aws.html#Plot-STAC-Items-on-a-Map) | \n",
        "| `RD20` <a name=\"RD20\"></a> | [OGC17-069r3, OGC API - Features - Part 1: Core](https://docs.opengeospatial.org/is/17-069r3/17-069r3.html) | \n",
        "| `RD21` <a name=\"RD21\"></a> | [OGC17-079r1, OGC API - Features - Part 3: Filtering](https://docs.opengeospatial.org/DRAFTS/19-079r1.html)  | \n",
        "| `RD22` <a name=\"RD22\"></a> | [OGC21-065, Common Query Language (CQL2)](https://docs.ogc.org/DRAFTS/21-065.html)  | \n",
        "| `RD23` <a name=\"RD23\"></a> | [RFC 7946 - The GeoJSON Format](https://datatracker.ietf.org/doc/html/rfc7946) | \n",
        "| `RD24` <a name=\"RD24\"></a>| [JSON Schema: A Media Type for Describing JSON Documents, draft-handrews-json-schema-02](https://datatracker.ietf.org/doc/html/draft-handrews-json-schema-02) |\n",
        "| `RD25` <a name=\"RD25\"></a>| [STAC API - Collection Search](https://github.com/stac-api-extensions/collection-search) |\n",
        "| `RD26` <a name=\"RD26\"></a>| [STAC API - Filter Extension](https://github.com/stac-api-extensions/filter) |\n",
        "| `RD31` <a name=\"RD31\"></a>| [OWSLib - Usage](https://geopython.github.io/OWSLib/usage.html#ogc-api) |\n",
        "| `RD32` <a name=\"RD32\"></a> | [OGC17-003r2, OGC EO Dataset Metadata GeoJSON(-LD) Encoding Standard](https://docs.opengeospatial.org/is/17-003r2/17-003r2.html)  | \n",
        "| `RD33` <a name=\"RD33\"></a> | [OGC17-047r1, OGC OpenSearch-EO GeoJSON(-LD) Response Encoding Standard](https://docs.ogc.org/is/17-047r1/17-047r1.html)  | \n",
        "| `RD34` <a name=\"RD34\"></a> | [OGC17-084r1, EO Collection GeoJSON(-LD) Encoding Best Practice](https://docs.ogc.org/bp/17-084r1/17-084r1.html)  |\n",
        "| `RD35` <a name=\"RD35\"></a> | [OGC19-020r1, OGC Testbed-15: Catalogue and Discovery Engineering Report](https://docs.ogc.org/per/19-020r1.html)  |\n",
        "| `RD36` <a name=\"RD36\"></a> | [JSON-LD 1.1, A JSON-based Serialization for Linked Data, W3C Recommendation 16 July 2020](https://www.w3.org/TR/json-ld11/)  |\n",
        "| `RD37` <a name=\"RD37\"></a> | [RDF 1.1 XML Syntax, W3C Recommendation 25 February 2014](http://www.w3.org/TR/rdfsyntax-grammar/)  |\n",
        "| `RD38` <a name=\"RD38\"></a> | [RDF 1.1 Turtle, Terse RDF Triple Language, W3C Recommendation 25 February 2014](http://www.w3.org/TR/turtle/)  |\n",
        "| `RD39` <a name=\"RD39\"></a> | [GeoDCAT-AP Version 2.0.0, European Commission](https://semiceu.github.io/GeoDCAT-AP/releases/2.0.0/)  |\n",
        "| `RD40` <a name=\"RD40\"></a> | [Schema.org](https://schema.org/)  |\n",
        "\n",
        "\n",
        "\n",
        "\n"
      ]
    }
  ],
  "metadata": {
    "colab": {
      "provenance": [],
      "toc_visible": true
    },
    "description": "This notebook explains the use of the OGC API-Features interface that can be used with the ESA EO-CAT and CEOS FedEO catalogue endpoints.",
    "kernelspec": {
      "display_name": "Python 3.8.3 64-bit",
      "language": "python",
      "name": "python3"
    },
    "language_info": {
      "codemirror_mode": {
        "name": "ipython",
        "version": 3
      },
      "file_extension": ".py",
      "mimetype": "text/x-python",
      "name": "python",
      "nbconvert_exporter": "python",
      "pygments_lexer": "ipython3",
      "version": "3.11.2"
    },
    "orig_nbformat": 4,
    "potentialAction": [
      {
        "@type": "InteractAction",
        "name": "Launch Binder",
        "target": "https://mybinder.org/v2/gh/eovoc/eo-books/main?urlpath=tree/docs/features.ipynb"
      },
      {
        "@type": "InteractAction",
        "name": "Open in Google Colab",
        "target": "https://colab.research.google.com/github/eovoc/eo-books/blob/main/docs/features.ipynb"
      }
    ],
    "tags": {
      "tags": [
        "EOCAT",
        "FedEO",
        "API-Features",
        "Data Access/Retrieval",
        "Metadata Handling",
        "Service Discovery",
        "Data Discovery",
        "CDA",
        "CEOS",
        "OGC",
        "ESA"
      ]
    },
    "title": "OGC API-Features with GeoJSON",
    "vscode": {
      "interpreter": {
        "hash": "3cbec2c4190cd05a5825fc54a935c704bfdcadcbc05924929a7092025ed22d84"
      }
    }
  },
  "nbformat": 4,
  "nbformat_minor": 0
}
